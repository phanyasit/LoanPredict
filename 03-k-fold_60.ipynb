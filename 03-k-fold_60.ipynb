{
 "cells": [
  {
   "cell_type": "code",
   "execution_count": 1,
   "metadata": {},
   "outputs": [],
   "source": [
    "import pandas as pd\n",
    "import numpy as np\n",
    "from matplotlib import pyplot as plt\n",
    "import matplotlib\n",
    "import seaborn as sns\n",
    "import datetime\n",
    "\n",
    "import matplotlib as mpl\n",
    "fp = mpl.font_manager.FontProperties(family='Tahoma',size=13)\n",
    "\n",
    "%matplotlib inline"
   ]
  },
  {
   "cell_type": "code",
   "execution_count": 2,
   "metadata": {},
   "outputs": [
    {
     "data": {
      "text/html": "<div>\n<style scoped>\n    .dataframe tbody tr th:only-of-type {\n        vertical-align: middle;\n    }\n\n    .dataframe tbody tr th {\n        vertical-align: top;\n    }\n\n    .dataframe thead th {\n        text-align: right;\n    }\n</style>\n<table border=\"1\" class=\"dataframe\">\n  <thead>\n    <tr style=\"text-align: right;\">\n      <th></th>\n      <th>Principal Approve Amount</th>\n      <th>Principal Amount</th>\n      <th>Repayment Tenor Month Number</th>\n      <th>Gender</th>\n      <th>Occupation Description</th>\n      <th>Total Income Amount (Month)</th>\n      <th>Collateral Type Code</th>\n      <th>Vehicle Brand</th>\n      <th>Vehicle Model</th>\n      <th>Vehicle Release Year</th>\n      <th>Vehicle Sub Model</th>\n      <th>Evaluation Amount</th>\n      <th>System CAR Code (Daily)</th>\n      <th>System CAR Code Date</th>\n      <th>Final CAR Code Previous Month</th>\n      <th>DPD</th>\n      <th>age</th>\n      <th>Vehicle Age</th>\n    </tr>\n  </thead>\n  <tbody>\n    <tr>\n      <th>0</th>\n      <td>199000.0</td>\n      <td>199000.00</td>\n      <td>60</td>\n      <td>F</td>\n      <td>STREET VENDOR</td>\n      <td>20000.0</td>\n      <td>PU</td>\n      <td>NISSAN</td>\n      <td>FRONTIER NAVARA</td>\n      <td>2012</td>\n      <td>AD</td>\n      <td>283500</td>\n      <td>S1</td>\n      <td>2022-11-14</td>\n      <td>S1</td>\n      <td>PL</td>\n      <td>44</td>\n      <td>11</td>\n    </tr>\n    <tr>\n      <th>1</th>\n      <td>60000.0</td>\n      <td>58822.04</td>\n      <td>36</td>\n      <td>M</td>\n      <td>อื่นๆ</td>\n      <td>14000.0</td>\n      <td>CAR</td>\n      <td>TOYOTA</td>\n      <td>COROLLA ALTIS</td>\n      <td>2002</td>\n      <td>AJ</td>\n      <td>111000</td>\n      <td>S1</td>\n      <td>2022-09-06</td>\n      <td>S1</td>\n      <td>PL</td>\n      <td>53</td>\n      <td>21</td>\n    </tr>\n    <tr>\n      <th>2</th>\n      <td>36000.0</td>\n      <td>35904.37</td>\n      <td>24</td>\n      <td>F</td>\n      <td>พนักงานบริษัท</td>\n      <td>15000.0</td>\n      <td>MC</td>\n      <td>HONDA</td>\n      <td>CLICK 150I</td>\n      <td>2019</td>\n      <td>BH</td>\n      <td>48500</td>\n      <td>S1</td>\n      <td>2022-12-30</td>\n      <td>S2</td>\n      <td>PL</td>\n      <td>32</td>\n      <td>4</td>\n    </tr>\n    <tr>\n      <th>3</th>\n      <td>30000.0</td>\n      <td>28813.69</td>\n      <td>24</td>\n      <td>F</td>\n      <td>เกษตรกร</td>\n      <td>35000.0</td>\n      <td>MC</td>\n      <td>HONDA</td>\n      <td>PCX 150</td>\n      <td>2020</td>\n      <td>ED</td>\n      <td>76500</td>\n      <td>S1</td>\n      <td>2022-11-12</td>\n      <td>S1</td>\n      <td>PL</td>\n      <td>37</td>\n      <td>3</td>\n    </tr>\n    <tr>\n      <th>5</th>\n      <td>111000.0</td>\n      <td>111000.00</td>\n      <td>60</td>\n      <td>M</td>\n      <td>เกษตรกร</td>\n      <td>12645.0</td>\n      <td>PU</td>\n      <td>TOYOTA</td>\n      <td>HILUX TIGER</td>\n      <td>2003</td>\n      <td>BE</td>\n      <td>190000</td>\n      <td>S1</td>\n      <td>2022-12-15</td>\n      <td>S1</td>\n      <td>PL</td>\n      <td>61</td>\n      <td>20</td>\n    </tr>\n    <tr>\n      <th>...</th>\n      <td>...</td>\n      <td>...</td>\n      <td>...</td>\n      <td>...</td>\n      <td>...</td>\n      <td>...</td>\n      <td>...</td>\n      <td>...</td>\n      <td>...</td>\n      <td>...</td>\n      <td>...</td>\n      <td>...</td>\n      <td>...</td>\n      <td>...</td>\n      <td>...</td>\n      <td>...</td>\n      <td>...</td>\n      <td>...</td>\n    </tr>\n    <tr>\n      <th>1578</th>\n      <td>34000.0</td>\n      <td>34000.00</td>\n      <td>36</td>\n      <td>M</td>\n      <td>อื่นๆ</td>\n      <td>14000.0</td>\n      <td>MC</td>\n      <td>HONDA</td>\n      <td>DREAM 110I</td>\n      <td>2017</td>\n      <td>CO</td>\n      <td>53000</td>\n      <td>S3</td>\n      <td>2022-12-14</td>\n      <td>S2</td>\n      <td>NPL</td>\n      <td>22</td>\n      <td>6</td>\n    </tr>\n    <tr>\n      <th>1579</th>\n      <td>154000.0</td>\n      <td>154000.00</td>\n      <td>48</td>\n      <td>M</td>\n      <td>อื่นๆ</td>\n      <td>9500.0</td>\n      <td>PU</td>\n      <td>TOYOTA</td>\n      <td>HILUX VIGO</td>\n      <td>2005</td>\n      <td>CT</td>\n      <td>192000</td>\n      <td>S3</td>\n      <td>2022-12-27</td>\n      <td>S2</td>\n      <td>NPL</td>\n      <td>47</td>\n      <td>18</td>\n    </tr>\n    <tr>\n      <th>1580</th>\n      <td>14000.0</td>\n      <td>14000.00</td>\n      <td>12</td>\n      <td>F</td>\n      <td>STREET VENDOR</td>\n      <td>15000.0</td>\n      <td>MC</td>\n      <td>YAMAHA</td>\n      <td>FINO (MLEKE)</td>\n      <td>2009</td>\n      <td>AH</td>\n      <td>23000</td>\n      <td>S3</td>\n      <td>2022-12-24</td>\n      <td>S2</td>\n      <td>NPL</td>\n      <td>67</td>\n      <td>14</td>\n    </tr>\n    <tr>\n      <th>1583</th>\n      <td>144000.0</td>\n      <td>144000.00</td>\n      <td>60</td>\n      <td>M</td>\n      <td>ข้าราชการ</td>\n      <td>36000.0</td>\n      <td>CAR</td>\n      <td>TOYOTA</td>\n      <td>VIOS</td>\n      <td>2010</td>\n      <td>DX</td>\n      <td>222000</td>\n      <td>S3</td>\n      <td>2022-12-29</td>\n      <td>S2</td>\n      <td>NPL</td>\n      <td>54</td>\n      <td>13</td>\n    </tr>\n    <tr>\n      <th>1585</th>\n      <td>39000.0</td>\n      <td>39000.00</td>\n      <td>36</td>\n      <td>F</td>\n      <td>พนักงานบริษัท</td>\n      <td>15000.0</td>\n      <td>MC</td>\n      <td>HONDA</td>\n      <td>DREAM 110I</td>\n      <td>2017</td>\n      <td>CO</td>\n      <td>53000</td>\n      <td>S3</td>\n      <td>2022-12-29</td>\n      <td>S2</td>\n      <td>NPL</td>\n      <td>35</td>\n      <td>6</td>\n    </tr>\n  </tbody>\n</table>\n<p>1297 rows × 18 columns</p>\n</div>",
      "text/plain": "      Principal Approve Amount  Principal Amount  \\\n0                     199000.0         199000.00   \n1                      60000.0          58822.04   \n2                      36000.0          35904.37   \n3                      30000.0          28813.69   \n5                     111000.0         111000.00   \n...                        ...               ...   \n1578                   34000.0          34000.00   \n1579                  154000.0         154000.00   \n1580                   14000.0          14000.00   \n1583                  144000.0         144000.00   \n1585                   39000.0          39000.00   \n\n      Repayment Tenor Month Number Gender Occupation Description  \\\n0                               60      F          STREET VENDOR   \n1                               36      M                  อื่นๆ   \n2                               24      F          พนักงานบริษัท   \n3                               24      F                เกษตรกร   \n5                               60      M                เกษตรกร   \n...                            ...    ...                    ...   \n1578                            36      M                  อื่นๆ   \n1579                            48      M                  อื่นๆ   \n1580                            12      F          STREET VENDOR   \n1583                            60      M              ข้าราชการ   \n1585                            36      F          พนักงานบริษัท   \n\n      Total Income Amount (Month) Collateral Type Code Vehicle Brand  \\\n0                         20000.0                   PU        NISSAN   \n1                         14000.0                  CAR        TOYOTA   \n2                         15000.0                   MC         HONDA   \n3                         35000.0                   MC         HONDA   \n5                         12645.0                   PU        TOYOTA   \n...                           ...                  ...           ...   \n1578                      14000.0                   MC         HONDA   \n1579                       9500.0                   PU        TOYOTA   \n1580                      15000.0                   MC        YAMAHA   \n1583                      36000.0                  CAR        TOYOTA   \n1585                      15000.0                   MC         HONDA   \n\n        Vehicle Model  Vehicle Release Year Vehicle Sub Model  \\\n0     FRONTIER NAVARA                  2012                AD   \n1       COROLLA ALTIS                  2002                AJ   \n2          CLICK 150I                  2019                BH   \n3             PCX 150                  2020                ED   \n5         HILUX TIGER                  2003                BE   \n...               ...                   ...               ...   \n1578       DREAM 110I                  2017                CO   \n1579       HILUX VIGO                  2005                CT   \n1580     FINO (MLEKE)                  2009                AH   \n1583             VIOS                  2010                DX   \n1585       DREAM 110I                  2017                CO   \n\n      Evaluation Amount System CAR Code (Daily) System CAR Code Date  \\\n0                283500                      S1           2022-11-14   \n1                111000                      S1           2022-09-06   \n2                 48500                      S1           2022-12-30   \n3                 76500                      S1           2022-11-12   \n5                190000                      S1           2022-12-15   \n...                 ...                     ...                  ...   \n1578              53000                      S3           2022-12-14   \n1579             192000                      S3           2022-12-27   \n1580              23000                      S3           2022-12-24   \n1583             222000                      S3           2022-12-29   \n1585              53000                      S3           2022-12-29   \n\n     Final CAR Code Previous Month  DPD  age  Vehicle Age  \n0                               S1   PL   44           11  \n1                               S1   PL   53           21  \n2                               S2   PL   32            4  \n3                               S1   PL   37            3  \n5                               S1   PL   61           20  \n...                            ...  ...  ...          ...  \n1578                            S2  NPL   22            6  \n1579                            S2  NPL   47           18  \n1580                            S2  NPL   67           14  \n1583                            S2  NPL   54           13  \n1585                            S2  NPL   35            6  \n\n[1297 rows x 18 columns]"
     },
     "execution_count": 2,
     "metadata": {},
     "output_type": "execute_result"
    }
   ],
   "source": [
    "#df = pd.read_csv('chaiyo_encode_data.csv', index_col=0)\r\n",
    "df = pd.read_csv('chaiyo_clean_60.csv', index_col=0)\r\n",
    "df"
   ]
  },
  {
   "cell_type": "code",
   "execution_count": 3,
   "metadata": {},
   "outputs": [
    {
     "data": {
      "text/plain": "(1165, 18)"
     },
     "execution_count": 3,
     "metadata": {},
     "output_type": "execute_result"
    }
   ],
   "source": [
    "df[df['DPD']=='PL'].shape"
   ]
  },
  {
   "cell_type": "code",
   "execution_count": 4,
   "metadata": {},
   "outputs": [
    {
     "data": {
      "text/plain": "(132, 18)"
     },
     "execution_count": 4,
     "metadata": {},
     "output_type": "execute_result"
    }
   ],
   "source": [
    "df[df['DPD']=='NPL'].shape"
   ]
  },
  {
   "cell_type": "code",
   "execution_count": 5,
   "metadata": {},
   "outputs": [],
   "source": [
    "from sklearn.preprocessing import LabelEncoder\n",
    "cols = ['Gender','Occupation Description','Collateral Type Code','Vehicle Brand','Vehicle Model','System CAR Code (Daily)','Final CAR Code Previous Month']\n",
    "\n",
    "le = LabelEncoder()\n",
    "for col in cols:\n",
    "    df[col] = le.fit_transform(df[col])"
   ]
  },
  {
   "cell_type": "code",
   "execution_count": 6,
   "metadata": {},
   "outputs": [
    {
     "name": "stdout",
     "output_type": "stream",
     "text": [
      "<class 'pandas.core.frame.DataFrame'>\n",
      "Int64Index: 1297 entries, 0 to 1585\n",
      "Data columns (total 18 columns):\n",
      " #   Column                         Non-Null Count  Dtype  \n",
      "---  ------                         --------------  -----  \n",
      " 0   Principal Approve Amount       1297 non-null   float64\n",
      " 1   Principal Amount               1297 non-null   float64\n",
      " 2   Repayment Tenor Month Number   1297 non-null   int64  \n",
      " 3   Gender                         1297 non-null   int32  \n",
      " 4   Occupation Description         1297 non-null   int32  \n",
      " 5   Total Income Amount (Month)    1297 non-null   float64\n",
      " 6   Collateral Type Code           1297 non-null   int32  \n",
      " 7   Vehicle Brand                  1297 non-null   int32  \n",
      " 8   Vehicle Model                  1297 non-null   int32  \n",
      " 9   Vehicle Release Year           1297 non-null   int64  \n",
      " 10  Vehicle Sub Model              1297 non-null   object \n",
      " 11  Evaluation Amount              1297 non-null   int64  \n",
      " 12  System CAR Code (Daily)        1297 non-null   int32  \n",
      " 13  System CAR Code Date           1297 non-null   object \n",
      " 14  Final CAR Code Previous Month  1297 non-null   int32  \n",
      " 15  DPD                            1297 non-null   object \n",
      " 16  age                            1297 non-null   int64  \n",
      " 17  Vehicle Age                    1297 non-null   int64  \n",
      "dtypes: float64(3), int32(7), int64(5), object(3)\n",
      "memory usage: 157.1+ KB\n"
     ]
    }
   ],
   "source": [
    "df.info()"
   ]
  },
  {
   "cell_type": "code",
   "execution_count": 7,
   "metadata": {},
   "outputs": [
    {
     "data": {
      "text/html": "<div>\n<style scoped>\n    .dataframe tbody tr th:only-of-type {\n        vertical-align: middle;\n    }\n\n    .dataframe tbody tr th {\n        vertical-align: top;\n    }\n\n    .dataframe thead th {\n        text-align: right;\n    }\n</style>\n<table border=\"1\" class=\"dataframe\">\n  <thead>\n    <tr style=\"text-align: right;\">\n      <th></th>\n      <th>Principal Approve Amount</th>\n      <th>Principal Amount</th>\n      <th>Repayment Tenor Month Number</th>\n      <th>Gender</th>\n      <th>Occupation Description</th>\n      <th>Total Income Amount (Month)</th>\n      <th>Collateral Type Code</th>\n      <th>Vehicle Brand</th>\n      <th>Vehicle Model</th>\n      <th>Vehicle Release Year</th>\n      <th>Evaluation Amount</th>\n      <th>System CAR Code (Daily)</th>\n      <th>Final CAR Code Previous Month</th>\n      <th>age</th>\n      <th>Vehicle Age</th>\n    </tr>\n  </thead>\n  <tbody>\n    <tr>\n      <th>count</th>\n      <td>1297.000000</td>\n      <td>1297.000000</td>\n      <td>1297.000000</td>\n      <td>1297.000000</td>\n      <td>1297.000000</td>\n      <td>1297.000000</td>\n      <td>1297.000000</td>\n      <td>1297.000000</td>\n      <td>1297.000000</td>\n      <td>1297.000000</td>\n      <td>1297.000000</td>\n      <td>1297.000000</td>\n      <td>1297.000000</td>\n      <td>1297.000000</td>\n      <td>1297.000000</td>\n    </tr>\n    <tr>\n      <th>mean</th>\n      <td>66282.974495</td>\n      <td>65577.762845</td>\n      <td>35.500386</td>\n      <td>0.457980</td>\n      <td>3.548959</td>\n      <td>18488.248072</td>\n      <td>1.004626</td>\n      <td>8.295297</td>\n      <td>83.983038</td>\n      <td>2012.670008</td>\n      <td>104138.936006</td>\n      <td>0.518119</td>\n      <td>0.147263</td>\n      <td>40.406322</td>\n      <td>10.329992</td>\n    </tr>\n    <tr>\n      <th>std</th>\n      <td>70394.654619</td>\n      <td>70346.879353</td>\n      <td>15.665786</td>\n      <td>0.498423</td>\n      <td>2.642416</td>\n      <td>6867.098508</td>\n      <td>0.607294</td>\n      <td>4.861659</td>\n      <td>41.629869</td>\n      <td>5.440671</td>\n      <td>108159.060480</td>\n      <td>0.628431</td>\n      <td>0.365225</td>\n      <td>10.305925</td>\n      <td>5.440671</td>\n    </tr>\n    <tr>\n      <th>min</th>\n      <td>3000.000000</td>\n      <td>2110.760000</td>\n      <td>12.000000</td>\n      <td>0.000000</td>\n      <td>0.000000</td>\n      <td>6500.000000</td>\n      <td>0.000000</td>\n      <td>0.000000</td>\n      <td>0.000000</td>\n      <td>1990.000000</td>\n      <td>10000.000000</td>\n      <td>0.000000</td>\n      <td>0.000000</td>\n      <td>21.000000</td>\n      <td>1.000000</td>\n    </tr>\n    <tr>\n      <th>25%</th>\n      <td>21000.000000</td>\n      <td>20160.780000</td>\n      <td>24.000000</td>\n      <td>0.000000</td>\n      <td>0.000000</td>\n      <td>13500.000000</td>\n      <td>1.000000</td>\n      <td>5.000000</td>\n      <td>42.000000</td>\n      <td>2009.000000</td>\n      <td>34900.000000</td>\n      <td>0.000000</td>\n      <td>0.000000</td>\n      <td>33.000000</td>\n      <td>6.000000</td>\n    </tr>\n    <tr>\n      <th>50%</th>\n      <td>30000.000000</td>\n      <td>29000.000000</td>\n      <td>36.000000</td>\n      <td>0.000000</td>\n      <td>3.000000</td>\n      <td>17000.000000</td>\n      <td>1.000000</td>\n      <td>5.000000</td>\n      <td>95.000000</td>\n      <td>2013.000000</td>\n      <td>43000.000000</td>\n      <td>0.000000</td>\n      <td>0.000000</td>\n      <td>39.000000</td>\n      <td>10.000000</td>\n    </tr>\n    <tr>\n      <th>75%</th>\n      <td>100000.000000</td>\n      <td>100000.000000</td>\n      <td>48.000000</td>\n      <td>1.000000</td>\n      <td>6.000000</td>\n      <td>22000.000000</td>\n      <td>1.000000</td>\n      <td>15.000000</td>\n      <td>127.000000</td>\n      <td>2017.000000</td>\n      <td>180000.000000</td>\n      <td>1.000000</td>\n      <td>0.000000</td>\n      <td>47.000000</td>\n      <td>14.000000</td>\n    </tr>\n    <tr>\n      <th>max</th>\n      <td>290000.000000</td>\n      <td>284719.660000</td>\n      <td>60.000000</td>\n      <td>1.000000</td>\n      <td>8.000000</td>\n      <td>39600.000000</td>\n      <td>4.000000</td>\n      <td>17.000000</td>\n      <td>138.000000</td>\n      <td>2022.000000</td>\n      <td>831000.000000</td>\n      <td>2.000000</td>\n      <td>2.000000</td>\n      <td>69.000000</td>\n      <td>33.000000</td>\n    </tr>\n  </tbody>\n</table>\n</div>",
      "text/plain": "       Principal Approve Amount  Principal Amount  \\\ncount               1297.000000       1297.000000   \nmean               66282.974495      65577.762845   \nstd                70394.654619      70346.879353   \nmin                 3000.000000       2110.760000   \n25%                21000.000000      20160.780000   \n50%                30000.000000      29000.000000   \n75%               100000.000000     100000.000000   \nmax               290000.000000     284719.660000   \n\n       Repayment Tenor Month Number       Gender  Occupation Description  \\\ncount                   1297.000000  1297.000000             1297.000000   \nmean                      35.500386     0.457980                3.548959   \nstd                       15.665786     0.498423                2.642416   \nmin                       12.000000     0.000000                0.000000   \n25%                       24.000000     0.000000                0.000000   \n50%                       36.000000     0.000000                3.000000   \n75%                       48.000000     1.000000                6.000000   \nmax                       60.000000     1.000000                8.000000   \n\n       Total Income Amount (Month)  Collateral Type Code  Vehicle Brand  \\\ncount                  1297.000000           1297.000000    1297.000000   \nmean                  18488.248072              1.004626       8.295297   \nstd                    6867.098508              0.607294       4.861659   \nmin                    6500.000000              0.000000       0.000000   \n25%                   13500.000000              1.000000       5.000000   \n50%                   17000.000000              1.000000       5.000000   \n75%                   22000.000000              1.000000      15.000000   \nmax                   39600.000000              4.000000      17.000000   \n\n       Vehicle Model  Vehicle Release Year  Evaluation Amount  \\\ncount    1297.000000           1297.000000        1297.000000   \nmean       83.983038           2012.670008      104138.936006   \nstd        41.629869              5.440671      108159.060480   \nmin         0.000000           1990.000000       10000.000000   \n25%        42.000000           2009.000000       34900.000000   \n50%        95.000000           2013.000000       43000.000000   \n75%       127.000000           2017.000000      180000.000000   \nmax       138.000000           2022.000000      831000.000000   \n\n       System CAR Code (Daily)  Final CAR Code Previous Month          age  \\\ncount              1297.000000                    1297.000000  1297.000000   \nmean                  0.518119                       0.147263    40.406322   \nstd                   0.628431                       0.365225    10.305925   \nmin                   0.000000                       0.000000    21.000000   \n25%                   0.000000                       0.000000    33.000000   \n50%                   0.000000                       0.000000    39.000000   \n75%                   1.000000                       0.000000    47.000000   \nmax                   2.000000                       2.000000    69.000000   \n\n       Vehicle Age  \ncount  1297.000000  \nmean     10.329992  \nstd       5.440671  \nmin       1.000000  \n25%       6.000000  \n50%      10.000000  \n75%      14.000000  \nmax      33.000000  "
     },
     "execution_count": 7,
     "metadata": {},
     "output_type": "execute_result"
    }
   ],
   "source": [
    "df.describe()"
   ]
  },
  {
   "cell_type": "code",
   "execution_count": 8,
   "metadata": {},
   "outputs": [
    {
     "data": {
      "text/html": "<div>\n<style scoped>\n    .dataframe tbody tr th:only-of-type {\n        vertical-align: middle;\n    }\n\n    .dataframe tbody tr th {\n        vertical-align: top;\n    }\n\n    .dataframe thead th {\n        text-align: right;\n    }\n</style>\n<table border=\"1\" class=\"dataframe\">\n  <thead>\n    <tr style=\"text-align: right;\">\n      <th></th>\n      <th>Principal Approve Amount</th>\n      <th>Principal Amount</th>\n      <th>Repayment Tenor Month Number</th>\n      <th>Gender</th>\n      <th>Occupation Description</th>\n      <th>Total Income Amount (Month)</th>\n      <th>Collateral Type Code</th>\n      <th>Vehicle Brand</th>\n      <th>Vehicle Model</th>\n      <th>Vehicle Release Year</th>\n      <th>Evaluation Amount</th>\n      <th>System CAR Code (Daily)</th>\n      <th>Final CAR Code Previous Month</th>\n      <th>age</th>\n      <th>Vehicle Age</th>\n    </tr>\n  </thead>\n  <tbody>\n    <tr>\n      <th>count</th>\n      <td>1297.00</td>\n      <td>1297.00</td>\n      <td>1297.00</td>\n      <td>1297.00</td>\n      <td>1297.00</td>\n      <td>1297.00</td>\n      <td>1297.00</td>\n      <td>1297.00</td>\n      <td>1297.00</td>\n      <td>1297.00</td>\n      <td>1297.00</td>\n      <td>1297.00</td>\n      <td>1297.00</td>\n      <td>1297.00</td>\n      <td>1297.00</td>\n    </tr>\n    <tr>\n      <th>mean</th>\n      <td>66282.97</td>\n      <td>65577.76</td>\n      <td>35.50</td>\n      <td>0.46</td>\n      <td>3.55</td>\n      <td>18488.25</td>\n      <td>1.00</td>\n      <td>8.30</td>\n      <td>83.98</td>\n      <td>2012.67</td>\n      <td>104138.94</td>\n      <td>0.52</td>\n      <td>0.15</td>\n      <td>40.41</td>\n      <td>10.33</td>\n    </tr>\n    <tr>\n      <th>std</th>\n      <td>70394.65</td>\n      <td>70346.88</td>\n      <td>15.67</td>\n      <td>0.50</td>\n      <td>2.64</td>\n      <td>6867.10</td>\n      <td>0.61</td>\n      <td>4.86</td>\n      <td>41.63</td>\n      <td>5.44</td>\n      <td>108159.06</td>\n      <td>0.63</td>\n      <td>0.37</td>\n      <td>10.31</td>\n      <td>5.44</td>\n    </tr>\n    <tr>\n      <th>min</th>\n      <td>3000.00</td>\n      <td>2110.76</td>\n      <td>12.00</td>\n      <td>0.00</td>\n      <td>0.00</td>\n      <td>6500.00</td>\n      <td>0.00</td>\n      <td>0.00</td>\n      <td>0.00</td>\n      <td>1990.00</td>\n      <td>10000.00</td>\n      <td>0.00</td>\n      <td>0.00</td>\n      <td>21.00</td>\n      <td>1.00</td>\n    </tr>\n    <tr>\n      <th>25%</th>\n      <td>21000.00</td>\n      <td>20160.78</td>\n      <td>24.00</td>\n      <td>0.00</td>\n      <td>0.00</td>\n      <td>13500.00</td>\n      <td>1.00</td>\n      <td>5.00</td>\n      <td>42.00</td>\n      <td>2009.00</td>\n      <td>34900.00</td>\n      <td>0.00</td>\n      <td>0.00</td>\n      <td>33.00</td>\n      <td>6.00</td>\n    </tr>\n    <tr>\n      <th>50%</th>\n      <td>30000.00</td>\n      <td>29000.00</td>\n      <td>36.00</td>\n      <td>0.00</td>\n      <td>3.00</td>\n      <td>17000.00</td>\n      <td>1.00</td>\n      <td>5.00</td>\n      <td>95.00</td>\n      <td>2013.00</td>\n      <td>43000.00</td>\n      <td>0.00</td>\n      <td>0.00</td>\n      <td>39.00</td>\n      <td>10.00</td>\n    </tr>\n    <tr>\n      <th>75%</th>\n      <td>100000.00</td>\n      <td>100000.00</td>\n      <td>48.00</td>\n      <td>1.00</td>\n      <td>6.00</td>\n      <td>22000.00</td>\n      <td>1.00</td>\n      <td>15.00</td>\n      <td>127.00</td>\n      <td>2017.00</td>\n      <td>180000.00</td>\n      <td>1.00</td>\n      <td>0.00</td>\n      <td>47.00</td>\n      <td>14.00</td>\n    </tr>\n    <tr>\n      <th>max</th>\n      <td>290000.00</td>\n      <td>284719.66</td>\n      <td>60.00</td>\n      <td>1.00</td>\n      <td>8.00</td>\n      <td>39600.00</td>\n      <td>4.00</td>\n      <td>17.00</td>\n      <td>138.00</td>\n      <td>2022.00</td>\n      <td>831000.00</td>\n      <td>2.00</td>\n      <td>2.00</td>\n      <td>69.00</td>\n      <td>33.00</td>\n    </tr>\n  </tbody>\n</table>\n</div>",
      "text/plain": "       Principal Approve Amount  Principal Amount  \\\ncount                   1297.00           1297.00   \nmean                   66282.97          65577.76   \nstd                    70394.65          70346.88   \nmin                     3000.00           2110.76   \n25%                    21000.00          20160.78   \n50%                    30000.00          29000.00   \n75%                   100000.00         100000.00   \nmax                   290000.00         284719.66   \n\n       Repayment Tenor Month Number   Gender  Occupation Description  \\\ncount                       1297.00  1297.00                 1297.00   \nmean                          35.50     0.46                    3.55   \nstd                           15.67     0.50                    2.64   \nmin                           12.00     0.00                    0.00   \n25%                           24.00     0.00                    0.00   \n50%                           36.00     0.00                    3.00   \n75%                           48.00     1.00                    6.00   \nmax                           60.00     1.00                    8.00   \n\n       Total Income Amount (Month)  Collateral Type Code  Vehicle Brand  \\\ncount                      1297.00               1297.00        1297.00   \nmean                      18488.25                  1.00           8.30   \nstd                        6867.10                  0.61           4.86   \nmin                        6500.00                  0.00           0.00   \n25%                       13500.00                  1.00           5.00   \n50%                       17000.00                  1.00           5.00   \n75%                       22000.00                  1.00          15.00   \nmax                       39600.00                  4.00          17.00   \n\n       Vehicle Model  Vehicle Release Year  Evaluation Amount  \\\ncount        1297.00               1297.00            1297.00   \nmean           83.98               2012.67          104138.94   \nstd            41.63                  5.44          108159.06   \nmin             0.00               1990.00           10000.00   \n25%            42.00               2009.00           34900.00   \n50%            95.00               2013.00           43000.00   \n75%           127.00               2017.00          180000.00   \nmax           138.00               2022.00          831000.00   \n\n       System CAR Code (Daily)  Final CAR Code Previous Month      age  \\\ncount                  1297.00                        1297.00  1297.00   \nmean                      0.52                           0.15    40.41   \nstd                       0.63                           0.37    10.31   \nmin                       0.00                           0.00    21.00   \n25%                       0.00                           0.00    33.00   \n50%                       0.00                           0.00    39.00   \n75%                       1.00                           0.00    47.00   \nmax                       2.00                           2.00    69.00   \n\n       Vehicle Age  \ncount      1297.00  \nmean         10.33  \nstd           5.44  \nmin           1.00  \n25%           6.00  \n50%          10.00  \n75%          14.00  \nmax          33.00  "
     },
     "execution_count": 8,
     "metadata": {},
     "output_type": "execute_result"
    }
   ],
   "source": [
    "df.describe().round(2)"
   ]
  },
  {
   "cell_type": "code",
   "execution_count": 9,
   "metadata": {},
   "outputs": [
    {
     "data": {
      "text/plain": "Index(['Principal Approve Amount', 'Principal Amount',\n       'Repayment Tenor Month Number', 'Gender', 'Occupation Description',\n       'Total Income Amount (Month)', 'Collateral Type Code', 'Vehicle Brand',\n       'Vehicle Model', 'Vehicle Release Year', 'Vehicle Sub Model',\n       'Evaluation Amount', 'System CAR Code (Daily)', 'System CAR Code Date',\n       'Final CAR Code Previous Month', 'DPD', 'age', 'Vehicle Age'],\n      dtype='object')"
     },
     "execution_count": 9,
     "metadata": {},
     "output_type": "execute_result"
    }
   ],
   "source": [
    "df.columns"
   ]
  },
  {
   "cell_type": "code",
   "execution_count": 10,
   "metadata": {},
   "outputs": [
    {
     "data": {
      "text/html": "<div>\n<style scoped>\n    .dataframe tbody tr th:only-of-type {\n        vertical-align: middle;\n    }\n\n    .dataframe tbody tr th {\n        vertical-align: top;\n    }\n\n    .dataframe thead th {\n        text-align: right;\n    }\n</style>\n<table border=\"1\" class=\"dataframe\">\n  <thead>\n    <tr style=\"text-align: right;\">\n      <th></th>\n      <th>Principal Approve Amount</th>\n      <th>Principal Amount</th>\n      <th>Repayment Tenor Month Number</th>\n      <th>Gender</th>\n      <th>Occupation Description</th>\n      <th>Total Income Amount (Month)</th>\n      <th>Collateral Type Code</th>\n      <th>Vehicle Brand</th>\n      <th>Vehicle Model</th>\n      <th>Vehicle Release Year</th>\n      <th>Vehicle Sub Model</th>\n      <th>Evaluation Amount</th>\n      <th>System CAR Code (Daily)</th>\n      <th>System CAR Code Date</th>\n      <th>Final CAR Code Previous Month</th>\n      <th>DPD</th>\n      <th>age</th>\n      <th>Vehicle Age</th>\n    </tr>\n  </thead>\n  <tbody>\n    <tr>\n      <th>0</th>\n      <td>199000.0</td>\n      <td>199000.00</td>\n      <td>60</td>\n      <td>0</td>\n      <td>0</td>\n      <td>20000.0</td>\n      <td>2</td>\n      <td>11</td>\n      <td>60</td>\n      <td>2012</td>\n      <td>AD</td>\n      <td>283500</td>\n      <td>0</td>\n      <td>2022-11-14</td>\n      <td>0</td>\n      <td>PL</td>\n      <td>44</td>\n      <td>11</td>\n    </tr>\n    <tr>\n      <th>1</th>\n      <td>60000.0</td>\n      <td>58822.04</td>\n      <td>36</td>\n      <td>1</td>\n      <td>6</td>\n      <td>14000.0</td>\n      <td>0</td>\n      <td>15</td>\n      <td>31</td>\n      <td>2002</td>\n      <td>AJ</td>\n      <td>111000</td>\n      <td>0</td>\n      <td>2022-09-06</td>\n      <td>0</td>\n      <td>PL</td>\n      <td>53</td>\n      <td>21</td>\n    </tr>\n    <tr>\n      <th>2</th>\n      <td>36000.0</td>\n      <td>35904.37</td>\n      <td>24</td>\n      <td>0</td>\n      <td>3</td>\n      <td>15000.0</td>\n      <td>1</td>\n      <td>5</td>\n      <td>25</td>\n      <td>2019</td>\n      <td>BH</td>\n      <td>48500</td>\n      <td>0</td>\n      <td>2022-12-30</td>\n      <td>1</td>\n      <td>PL</td>\n      <td>32</td>\n      <td>4</td>\n    </tr>\n    <tr>\n      <th>3</th>\n      <td>30000.0</td>\n      <td>28813.69</td>\n      <td>24</td>\n      <td>0</td>\n      <td>7</td>\n      <td>35000.0</td>\n      <td>1</td>\n      <td>5</td>\n      <td>95</td>\n      <td>2020</td>\n      <td>ED</td>\n      <td>76500</td>\n      <td>0</td>\n      <td>2022-11-12</td>\n      <td>0</td>\n      <td>PL</td>\n      <td>37</td>\n      <td>3</td>\n    </tr>\n    <tr>\n      <th>5</th>\n      <td>111000.0</td>\n      <td>111000.00</td>\n      <td>60</td>\n      <td>1</td>\n      <td>7</td>\n      <td>12645.0</td>\n      <td>2</td>\n      <td>15</td>\n      <td>65</td>\n      <td>2003</td>\n      <td>BE</td>\n      <td>190000</td>\n      <td>0</td>\n      <td>2022-12-15</td>\n      <td>0</td>\n      <td>PL</td>\n      <td>61</td>\n      <td>20</td>\n    </tr>\n  </tbody>\n</table>\n</div>",
      "text/plain": "   Principal Approve Amount  Principal Amount  Repayment Tenor Month Number  \\\n0                  199000.0         199000.00                            60   \n1                   60000.0          58822.04                            36   \n2                   36000.0          35904.37                            24   \n3                   30000.0          28813.69                            24   \n5                  111000.0         111000.00                            60   \n\n   Gender  Occupation Description  Total Income Amount (Month)  \\\n0       0                       0                      20000.0   \n1       1                       6                      14000.0   \n2       0                       3                      15000.0   \n3       0                       7                      35000.0   \n5       1                       7                      12645.0   \n\n   Collateral Type Code  Vehicle Brand  Vehicle Model  Vehicle Release Year  \\\n0                     2             11             60                  2012   \n1                     0             15             31                  2002   \n2                     1              5             25                  2019   \n3                     1              5             95                  2020   \n5                     2             15             65                  2003   \n\n  Vehicle Sub Model  Evaluation Amount  System CAR Code (Daily)  \\\n0                AD             283500                        0   \n1                AJ             111000                        0   \n2                BH              48500                        0   \n3                ED              76500                        0   \n5                BE             190000                        0   \n\n  System CAR Code Date  Final CAR Code Previous Month DPD  age  Vehicle Age  \n0           2022-11-14                              0  PL   44           11  \n1           2022-09-06                              0  PL   53           21  \n2           2022-12-30                              1  PL   32            4  \n3           2022-11-12                              0  PL   37            3  \n5           2022-12-15                              0  PL   61           20  "
     },
     "execution_count": 10,
     "metadata": {},
     "output_type": "execute_result"
    }
   ],
   "source": [
    "df.head(5)"
   ]
  },
  {
   "cell_type": "code",
   "execution_count": 11,
   "metadata": {},
   "outputs": [
    {
     "data": {
      "text/html": "<div>\n<style scoped>\n    .dataframe tbody tr th:only-of-type {\n        vertical-align: middle;\n    }\n\n    .dataframe tbody tr th {\n        vertical-align: top;\n    }\n\n    .dataframe thead th {\n        text-align: right;\n    }\n</style>\n<table border=\"1\" class=\"dataframe\">\n  <thead>\n    <tr style=\"text-align: right;\">\n      <th></th>\n      <th>Principal Approve Amount</th>\n      <th>Principal Amount</th>\n      <th>Repayment Tenor Month Number</th>\n      <th>Gender</th>\n      <th>Occupation Description</th>\n      <th>Total Income Amount (Month)</th>\n      <th>Collateral Type Code</th>\n      <th>Vehicle Brand</th>\n      <th>Vehicle Model</th>\n      <th>Vehicle Release Year</th>\n      <th>Evaluation Amount</th>\n      <th>System CAR Code (Daily)</th>\n      <th>Final CAR Code Previous Month</th>\n      <th>age</th>\n      <th>Vehicle Age</th>\n    </tr>\n  </thead>\n  <tbody>\n    <tr>\n      <th>count</th>\n      <td>1297.00</td>\n      <td>1297.00</td>\n      <td>1297.00</td>\n      <td>1297.00</td>\n      <td>1297.00</td>\n      <td>1297.00</td>\n      <td>1297.00</td>\n      <td>1297.00</td>\n      <td>1297.00</td>\n      <td>1297.00</td>\n      <td>1297.00</td>\n      <td>1297.00</td>\n      <td>1297.00</td>\n      <td>1297.00</td>\n      <td>1297.00</td>\n    </tr>\n    <tr>\n      <th>mean</th>\n      <td>66282.97</td>\n      <td>65577.76</td>\n      <td>35.50</td>\n      <td>0.46</td>\n      <td>3.55</td>\n      <td>18488.25</td>\n      <td>1.00</td>\n      <td>8.30</td>\n      <td>83.98</td>\n      <td>2012.67</td>\n      <td>104138.94</td>\n      <td>0.52</td>\n      <td>0.15</td>\n      <td>40.41</td>\n      <td>10.33</td>\n    </tr>\n    <tr>\n      <th>std</th>\n      <td>70394.65</td>\n      <td>70346.88</td>\n      <td>15.67</td>\n      <td>0.50</td>\n      <td>2.64</td>\n      <td>6867.10</td>\n      <td>0.61</td>\n      <td>4.86</td>\n      <td>41.63</td>\n      <td>5.44</td>\n      <td>108159.06</td>\n      <td>0.63</td>\n      <td>0.37</td>\n      <td>10.31</td>\n      <td>5.44</td>\n    </tr>\n    <tr>\n      <th>min</th>\n      <td>3000.00</td>\n      <td>2110.76</td>\n      <td>12.00</td>\n      <td>0.00</td>\n      <td>0.00</td>\n      <td>6500.00</td>\n      <td>0.00</td>\n      <td>0.00</td>\n      <td>0.00</td>\n      <td>1990.00</td>\n      <td>10000.00</td>\n      <td>0.00</td>\n      <td>0.00</td>\n      <td>21.00</td>\n      <td>1.00</td>\n    </tr>\n    <tr>\n      <th>25%</th>\n      <td>21000.00</td>\n      <td>20160.78</td>\n      <td>24.00</td>\n      <td>0.00</td>\n      <td>0.00</td>\n      <td>13500.00</td>\n      <td>1.00</td>\n      <td>5.00</td>\n      <td>42.00</td>\n      <td>2009.00</td>\n      <td>34900.00</td>\n      <td>0.00</td>\n      <td>0.00</td>\n      <td>33.00</td>\n      <td>6.00</td>\n    </tr>\n    <tr>\n      <th>50%</th>\n      <td>30000.00</td>\n      <td>29000.00</td>\n      <td>36.00</td>\n      <td>0.00</td>\n      <td>3.00</td>\n      <td>17000.00</td>\n      <td>1.00</td>\n      <td>5.00</td>\n      <td>95.00</td>\n      <td>2013.00</td>\n      <td>43000.00</td>\n      <td>0.00</td>\n      <td>0.00</td>\n      <td>39.00</td>\n      <td>10.00</td>\n    </tr>\n    <tr>\n      <th>75%</th>\n      <td>100000.00</td>\n      <td>100000.00</td>\n      <td>48.00</td>\n      <td>1.00</td>\n      <td>6.00</td>\n      <td>22000.00</td>\n      <td>1.00</td>\n      <td>15.00</td>\n      <td>127.00</td>\n      <td>2017.00</td>\n      <td>180000.00</td>\n      <td>1.00</td>\n      <td>0.00</td>\n      <td>47.00</td>\n      <td>14.00</td>\n    </tr>\n    <tr>\n      <th>max</th>\n      <td>290000.00</td>\n      <td>284719.66</td>\n      <td>60.00</td>\n      <td>1.00</td>\n      <td>8.00</td>\n      <td>39600.00</td>\n      <td>4.00</td>\n      <td>17.00</td>\n      <td>138.00</td>\n      <td>2022.00</td>\n      <td>831000.00</td>\n      <td>2.00</td>\n      <td>2.00</td>\n      <td>69.00</td>\n      <td>33.00</td>\n    </tr>\n  </tbody>\n</table>\n</div>",
      "text/plain": "       Principal Approve Amount  Principal Amount  \\\ncount                   1297.00           1297.00   \nmean                   66282.97          65577.76   \nstd                    70394.65          70346.88   \nmin                     3000.00           2110.76   \n25%                    21000.00          20160.78   \n50%                    30000.00          29000.00   \n75%                   100000.00         100000.00   \nmax                   290000.00         284719.66   \n\n       Repayment Tenor Month Number   Gender  Occupation Description  \\\ncount                       1297.00  1297.00                 1297.00   \nmean                          35.50     0.46                    3.55   \nstd                           15.67     0.50                    2.64   \nmin                           12.00     0.00                    0.00   \n25%                           24.00     0.00                    0.00   \n50%                           36.00     0.00                    3.00   \n75%                           48.00     1.00                    6.00   \nmax                           60.00     1.00                    8.00   \n\n       Total Income Amount (Month)  Collateral Type Code  Vehicle Brand  \\\ncount                      1297.00               1297.00        1297.00   \nmean                      18488.25                  1.00           8.30   \nstd                        6867.10                  0.61           4.86   \nmin                        6500.00                  0.00           0.00   \n25%                       13500.00                  1.00           5.00   \n50%                       17000.00                  1.00           5.00   \n75%                       22000.00                  1.00          15.00   \nmax                       39600.00                  4.00          17.00   \n\n       Vehicle Model  Vehicle Release Year  Evaluation Amount  \\\ncount        1297.00               1297.00            1297.00   \nmean           83.98               2012.67          104138.94   \nstd            41.63                  5.44          108159.06   \nmin             0.00               1990.00           10000.00   \n25%            42.00               2009.00           34900.00   \n50%            95.00               2013.00           43000.00   \n75%           127.00               2017.00          180000.00   \nmax           138.00               2022.00          831000.00   \n\n       System CAR Code (Daily)  Final CAR Code Previous Month      age  \\\ncount                  1297.00                        1297.00  1297.00   \nmean                      0.52                           0.15    40.41   \nstd                       0.63                           0.37    10.31   \nmin                       0.00                           0.00    21.00   \n25%                       0.00                           0.00    33.00   \n50%                       0.00                           0.00    39.00   \n75%                       1.00                           0.00    47.00   \nmax                       2.00                           2.00    69.00   \n\n       Vehicle Age  \ncount      1297.00  \nmean         10.33  \nstd           5.44  \nmin           1.00  \n25%           6.00  \n50%          10.00  \n75%          14.00  \nmax          33.00  "
     },
     "execution_count": 11,
     "metadata": {},
     "output_type": "execute_result"
    }
   ],
   "source": [
    "df.describe().round(2)"
   ]
  },
  {
   "cell_type": "code",
   "execution_count": 12,
   "metadata": {},
   "outputs": [],
   "source": [
    "# sns.pairplot(df, hue=\"DPD\")"
   ]
  },
  {
   "cell_type": "code",
   "execution_count": 13,
   "metadata": {},
   "outputs": [
    {
     "data": {
      "text/plain": "<seaborn.axisgrid.FacetGrid at 0x22078f8a670>"
     },
     "execution_count": 13,
     "metadata": {},
     "output_type": "execute_result"
    },
    {
     "data": {
      "image/png": "[encoded data removed]",
      "text/plain": "<Figure size 415x360 with 1 Axes>"
     },
     "metadata": {
      "needs_background": "light"
     },
     "output_type": "display_data"
    }
   ],
   "source": [
    "sns.displot(data=df, x=\"Principal Approve Amount\", hue=\"DPD\")"
   ]
  },
  {
   "cell_type": "code",
   "execution_count": 14,
   "metadata": {},
   "outputs": [
    {
     "name": "stderr",
     "output_type": "stream",
     "text": [
      "C:\\ProgramData\\Anaconda3\\lib\\site-packages\\seaborn\\distributions.py:2557: FutureWarning: `distplot` is a deprecated function and will be removed in a future version. Please adapt your code to use either `displot` (a figure-level function with similar flexibility) or `histplot` (an axes-level function for histograms).\n",
      "  warnings.warn(msg, FutureWarning)\n"
     ]
    },
    {
     "data": {
      "text/plain": "<AxesSubplot:xlabel='Principal Approve Amount', ylabel='Density'>"
     },
     "execution_count": 14,
     "metadata": {},
     "output_type": "execute_result"
    },
    {
     "data": {
      "image/png": "[encoded data removed]",
      "text/plain": "<Figure size 1080x720 with 1 Axes>"
     },
     "metadata": {
      "needs_background": "light"
     },
     "output_type": "display_data"
    }
   ],
   "source": [
    "plt.figure(figsize=(15,10))\n",
    "sns.distplot(df['Principal Approve Amount'])"
   ]
  },
  {
   "cell_type": "code",
   "execution_count": 15,
   "metadata": {},
   "outputs": [],
   "source": [
    "# plt.figure(figsize=(15,10))\n",
    "# sns.heatmap(df.corr(),annot=True, cmap=\"BuPu\")"
   ]
  },
  {
   "cell_type": "code",
   "execution_count": 16,
   "metadata": {},
   "outputs": [
    {
     "data": {
      "text/plain": "Index(['Principal Approve Amount', 'Principal Amount',\n       'Repayment Tenor Month Number', 'Gender', 'Occupation Description',\n       'Total Income Amount (Month)', 'Collateral Type Code', 'Vehicle Brand',\n       'Vehicle Model', 'Vehicle Release Year', 'Vehicle Sub Model',\n       'Evaluation Amount', 'System CAR Code (Daily)', 'System CAR Code Date',\n       'Final CAR Code Previous Month', 'DPD', 'age', 'Vehicle Age'],\n      dtype='object')"
     },
     "execution_count": 16,
     "metadata": {},
     "output_type": "execute_result"
    }
   ],
   "source": [
    "df.columns"
   ]
  },
  {
   "cell_type": "code",
   "execution_count": 17,
   "metadata": {},
   "outputs": [],
   "source": [
    "cols = df[['Principal Approve Amount', 'Repayment Tenor Month Number', 'Gender', 'Occupation Description',\n",
    "       'Total Income Amount (Month)', 'Collateral Type Code', 'Vehicle Brand','Vehicle Model','Vehicle Release Year',\n",
    "       'Evaluation Amount','age', 'Vehicle Age']]"
   ]
  },
  {
   "cell_type": "code",
   "execution_count": 18,
   "metadata": {},
   "outputs": [],
   "source": [
    "\n",
    "\n",
    "X = cols\n",
    "       # test approve กับ ที่ปล่อย\n",
    "X2 = df[['Principal Approve Amount', 'Principal Amount',\n",
    "       'Repayment Tenor Month Number', 'Gender', 'Occupation Description',\n",
    "       'Total Income Amount (Month)', 'Collateral Type Code', 'Vehicle Brand',\n",
    "       'Vehicle Release Year', 'age', 'Vehicle Age']]\n",
    "y = df['DPD']"
   ]
  },
  {
   "cell_type": "markdown",
   "metadata": {},
   "source": [
    "# Train Test Split"
   ]
  },
  {
   "cell_type": "code",
   "execution_count": 19,
   "metadata": {},
   "outputs": [],
   "source": [
    "from sklearn.model_selection import train_test_split"
   ]
  },
  {
   "cell_type": "code",
   "execution_count": 20,
   "metadata": {},
   "outputs": [],
   "source": [
    "X_train, X_test, y_train, y_test = train_test_split(X, y, test_size=0.3, stratify=y, random_state=101)"
   ]
  },
  {
   "cell_type": "code",
   "execution_count": 21,
   "metadata": {},
   "outputs": [
    {
     "data": {
      "text/plain": "(907, 12)"
     },
     "execution_count": 21,
     "metadata": {},
     "output_type": "execute_result"
    }
   ],
   "source": [
    "X_train.shape"
   ]
  },
  {
   "cell_type": "code",
   "execution_count": 22,
   "metadata": {},
   "outputs": [
    {
     "data": {
      "text/plain": "(390, 12)"
     },
     "execution_count": 22,
     "metadata": {},
     "output_type": "execute_result"
    }
   ],
   "source": [
    "X_test.shape"
   ]
  },
  {
   "cell_type": "code",
   "execution_count": 23,
   "metadata": {},
   "outputs": [
    {
     "data": {
      "text/plain": "(907,)"
     },
     "execution_count": 23,
     "metadata": {},
     "output_type": "execute_result"
    }
   ],
   "source": [
    "y_train.shape"
   ]
  },
  {
   "cell_type": "code",
   "execution_count": 24,
   "metadata": {},
   "outputs": [
    {
     "data": {
      "text/plain": "(390,)"
     },
     "execution_count": 24,
     "metadata": {},
     "output_type": "execute_result"
    }
   ],
   "source": [
    "y_test.shape"
   ]
  },
  {
   "cell_type": "code",
   "execution_count": 25,
   "metadata": {},
   "outputs": [
    {
     "data": {
      "text/plain": "(1165, 18)"
     },
     "execution_count": 25,
     "metadata": {},
     "output_type": "execute_result"
    }
   ],
   "source": [
    "df[df['DPD']=='PL'].shape"
   ]
  },
  {
   "cell_type": "code",
   "execution_count": 26,
   "metadata": {},
   "outputs": [
    {
     "data": {
      "text/plain": "(132, 18)"
     },
     "execution_count": 26,
     "metadata": {},
     "output_type": "execute_result"
    }
   ],
   "source": [
    "df[df['DPD']=='NPL'].shape"
   ]
  },
  {
   "cell_type": "code",
   "execution_count": 27,
   "metadata": {},
   "outputs": [
    {
     "data": {
      "text/plain": "PL     815\nNPL     92\nName: DPD, dtype: int64"
     },
     "execution_count": 27,
     "metadata": {},
     "output_type": "execute_result"
    }
   ],
   "source": [
    "y_train.value_counts()"
   ]
  },
  {
   "attachments": {},
   "cell_type": "markdown",
   "metadata": {},
   "source": [
    "## Feature Importance Decisiontree"
   ]
  },
  {
   "cell_type": "code",
   "execution_count": 28,
   "metadata": {},
   "outputs": [
    {
     "data": {
      "text/html": "<style>#sk-container-id-1 {color: black;background-color: white;}#sk-container-id-1 pre{padding: 0;}#sk-container-id-1 div.sk-toggleable {background-color: white;}#sk-container-id-1 label.sk-toggleable__label {cursor: pointer;display: block;width: 100%;margin-bottom: 0;padding: 0.3em;box-sizing: border-box;text-align: center;}#sk-container-id-1 label.sk-toggleable__label-arrow:before {content: \"▸\";float: left;margin-right: 0.25em;color: #696969;}#sk-container-id-1 label.sk-toggleable__label-arrow:hover:before {color: black;}#sk-container-id-1 div.sk-estimator:hover label.sk-toggleable__label-arrow:before {color: black;}#sk-container-id-1 div.sk-toggleable__content {max-height: 0;max-width: 0;overflow: hidden;text-align: left;background-color: #f0f8ff;}#sk-container-id-1 div.sk-toggleable__content pre {margin: 0.2em;color: black;border-radius: 0.25em;background-color: #f0f8ff;}#sk-container-id-1 input.sk-toggleable__control:checked~div.sk-toggleable__content {max-height: 200px;max-width: 100%;overflow: auto;}#sk-container-id-1 input.sk-toggleable__control:checked~label.sk-toggleable__label-arrow:before {content: \"▾\";}#sk-container-id-1 div.sk-estimator input.sk-toggleable__control:checked~label.sk-toggleable__label {background-color: #d4ebff;}#sk-container-id-1 div.sk-label input.sk-toggleable__control:checked~label.sk-toggleable__label {background-color: #d4ebff;}#sk-container-id-1 input.sk-hidden--visually {border: 0;clip: rect(1px 1px 1px 1px);clip: rect(1px, 1px, 1px, 1px);height: 1px;margin: -1px;overflow: hidden;padding: 0;position: absolute;width: 1px;}#sk-container-id-1 div.sk-estimator {font-family: monospace;background-color: #f0f8ff;border: 1px dotted black;border-radius: 0.25em;box-sizing: border-box;margin-bottom: 0.5em;}#sk-container-id-1 div.sk-estimator:hover {background-color: #d4ebff;}#sk-container-id-1 div.sk-parallel-item::after {content: \"\";width: 100%;border-bottom: 1px solid gray;flex-grow: 1;}#sk-container-id-1 div.sk-label:hover label.sk-toggleable__label {background-color: #d4ebff;}#sk-container-id-1 div.sk-serial::before {content: \"\";position: absolute;border-left: 1px solid gray;box-sizing: border-box;top: 0;bottom: 0;left: 50%;z-index: 0;}#sk-container-id-1 div.sk-serial {display: flex;flex-direction: column;align-items: center;background-color: white;padding-right: 0.2em;padding-left: 0.2em;position: relative;}#sk-container-id-1 div.sk-item {position: relative;z-index: 1;}#sk-container-id-1 div.sk-parallel {display: flex;align-items: stretch;justify-content: center;background-color: white;position: relative;}#sk-container-id-1 div.sk-item::before, #sk-container-id-1 div.sk-parallel-item::before {content: \"\";position: absolute;border-left: 1px solid gray;box-sizing: border-box;top: 0;bottom: 0;left: 50%;z-index: -1;}#sk-container-id-1 div.sk-parallel-item {display: flex;flex-direction: column;z-index: 1;position: relative;background-color: white;}#sk-container-id-1 div.sk-parallel-item:first-child::after {align-self: flex-end;width: 50%;}#sk-container-id-1 div.sk-parallel-item:last-child::after {align-self: flex-start;width: 50%;}#sk-container-id-1 div.sk-parallel-item:only-child::after {width: 0;}#sk-container-id-1 div.sk-dashed-wrapped {border: 1px dashed gray;margin: 0 0.4em 0.5em 0.4em;box-sizing: border-box;padding-bottom: 0.4em;background-color: white;}#sk-container-id-1 div.sk-label label {font-family: monospace;font-weight: bold;display: inline-block;line-height: 1.2em;}#sk-container-id-1 div.sk-label-container {text-align: center;}#sk-container-id-1 div.sk-container {/* jupyter's `normalize.less` sets `[hidden] { display: none; }` but bootstrap.min.css set `[hidden] { display: none !important; }` so we also need the `!important` here to be able to override the default hidden behavior on the sphinx rendered scikit-learn.org. See: https://github.com/scikit-learn/scikit-learn/issues/21755 */display: inline-block !important;position: relative;}#sk-container-id-1 div.sk-text-repr-fallback {display: none;}</style><div id=\"sk-container-id-1\" class=\"sk-top-container\"><div class=\"sk-text-repr-fallback\"><pre>DecisionTreeClassifier(criterion=&#x27;entropy&#x27;)</pre><b>In a Jupyter environment, please rerun this cell to show the HTML representation or trust the notebook. <br />On GitHub, the HTML representation is unable to render, please try loading this page with nbviewer.org.</b></div><div class=\"sk-container\" hidden><div class=\"sk-item\"><div class=\"sk-estimator sk-toggleable\"><input class=\"sk-toggleable__control sk-hidden--visually\" id=\"sk-estimator-id-1\" type=\"checkbox\" checked><label for=\"sk-estimator-id-1\" class=\"sk-toggleable__label sk-toggleable__label-arrow\">DecisionTreeClassifier</label><div class=\"sk-toggleable__content\"><pre>DecisionTreeClassifier(criterion=&#x27;entropy&#x27;)</pre></div></div></div></div></div>",
      "text/plain": "DecisionTreeClassifier(criterion='entropy')"
     },
     "execution_count": 28,
     "metadata": {},
     "output_type": "execute_result"
    }
   ],
   "source": [
    "from sklearn.tree import DecisionTreeClassifier\n",
    "from sklearn import tree\n",
    "\n",
    "\n",
    "model=DecisionTreeClassifier(criterion='entropy')\n",
    "\n",
    "model.fit(X_train, y_train)"
   ]
  },
  {
   "cell_type": "code",
   "execution_count": 29,
   "metadata": {},
   "outputs": [],
   "source": [
    "X = cols\n",
    "       # test approve กับ ที่ปล่อย\n",
    "y = df['DPD']"
   ]
  },
  {
   "cell_type": "code",
   "execution_count": 30,
   "metadata": {},
   "outputs": [
    {
     "data": {
      "text/plain": "array([0.12488923, 0.06574822, 0.02412655, 0.04720105, 0.12362184,\n       0.        , 0.08392044, 0.12310737, 0.07267001, 0.13338155,\n       0.13691897, 0.06441478])"
     },
     "execution_count": 30,
     "metadata": {},
     "output_type": "execute_result"
    }
   ],
   "source": [
    "model.feature_importances_"
   ]
  },
  {
   "cell_type": "code",
   "execution_count": 31,
   "metadata": {},
   "outputs": [
    {
     "data": {
      "text/plain": "age                             0.136919\nEvaluation Amount               0.133382\nPrincipal Approve Amount        0.124889\nTotal Income Amount (Month)     0.123622\nVehicle Model                   0.123107\nVehicle Brand                   0.083920\nVehicle Release Year            0.072670\nRepayment Tenor Month Number    0.065748\nVehicle Age                     0.064415\nOccupation Description          0.047201\nGender                          0.024127\nCollateral Type Code            0.000000\ndtype: float64"
     },
     "execution_count": 31,
     "metadata": {},
     "output_type": "execute_result"
    }
   ],
   "source": [
    "fs = pd.Series(model.feature_importances_, index=X_train.columns).sort_values(\n",
    "    ascending=False\n",
    ")\n",
    "fs"
   ]
  },
  {
   "cell_type": "code",
   "execution_count": 32,
   "metadata": {},
   "outputs": [
    {
     "data": {
      "text/plain": "1.0"
     },
     "execution_count": 32,
     "metadata": {},
     "output_type": "execute_result"
    }
   ],
   "source": [
    "fs.sum()"
   ]
  },
  {
   "cell_type": "code",
   "execution_count": 33,
   "metadata": {},
   "outputs": [
    {
     "data": {
      "text/plain": "<AxesSubplot:>"
     },
     "execution_count": 33,
     "metadata": {},
     "output_type": "execute_result"
    },
    {
     "data": {
      "image/png": "[encoded data removed]",
      "text/plain": "<Figure size 1080x720 with 1 Axes>"
     },
     "metadata": {
      "needs_background": "light"
     },
     "output_type": "display_data"
    }
   ],
   "source": [
    "plt.figure(figsize=(15,10))\n",
    "fs.plot(kind='barh')"
   ]
  },
  {
   "attachments": {},
   "cell_type": "markdown",
   "metadata": {},
   "source": [
    "# Cross Validation"
   ]
  },
  {
   "cell_type": "code",
   "execution_count": 34,
   "metadata": {},
   "outputs": [],
   "source": [
    "# from sklearn.model_selection import cross_val_score\n",
    "# def classify(model, x,y):\n",
    "#     X_train, X_test, y_train, y_test = train_test_split(X, y, test_size=0.3, random_state=101)\n",
    "#     model.fit(X_train, y_train)\n",
    "#     print(\"Accuracy is : \", model.score(X_test, y_test)*100)\n",
    "#     #Cross Calidation\n",
    "#     #eg: cv-5, train-4, test-1\n",
    "#     score = cross_val_score(model, X, y, cv=10)\n",
    "#     print(score)\n",
    "#     print(\"Cross Validation is \", np.mean(score)*100)"
   ]
  },
  {
   "cell_type": "code",
   "execution_count": 35,
   "metadata": {},
   "outputs": [],
   "source": [
    "from sklearn.model_selection import cross_val_score\r\n",
    "def classify(model, x,y):\r\n",
    "    X_train, X_test, y_train, y_test = train_test_split(X, y, test_size=0.3, random_state=101)\r\n",
    "    model.fit(X_train, y_train)\r\n",
    "    print(\"Accuracy is : \", model.score(X_test, y_test)*100)\r\n",
    "    #Cross Calidation\r\n",
    "    #eg: cv-5, train-4, test-1\r\n",
    "    score = cross_val_score(model, X, y, cv=10)\r\n",
    "    print(score)\r\n",
    "    print(\"Cross Validation mean is :\", np.mean(score)*100)\r\n",
    "    print(\"Cross Validation std is :\", np.std(score)*100)\r\n",
    "    return model"
   ]
  },
  {
   "cell_type": "code",
   "execution_count": 36,
   "metadata": {},
   "outputs": [],
   "source": [
    "# from sklearn.model_selection import cross_val_score,KFold\n",
    "# from sklearn.linear_model import LogisticRegression\n",
    "\n",
    "# logreg=LogisticRegression()\n",
    "# kf=KFold(n_splits=5)\n",
    "# score=cross_val_score(logreg,X,y,cv=kf)\n",
    "# print(\"Cross Validation Scores are {}\".format(score))\n",
    "# print(\"Average Cross Validation score :{}\".format(score.mean()*100))"
   ]
  },
  {
   "cell_type": "code",
   "execution_count": 37,
   "metadata": {},
   "outputs": [],
   "source": [
    "# from sklearn.model_selection import KFold\n",
    "# from sklearn.linear_model import LogisticRegression\n",
    "\n",
    "# # # Example data:\n",
    "# # data = np.array([0.1, 0.2, 0.3, 0.4, 0.5, 0.6])\n",
    "# # target = np.array([0, 0, 0, 1, 1, 1])\n",
    "\n",
    "# # Define the KFold object\n",
    "# kfold = KFold(n_splits=3, shuffle=True, random_state=0)\n",
    "\n",
    "# # Initialize the Logistic Regression model\n",
    "# model = LogisticRegression()\n",
    "\n",
    "# # Store the results of cross-validation\n",
    "# results = []\n",
    "# for train_index, test_index in kfold.split(X):\n",
    "# X_train, X_test = X[train_index], X[test_index]\n",
    "# y_train, y_test = y[train_index], y[test_index]\n",
    "\n",
    "# model.fit(X_train.reshape(-1, 1), y_train)\n",
    "# score = model.score(X_test.reshape(-1, 1), y_test)\n",
    "# results.append(score)\n",
    "\n",
    "# # Average performance across all folds\n",
    "# avg_result = np.mean(results)\n",
    "# print(\"Average accuracy: {:.2f}\".format(avg_result))"
   ]
  },
  {
   "cell_type": "code",
   "execution_count": 38,
   "metadata": {},
   "outputs": [
    {
     "name": "stdout",
     "output_type": "stream",
     "text": [
      "Accuracy is :  90.76923076923077\n",
      "[0.9        0.9        0.9        0.9        0.9        0.89230769\n",
      " 0.89230769 0.89922481 0.89922481 0.89922481]\n",
      "Cross Validation mean is : 89.82289803220036\n",
      "Cross Validation std is : 0.2979611795909501\n"
     ]
    },
    {
     "name": "stderr",
     "output_type": "stream",
     "text": [
      "C:\\ProgramData\\Anaconda3\\lib\\site-packages\\sklearn\\linear_model\\_logistic.py:458: ConvergenceWarning: lbfgs failed to converge (status=1):\n",
      "STOP: TOTAL NO. of ITERATIONS REACHED LIMIT.\n",
      "\n",
      "Increase the number of iterations (max_iter) or scale the data as shown in:\n",
      "    https://scikit-learn.org/stable/modules/preprocessing.html\n",
      "Please also refer to the documentation for alternative solver options:\n",
      "    https://scikit-learn.org/stable/modules/linear_model.html#logistic-regression\n",
      "  n_iter_i = _check_optimize_result(\n"
     ]
    }
   ],
   "source": [
    "from sklearn.linear_model import LogisticRegression\n",
    "model = LogisticRegression()\n",
    "cv_lr = classify(model,X,y)"
   ]
  },
  {
   "cell_type": "code",
   "execution_count": 39,
   "metadata": {},
   "outputs": [
    {
     "name": "stdout",
     "output_type": "stream",
     "text": [
      "Accuracy is :  79.48717948717949\n",
      "[0.74615385 0.80769231 0.80769231 0.86153846 0.86153846 0.85384615\n",
      " 0.84615385 0.82170543 0.71317829 0.80620155]\n",
      "Cross Validation mean is : 81.25700655933215\n",
      "Cross Validation std is : 4.6998754854374765\n"
     ]
    }
   ],
   "source": [
    "from sklearn.tree import DecisionTreeClassifier\n",
    "model = DecisionTreeClassifier(criterion='entropy')\n",
    "cv_dt = classify(model,X,y)"
   ]
  },
  {
   "cell_type": "code",
   "execution_count": 40,
   "metadata": {},
   "outputs": [
    {
     "name": "stdout",
     "output_type": "stream",
     "text": [
      "Accuracy is :  90.51282051282051\n",
      "[0.9        0.90769231 0.9        0.91538462 0.90769231 0.89230769\n",
      " 0.88461538 0.89147287 0.89147287 0.89147287]\n",
      "Cross Validation mean is : 89.82110912343471\n",
      "Cross Validation std is : 0.9148888225229147\n"
     ]
    }
   ],
   "source": [
    "from sklearn.ensemble import RandomForestClassifier\r\n",
    "model = RandomForestClassifier(n_estimators=250, random_state=101)\r\n",
    "cv_rdf = classify(model,X,y)"
   ]
  },
  {
   "cell_type": "code",
   "execution_count": 41,
   "metadata": {},
   "outputs": [],
   "source": [
    "# sum(cv_dt.predict(X) == y)"
   ]
  },
  {
   "cell_type": "code",
   "execution_count": 42,
   "metadata": {},
   "outputs": [],
   "source": [
    "# pd.crosstab(y, cv_dt.predict(X))"
   ]
  },
  {
   "cell_type": "code",
   "execution_count": 43,
   "metadata": {},
   "outputs": [],
   "source": [
    "# 424/(424+54)"
   ]
  },
  {
   "cell_type": "code",
   "execution_count": 44,
   "metadata": {},
   "outputs": [],
   "source": [
    "# 424/(424+68)"
   ]
  },
  {
   "cell_type": "code",
   "execution_count": 45,
   "metadata": {},
   "outputs": [],
   "source": [
    "# len(y)"
   ]
  },
  {
   "cell_type": "markdown",
   "metadata": {},
   "source": [
    "## DecisionTree"
   ]
  },
  {
   "cell_type": "code",
   "execution_count": 57,
   "metadata": {},
   "outputs": [
    {
     "data": {
      "text/html": "<style>#sk-container-id-3 {color: black;background-color: white;}#sk-container-id-3 pre{padding: 0;}#sk-container-id-3 div.sk-toggleable {background-color: white;}#sk-container-id-3 label.sk-toggleable__label {cursor: pointer;display: block;width: 100%;margin-bottom: 0;padding: 0.3em;box-sizing: border-box;text-align: center;}#sk-container-id-3 label.sk-toggleable__label-arrow:before {content: \"▸\";float: left;margin-right: 0.25em;color: #696969;}#sk-container-id-3 label.sk-toggleable__label-arrow:hover:before {color: black;}#sk-container-id-3 div.sk-estimator:hover label.sk-toggleable__label-arrow:before {color: black;}#sk-container-id-3 div.sk-toggleable__content {max-height: 0;max-width: 0;overflow: hidden;text-align: left;background-color: #f0f8ff;}#sk-container-id-3 div.sk-toggleable__content pre {margin: 0.2em;color: black;border-radius: 0.25em;background-color: #f0f8ff;}#sk-container-id-3 input.sk-toggleable__control:checked~div.sk-toggleable__content {max-height: 200px;max-width: 100%;overflow: auto;}#sk-container-id-3 input.sk-toggleable__control:checked~label.sk-toggleable__label-arrow:before {content: \"▾\";}#sk-container-id-3 div.sk-estimator input.sk-toggleable__control:checked~label.sk-toggleable__label {background-color: #d4ebff;}#sk-container-id-3 div.sk-label input.sk-toggleable__control:checked~label.sk-toggleable__label {background-color: #d4ebff;}#sk-container-id-3 input.sk-hidden--visually {border: 0;clip: rect(1px 1px 1px 1px);clip: rect(1px, 1px, 1px, 1px);height: 1px;margin: -1px;overflow: hidden;padding: 0;position: absolute;width: 1px;}#sk-container-id-3 div.sk-estimator {font-family: monospace;background-color: #f0f8ff;border: 1px dotted black;border-radius: 0.25em;box-sizing: border-box;margin-bottom: 0.5em;}#sk-container-id-3 div.sk-estimator:hover {background-color: #d4ebff;}#sk-container-id-3 div.sk-parallel-item::after {content: \"\";width: 100%;border-bottom: 1px solid gray;flex-grow: 1;}#sk-container-id-3 div.sk-label:hover label.sk-toggleable__label {background-color: #d4ebff;}#sk-container-id-3 div.sk-serial::before {content: \"\";position: absolute;border-left: 1px solid gray;box-sizing: border-box;top: 0;bottom: 0;left: 50%;z-index: 0;}#sk-container-id-3 div.sk-serial {display: flex;flex-direction: column;align-items: center;background-color: white;padding-right: 0.2em;padding-left: 0.2em;position: relative;}#sk-container-id-3 div.sk-item {position: relative;z-index: 1;}#sk-container-id-3 div.sk-parallel {display: flex;align-items: stretch;justify-content: center;background-color: white;position: relative;}#sk-container-id-3 div.sk-item::before, #sk-container-id-3 div.sk-parallel-item::before {content: \"\";position: absolute;border-left: 1px solid gray;box-sizing: border-box;top: 0;bottom: 0;left: 50%;z-index: -1;}#sk-container-id-3 div.sk-parallel-item {display: flex;flex-direction: column;z-index: 1;position: relative;background-color: white;}#sk-container-id-3 div.sk-parallel-item:first-child::after {align-self: flex-end;width: 50%;}#sk-container-id-3 div.sk-parallel-item:last-child::after {align-self: flex-start;width: 50%;}#sk-container-id-3 div.sk-parallel-item:only-child::after {width: 0;}#sk-container-id-3 div.sk-dashed-wrapped {border: 1px dashed gray;margin: 0 0.4em 0.5em 0.4em;box-sizing: border-box;padding-bottom: 0.4em;background-color: white;}#sk-container-id-3 div.sk-label label {font-family: monospace;font-weight: bold;display: inline-block;line-height: 1.2em;}#sk-container-id-3 div.sk-label-container {text-align: center;}#sk-container-id-3 div.sk-container {/* jupyter's `normalize.less` sets `[hidden] { display: none; }` but bootstrap.min.css set `[hidden] { display: none !important; }` so we also need the `!important` here to be able to override the default hidden behavior on the sphinx rendered scikit-learn.org. See: https://github.com/scikit-learn/scikit-learn/issues/21755 */display: inline-block !important;position: relative;}#sk-container-id-3 div.sk-text-repr-fallback {display: none;}</style><div id=\"sk-container-id-3\" class=\"sk-top-container\"><div class=\"sk-text-repr-fallback\"><pre>DecisionTreeClassifier(criterion=&#x27;entropy&#x27;)</pre><b>In a Jupyter environment, please rerun this cell to show the HTML representation or trust the notebook. <br />On GitHub, the HTML representation is unable to render, please try loading this page with nbviewer.org.</b></div><div class=\"sk-container\" hidden><div class=\"sk-item\"><div class=\"sk-estimator sk-toggleable\"><input class=\"sk-toggleable__control sk-hidden--visually\" id=\"sk-estimator-id-3\" type=\"checkbox\" checked><label for=\"sk-estimator-id-3\" class=\"sk-toggleable__label sk-toggleable__label-arrow\">DecisionTreeClassifier</label><div class=\"sk-toggleable__content\"><pre>DecisionTreeClassifier(criterion=&#x27;entropy&#x27;)</pre></div></div></div></div></div>",
      "text/plain": "DecisionTreeClassifier(criterion='entropy')"
     },
     "execution_count": 57,
     "metadata": {},
     "output_type": "execute_result"
    }
   ],
   "source": [
    "from sklearn.tree import DecisionTreeClassifier\n",
    "\n",
    "model = DecisionTreeClassifier(criterion='entropy')\n",
    "classifier = model.fit(X_train,y_train)\n",
    "classifier"
   ]
  },
  {
   "cell_type": "code",
   "execution_count": 58,
   "metadata": {},
   "outputs": [
    {
     "name": "stdout",
     "output_type": "stream",
     "text": [
      "Accuracy Score: 81.53846153846153\n",
      "[0.74615385 0.8        0.85384615 0.87692308 0.86923077 0.85384615\n",
      " 0.83846154 0.82945736 0.74418605 0.79069767]\n",
      "Cross Validation mean is : 82.02802623732856\n",
      "Cross Validation std is : 4.565539456006473\n"
     ]
    }
   ],
   "source": [
    "#prediction\r\n",
    "y_pred = classifier.predict(X_test)\r\n",
    "from sklearn import metrics\r\n",
    "#Accuracy\r\n",
    "print('Accuracy Score:', metrics.accuracy_score(y_test, y_pred)*100)\r\n",
    "\r\n",
    "score = cross_val_score(model, X, y, cv=10)\r\n",
    "print(score)\r\n",
    "print(\"Cross Validation mean is :\", np.mean(score)*100)\r\n",
    "print(\"Cross Validation std is :\", np.std(score)*100)"
   ]
  },
  {
   "cell_type": "code",
   "execution_count": 59,
   "metadata": {},
   "outputs": [],
   "source": [
    "# for k in range (5,15):\n",
    "#     model = DecisionTreeClassifier(criterion='entropy')\n",
    "#     score = cross_val_score(model, X, y, cv=10)\n",
    "#     print(f\"Cross Validation {k:02}: accuracy is \", np.mean(score)*100)"
   ]
  },
  {
   "cell_type": "code",
   "execution_count": 60,
   "metadata": {},
   "outputs": [],
   "source": [
    "X_train, X_test, y_train, y_test = train_test_split(X, y, test_size=0.3, stratify=y, random_state=101)"
   ]
  },
  {
   "cell_type": "code",
   "execution_count": 61,
   "metadata": {},
   "outputs": [
    {
     "data": {
      "text/plain": "81.53846153846153"
     },
     "execution_count": 61,
     "metadata": {},
     "output_type": "execute_result"
    }
   ],
   "source": [
    "classifier = model.fit(X_train, y_train)\n",
    "classifier.score(X_test, y_test)*100"
   ]
  },
  {
   "cell_type": "code",
   "execution_count": 62,
   "metadata": {},
   "outputs": [],
   "source": [
    "# print('Accuracy Score:', metrics.accuracy_score(y_test, y_pred)*100)"
   ]
  },
  {
   "cell_type": "code",
   "execution_count": 63,
   "metadata": {},
   "outputs": [
    {
     "data": {
      "text/plain": "array(['PL', 'NPL', 'PL', 'PL', 'PL', 'PL', 'PL', 'PL', 'PL', 'PL', 'PL',\n       'NPL', 'PL', 'PL', 'PL', 'NPL', 'PL', 'NPL', 'PL', 'PL', 'PL',\n       'PL', 'PL', 'PL', 'PL', 'PL', 'PL', 'PL', 'PL', 'PL', 'NPL', 'NPL',\n       'PL', 'PL', 'PL', 'PL', 'PL', 'PL', 'PL', 'PL', 'PL', 'PL', 'PL',\n       'PL', 'PL', 'PL', 'PL', 'PL', 'NPL', 'PL', 'PL', 'PL', 'NPL', 'PL',\n       'NPL', 'PL', 'PL', 'PL', 'PL', 'PL', 'PL', 'PL', 'PL', 'PL', 'PL',\n       'PL', 'PL', 'PL', 'PL', 'PL', 'PL', 'NPL', 'PL', 'PL', 'PL', 'PL',\n       'PL', 'PL', 'PL', 'PL', 'PL', 'PL', 'PL', 'NPL', 'NPL', 'PL', 'PL',\n       'PL', 'PL', 'PL', 'PL', 'PL', 'NPL', 'PL', 'PL', 'PL', 'PL', 'PL',\n       'PL', 'PL', 'PL', 'PL', 'PL', 'NPL', 'PL', 'PL', 'PL', 'PL', 'PL',\n       'PL', 'PL', 'PL', 'PL', 'PL', 'NPL', 'PL', 'PL', 'NPL', 'PL', 'PL',\n       'PL', 'NPL', 'PL', 'PL', 'NPL', 'PL', 'PL', 'PL', 'PL', 'PL',\n       'NPL', 'PL', 'PL', 'PL', 'PL', 'PL', 'PL', 'PL', 'NPL', 'PL', 'PL',\n       'PL', 'PL', 'PL', 'NPL', 'PL', 'NPL', 'PL', 'PL', 'PL', 'PL', 'PL',\n       'PL', 'PL', 'PL', 'PL', 'PL', 'PL', 'NPL', 'PL', 'NPL', 'PL', 'PL',\n       'PL', 'PL', 'PL', 'PL', 'PL', 'PL', 'PL', 'PL', 'PL', 'PL', 'PL',\n       'PL', 'PL', 'PL', 'PL', 'PL', 'PL', 'PL', 'PL', 'PL', 'PL', 'PL',\n       'PL', 'PL', 'NPL', 'PL', 'PL', 'PL', 'PL', 'PL', 'NPL', 'PL', 'PL',\n       'PL', 'PL', 'PL', 'PL', 'PL', 'PL', 'PL', 'PL', 'PL', 'NPL', 'PL',\n       'PL', 'PL', 'PL', 'PL', 'PL', 'PL', 'PL', 'PL', 'PL', 'NPL', 'PL',\n       'PL', 'PL', 'PL', 'PL', 'PL', 'PL', 'PL', 'PL', 'PL', 'PL', 'PL',\n       'PL', 'PL', 'PL', 'PL', 'NPL', 'PL', 'PL', 'PL', 'PL', 'PL', 'PL',\n       'PL', 'PL', 'PL', 'PL', 'PL', 'PL', 'PL', 'PL', 'PL', 'PL', 'PL',\n       'PL', 'PL', 'PL', 'PL', 'PL', 'PL', 'NPL', 'PL', 'PL', 'PL', 'PL',\n       'PL', 'PL', 'PL', 'PL', 'NPL', 'PL', 'PL', 'PL', 'PL', 'PL', 'PL',\n       'PL', 'PL', 'PL', 'NPL', 'PL', 'PL', 'PL', 'PL', 'PL', 'PL', 'PL',\n       'PL', 'PL', 'PL', 'PL', 'PL', 'PL', 'PL', 'NPL', 'NPL', 'PL', 'PL',\n       'PL', 'PL', 'NPL', 'PL', 'PL', 'PL', 'PL', 'PL', 'PL', 'PL', 'PL',\n       'PL', 'PL', 'NPL', 'PL', 'PL', 'PL', 'PL', 'PL', 'PL', 'PL', 'NPL',\n       'PL', 'PL', 'PL', 'PL', 'PL', 'NPL', 'PL', 'PL', 'PL', 'PL', 'PL',\n       'PL', 'PL', 'PL', 'PL', 'PL', 'NPL', 'PL', 'PL', 'NPL', 'PL', 'PL',\n       'PL', 'PL', 'PL', 'NPL', 'PL', 'NPL', 'PL', 'PL', 'PL', 'PL',\n       'NPL', 'NPL', 'PL', 'PL', 'PL', 'PL', 'PL', 'PL', 'NPL', 'PL',\n       'PL', 'PL', 'PL', 'PL', 'NPL', 'PL', 'PL', 'PL', 'PL', 'PL', 'PL',\n       'PL', 'PL', 'PL', 'PL', 'PL', 'PL', 'PL', 'NPL', 'PL', 'PL', 'PL',\n       'PL', 'NPL', 'PL', 'PL', 'PL', 'PL', 'NPL', 'NPL', 'PL'],\n      dtype=object)"
     },
     "execution_count": 63,
     "metadata": {},
     "output_type": "execute_result"
    }
   ],
   "source": [
    "y_pred = classifier.predict(X_test)\n",
    "y_pred"
   ]
  },
  {
   "cell_type": "code",
   "execution_count": 64,
   "metadata": {},
   "outputs": [
    {
     "name": "stdout",
     "output_type": "stream",
     "text": [
      "Confusion matrix : \n",
      " [[  9  31]\n",
      " [ 41 309]]\n",
      "Classification report : \n",
      "               precision    recall  f1-score   support\n",
      "\n",
      "         NPL       0.18      0.23      0.20        40\n",
      "          PL       0.91      0.88      0.90       350\n",
      "\n",
      "    accuracy                           0.82       390\n",
      "   macro avg       0.54      0.55      0.55       390\n",
      "weighted avg       0.83      0.82      0.82       390\n",
      "\n"
     ]
    }
   ],
   "source": [
    "from sklearn.metrics import confusion_matrix\n",
    "from sklearn.metrics import classification_report\n",
    "\n",
    "cm = confusion_matrix(y_test, y_pred)\n",
    "print('Confusion matrix : \\n',cm)\n",
    "\n",
    "cr = classification_report(y_test, y_pred)\n",
    "print('Classification report : \\n',cr)"
   ]
  },
  {
   "cell_type": "code",
   "execution_count": 65,
   "metadata": {},
   "outputs": [
    {
     "ename": "ImportError",
     "evalue": "cannot import name 'plot_confusion_matrix' from 'sklearn.metrics' (C:\\ProgramData\\Anaconda3\\lib\\site-packages\\sklearn\\metrics\\__init__.py)",
     "output_type": "error",
     "traceback": [
      "\u001b[1;31m---------------------------------------------------------------------------\u001b[0m",
      "\u001b[1;31mImportError\u001b[0m                               Traceback (most recent call last)",
      "Input \u001b[1;32mIn [65]\u001b[0m, in \u001b[0;36m<cell line: 1>\u001b[1;34m()\u001b[0m\n\u001b[1;32m----> 1\u001b[0m \u001b[38;5;28;01mfrom\u001b[39;00m \u001b[38;5;21;01msklearn\u001b[39;00m\u001b[38;5;21;01m.\u001b[39;00m\u001b[38;5;21;01mmetrics\u001b[39;00m \u001b[38;5;28;01mimport\u001b[39;00m accuracy_score, plot_confusion_matrix, plot_roc_curve\n\u001b[0;32m      2\u001b[0m plot_confusion_matrix(classifier, X_test, y_test, cmap\u001b[38;5;241m=\u001b[39m\u001b[38;5;124m'\u001b[39m\u001b[38;5;124mBlues\u001b[39m\u001b[38;5;124m'\u001b[39m, values_format\u001b[38;5;241m=\u001b[39m\u001b[38;5;124m'\u001b[39m\u001b[38;5;124md\u001b[39m\u001b[38;5;124m'\u001b[39m)\n",
      "\u001b[1;31mImportError\u001b[0m: cannot import name 'plot_confusion_matrix' from 'sklearn.metrics' (C:\\ProgramData\\Anaconda3\\lib\\site-packages\\sklearn\\metrics\\__init__.py)"
     ]
    }
   ],
   "source": [
    "from sklearn.metrics import accuracy_score, plot_confusion_matrix, plot_roc_curve\n",
    "plot_confusion_matrix(classifier, X_test, y_test, cmap='Blues', values_format='d')"
   ]
  },
  {
   "cell_type": "code",
   "execution_count": 66,
   "metadata": {},
   "outputs": [
    {
     "ename": "ImportError",
     "evalue": "cannot import name 'plot_roc_curve' from 'sklearn.metrics' (C:\\ProgramData\\Anaconda3\\lib\\site-packages\\sklearn\\metrics\\__init__.py)",
     "output_type": "error",
     "traceback": [
      "\u001b[1;31m---------------------------------------------------------------------------\u001b[0m",
      "\u001b[1;31mImportError\u001b[0m                               Traceback (most recent call last)",
      "Input \u001b[1;32mIn [66]\u001b[0m, in \u001b[0;36m<cell line: 1>\u001b[1;34m()\u001b[0m\n\u001b[1;32m----> 1\u001b[0m \u001b[38;5;28;01mfrom\u001b[39;00m \u001b[38;5;21;01msklearn\u001b[39;00m\u001b[38;5;21;01m.\u001b[39;00m\u001b[38;5;21;01mmetrics\u001b[39;00m \u001b[38;5;28;01mimport\u001b[39;00m plot_roc_curve\n\u001b[0;32m      2\u001b[0m plot_roc_curve(classifier, X_test, y_test)\n\u001b[0;32m      3\u001b[0m plt\u001b[38;5;241m.\u001b[39mgrid()\n",
      "\u001b[1;31mImportError\u001b[0m: cannot import name 'plot_roc_curve' from 'sklearn.metrics' (C:\\ProgramData\\Anaconda3\\lib\\site-packages\\sklearn\\metrics\\__init__.py)"
     ]
    }
   ],
   "source": [
    "from sklearn.metrics import plot_roc_curve\n",
    "plot_roc_curve(classifier, X_test, y_test)\n",
    "plt.grid()"
   ]
  },
  {
   "attachments": {},
   "cell_type": "markdown",
   "metadata": {},
   "source": [
    "### Prunning"
   ]
  },
  {
   "cell_type": "code",
   "execution_count": 69,
   "metadata": {},
   "outputs": [
    {
     "name": "stdout",
     "output_type": "stream",
     "text": [
      "Accuracy : 89.74358974358975\n",
      "[0.74615385 0.79230769 0.8        0.86923077 0.85384615 0.85384615\n",
      " 0.83076923 0.82945736 0.73643411 0.81395349]\n",
      "Cross Validation mean is : 81.25998807394156\n",
      "Cross Validation std is : 4.244117126571488\n"
     ]
    }
   ],
   "source": [
    "# Create Decision Tree classifer object\r\n",
    "# Train Decision Tree Classifer\r\n",
    "classifier = DecisionTreeClassifier(criterion=\"entropy\", max_depth=3)\r\n",
    "#Predict the response for test dataset\r\n",
    "classifier = classifier.fit(X_train, y_train)\r\n",
    "# Model Accuracy, how often is the classifier correct?\r\n",
    "y_pred = classifier.predict(X_test)\r\n",
    "print(\"Accuracy :\", metrics.accuracy_score(y_test, y_pred)*100)\r\n",
    "\r\n",
    "score = cross_val_score(model, X, y, cv=10)\r\n",
    "print(score)\r\n",
    "print(\"Cross Validation mean is :\", np.mean(score)*100)\r\n",
    "print(\"Cross Validation std is :\", np.std(score)*100)"
   ]
  },
  {
   "cell_type": "code",
   "execution_count": 70,
   "metadata": {},
   "outputs": [
    {
     "data": {
      "image/png": "[encoded data removed]",
      "text/plain": "<Figure size 2880x1440 with 1 Axes>"
     },
     "metadata": {
      "needs_background": "light"
     },
     "output_type": "display_data"
    }
   ],
   "source": [
    "from sklearn import tree\n",
    "fig = plt.figure(figsize=(40,20))\n",
    "_ = tree.plot_tree(classifier, \n",
    "                   feature_names=['Principal Approve Amount', 'Repayment Tenor Month Number', 'Gender', 'Occupation Description',\n",
    "       'Total Income Amount (Month)', 'Collateral Type Code', 'Vehicle Brand','Vehicle Model','Vehicle Release Year',\n",
    "       'Evaluation Amount','age', 'Vehicle Age'],\n",
    "                   class_names=['NPL','PL'],\n",
    "                   filled=True,node_ids=True, fontsize=10)"
   ]
  },
  {
   "cell_type": "code",
   "execution_count": 71,
   "metadata": {},
   "outputs": [
    {
     "ename": "ModuleNotFoundError",
     "evalue": "No module named 'graphviz'",
     "output_type": "error",
     "traceback": [
      "\u001b[1;31m---------------------------------------------------------------------------\u001b[0m",
      "\u001b[1;31mModuleNotFoundError\u001b[0m                       Traceback (most recent call last)",
      "Input \u001b[1;32mIn [71]\u001b[0m, in \u001b[0;36m<cell line: 1>\u001b[1;34m()\u001b[0m\n\u001b[1;32m----> 1\u001b[0m \u001b[38;5;28;01mimport\u001b[39;00m \u001b[38;5;21;01mgraphviz\u001b[39;00m\n",
      "\u001b[1;31mModuleNotFoundError\u001b[0m: No module named 'graphviz'"
     ]
    }
   ],
   "source": [
    "import graphviz"
   ]
  },
  {
   "cell_type": "code",
   "execution_count": 72,
   "metadata": {},
   "outputs": [
    {
     "ename": "NameError",
     "evalue": "name 'graphviz' is not defined",
     "output_type": "error",
     "traceback": [
      "\u001b[1;31m---------------------------------------------------------------------------\u001b[0m",
      "\u001b[1;31mNameError\u001b[0m                                 Traceback (most recent call last)",
      "Input \u001b[1;32mIn [72]\u001b[0m, in \u001b[0;36m<cell line: 8>\u001b[1;34m()\u001b[0m\n\u001b[0;32m      1\u001b[0m dot_data \u001b[38;5;241m=\u001b[39m tree\u001b[38;5;241m.\u001b[39mexport_graphviz(classifier, out_file\u001b[38;5;241m=\u001b[39m\u001b[38;5;28;01mNone\u001b[39;00m,\n\u001b[0;32m      2\u001b[0m                                 feature_names\u001b[38;5;241m=\u001b[39m[\u001b[38;5;124m'\u001b[39m\u001b[38;5;124mPrincipal Approve Amount\u001b[39m\u001b[38;5;124m'\u001b[39m, \u001b[38;5;124m'\u001b[39m\u001b[38;5;124mRepayment Tenor Month Number\u001b[39m\u001b[38;5;124m'\u001b[39m, \u001b[38;5;124m'\u001b[39m\u001b[38;5;124mGender\u001b[39m\u001b[38;5;124m'\u001b[39m, \u001b[38;5;124m'\u001b[39m\u001b[38;5;124mOccupation Description\u001b[39m\u001b[38;5;124m'\u001b[39m,\n\u001b[0;32m      3\u001b[0m        \u001b[38;5;124m'\u001b[39m\u001b[38;5;124mTotal Income Amount (Month)\u001b[39m\u001b[38;5;124m'\u001b[39m, \u001b[38;5;124m'\u001b[39m\u001b[38;5;124mCollateral Type Code\u001b[39m\u001b[38;5;124m'\u001b[39m, \u001b[38;5;124m'\u001b[39m\u001b[38;5;124mVehicle Brand\u001b[39m\u001b[38;5;124m'\u001b[39m,\u001b[38;5;124m'\u001b[39m\u001b[38;5;124mVehicle Model\u001b[39m\u001b[38;5;124m'\u001b[39m,\u001b[38;5;124m'\u001b[39m\u001b[38;5;124mVehicle Release Year\u001b[39m\u001b[38;5;124m'\u001b[39m,\n\u001b[1;32m   (...)\u001b[0m\n\u001b[0;32m      6\u001b[0m                                 filled\u001b[38;5;241m=\u001b[39m\u001b[38;5;28;01mTrue\u001b[39;00m,node_ids\u001b[38;5;241m=\u001b[39m\u001b[38;5;28;01mTrue\u001b[39;00m, rounded\u001b[38;5;241m=\u001b[39m\u001b[38;5;28;01mTrue\u001b[39;00m,\n\u001b[0;32m      7\u001b[0m                                 special_characters\u001b[38;5;241m=\u001b[39m\u001b[38;5;28;01mTrue\u001b[39;00m)\n\u001b[1;32m----> 8\u001b[0m graph \u001b[38;5;241m=\u001b[39m \u001b[43mgraphviz\u001b[49m\u001b[38;5;241m.\u001b[39mSource(dot_data)\n\u001b[0;32m      9\u001b[0m graph\n",
      "\u001b[1;31mNameError\u001b[0m: name 'graphviz' is not defined"
     ]
    }
   ],
   "source": [
    "dot_data = tree.export_graphviz(classifier, out_file=None,\n",
    "                                feature_names=['Principal Approve Amount', 'Repayment Tenor Month Number', 'Gender', 'Occupation Description',\n",
    "       'Total Income Amount (Month)', 'Collateral Type Code', 'Vehicle Brand','Vehicle Model','Vehicle Release Year',\n",
    "       'Evaluation Amount','age', 'Vehicle Age'],  \n",
    "                                class_names=['NPL','PL'],\n",
    "                                filled=True,node_ids=True, rounded=True,\n",
    "                                special_characters=True)\n",
    "graph = graphviz.Source(dot_data)\n",
    "graph"
   ]
  },
  {
   "attachments": {},
   "cell_type": "markdown",
   "metadata": {},
   "source": [
    "### Confusion Metric and Classification report"
   ]
  },
  {
   "cell_type": "code",
   "execution_count": 73,
   "metadata": {},
   "outputs": [
    {
     "name": "stdout",
     "output_type": "stream",
     "text": [
      "Confusion matrix : \n",
      " [[  0  40]\n",
      " [  0 350]]\n",
      "Classification report  \n",
      "               precision    recall  f1-score   support\n",
      "\n",
      "         NPL       0.00      0.00      0.00        40\n",
      "          PL       0.90      1.00      0.95       350\n",
      "\n",
      "    accuracy                           0.90       390\n",
      "   macro avg       0.45      0.50      0.47       390\n",
      "weighted avg       0.81      0.90      0.85       390\n",
      "\n"
     ]
    },
    {
     "name": "stderr",
     "output_type": "stream",
     "text": [
      "C:\\ProgramData\\Anaconda3\\lib\\site-packages\\sklearn\\metrics\\_classification.py:1344: UndefinedMetricWarning: Precision and F-score are ill-defined and being set to 0.0 in labels with no predicted samples. Use `zero_division` parameter to control this behavior.\n",
      "  _warn_prf(average, modifier, msg_start, len(result))\n",
      "C:\\ProgramData\\Anaconda3\\lib\\site-packages\\sklearn\\metrics\\_classification.py:1344: UndefinedMetricWarning: Precision and F-score are ill-defined and being set to 0.0 in labels with no predicted samples. Use `zero_division` parameter to control this behavior.\n",
      "  _warn_prf(average, modifier, msg_start, len(result))\n",
      "C:\\ProgramData\\Anaconda3\\lib\\site-packages\\sklearn\\metrics\\_classification.py:1344: UndefinedMetricWarning: Precision and F-score are ill-defined and being set to 0.0 in labels with no predicted samples. Use `zero_division` parameter to control this behavior.\n",
      "  _warn_prf(average, modifier, msg_start, len(result))\n"
     ]
    }
   ],
   "source": [
    "from sklearn.metrics import confusion_matrix\n",
    "from sklearn.metrics import classification_report\n",
    "cm = confusion_matrix(y_test, y_pred)\n",
    "print('Confusion matrix : \\n',cm)\n",
    "\n",
    "cr = classification_report(y_test, y_pred)\n",
    "print('Classification report  \\n',cr)"
   ]
  },
  {
   "cell_type": "code",
   "execution_count": 74,
   "metadata": {},
   "outputs": [
    {
     "ename": "ImportError",
     "evalue": "cannot import name 'plot_confusion_matrix' from 'sklearn.metrics' (C:\\ProgramData\\Anaconda3\\lib\\site-packages\\sklearn\\metrics\\__init__.py)",
     "output_type": "error",
     "traceback": [
      "\u001b[1;31m---------------------------------------------------------------------------\u001b[0m",
      "\u001b[1;31mImportError\u001b[0m                               Traceback (most recent call last)",
      "Input \u001b[1;32mIn [74]\u001b[0m, in \u001b[0;36m<cell line: 1>\u001b[1;34m()\u001b[0m\n\u001b[1;32m----> 1\u001b[0m \u001b[38;5;28;01mfrom\u001b[39;00m \u001b[38;5;21;01msklearn\u001b[39;00m\u001b[38;5;21;01m.\u001b[39;00m\u001b[38;5;21;01mmetrics\u001b[39;00m \u001b[38;5;28;01mimport\u001b[39;00m accuracy_score, plot_confusion_matrix, plot_roc_curve\n\u001b[0;32m      2\u001b[0m plot_confusion_matrix(classifier, X_test, y_test, cmap\u001b[38;5;241m=\u001b[39m\u001b[38;5;124m'\u001b[39m\u001b[38;5;124mBlues\u001b[39m\u001b[38;5;124m'\u001b[39m, values_format\u001b[38;5;241m=\u001b[39m\u001b[38;5;124m'\u001b[39m\u001b[38;5;124md\u001b[39m\u001b[38;5;124m'\u001b[39m)\n",
      "\u001b[1;31mImportError\u001b[0m: cannot import name 'plot_confusion_matrix' from 'sklearn.metrics' (C:\\ProgramData\\Anaconda3\\lib\\site-packages\\sklearn\\metrics\\__init__.py)"
     ]
    }
   ],
   "source": [
    "from sklearn.metrics import accuracy_score, plot_confusion_matrix, plot_roc_curve\n",
    "plot_confusion_matrix(classifier, X_test, y_test, cmap='Blues', values_format='d')"
   ]
  },
  {
   "cell_type": "code",
   "execution_count": 75,
   "metadata": {},
   "outputs": [
    {
     "ename": "ImportError",
     "evalue": "cannot import name 'plot_roc_curve' from 'sklearn.metrics' (C:\\ProgramData\\Anaconda3\\lib\\site-packages\\sklearn\\metrics\\__init__.py)",
     "output_type": "error",
     "traceback": [
      "\u001b[1;31m---------------------------------------------------------------------------\u001b[0m",
      "\u001b[1;31mImportError\u001b[0m                               Traceback (most recent call last)",
      "Input \u001b[1;32mIn [75]\u001b[0m, in \u001b[0;36m<cell line: 1>\u001b[1;34m()\u001b[0m\n\u001b[1;32m----> 1\u001b[0m \u001b[38;5;28;01mfrom\u001b[39;00m \u001b[38;5;21;01msklearn\u001b[39;00m\u001b[38;5;21;01m.\u001b[39;00m\u001b[38;5;21;01mmetrics\u001b[39;00m \u001b[38;5;28;01mimport\u001b[39;00m plot_roc_curve\n\u001b[0;32m      2\u001b[0m plot_roc_curve(classifier, X_test, y_test)\n\u001b[0;32m      3\u001b[0m plt\u001b[38;5;241m.\u001b[39mgrid()\n",
      "\u001b[1;31mImportError\u001b[0m: cannot import name 'plot_roc_curve' from 'sklearn.metrics' (C:\\ProgramData\\Anaconda3\\lib\\site-packages\\sklearn\\metrics\\__init__.py)"
     ]
    }
   ],
   "source": [
    "from sklearn.metrics import plot_roc_curve\n",
    "plot_roc_curve(classifier, X_test, y_test)\n",
    "plt.grid()"
   ]
  },
  {
   "cell_type": "markdown",
   "metadata": {},
   "source": [
    "## Random Forest"
   ]
  },
  {
   "cell_type": "code",
   "execution_count": 76,
   "metadata": {},
   "outputs": [
    {
     "data": {
      "text/html": "<style>#sk-container-id-4 {color: black;background-color: white;}#sk-container-id-4 pre{padding: 0;}#sk-container-id-4 div.sk-toggleable {background-color: white;}#sk-container-id-4 label.sk-toggleable__label {cursor: pointer;display: block;width: 100%;margin-bottom: 0;padding: 0.3em;box-sizing: border-box;text-align: center;}#sk-container-id-4 label.sk-toggleable__label-arrow:before {content: \"▸\";float: left;margin-right: 0.25em;color: #696969;}#sk-container-id-4 label.sk-toggleable__label-arrow:hover:before {color: black;}#sk-container-id-4 div.sk-estimator:hover label.sk-toggleable__label-arrow:before {color: black;}#sk-container-id-4 div.sk-toggleable__content {max-height: 0;max-width: 0;overflow: hidden;text-align: left;background-color: #f0f8ff;}#sk-container-id-4 div.sk-toggleable__content pre {margin: 0.2em;color: black;border-radius: 0.25em;background-color: #f0f8ff;}#sk-container-id-4 input.sk-toggleable__control:checked~div.sk-toggleable__content {max-height: 200px;max-width: 100%;overflow: auto;}#sk-container-id-4 input.sk-toggleable__control:checked~label.sk-toggleable__label-arrow:before {content: \"▾\";}#sk-container-id-4 div.sk-estimator input.sk-toggleable__control:checked~label.sk-toggleable__label {background-color: #d4ebff;}#sk-container-id-4 div.sk-label input.sk-toggleable__control:checked~label.sk-toggleable__label {background-color: #d4ebff;}#sk-container-id-4 input.sk-hidden--visually {border: 0;clip: rect(1px 1px 1px 1px);clip: rect(1px, 1px, 1px, 1px);height: 1px;margin: -1px;overflow: hidden;padding: 0;position: absolute;width: 1px;}#sk-container-id-4 div.sk-estimator {font-family: monospace;background-color: #f0f8ff;border: 1px dotted black;border-radius: 0.25em;box-sizing: border-box;margin-bottom: 0.5em;}#sk-container-id-4 div.sk-estimator:hover {background-color: #d4ebff;}#sk-container-id-4 div.sk-parallel-item::after {content: \"\";width: 100%;border-bottom: 1px solid gray;flex-grow: 1;}#sk-container-id-4 div.sk-label:hover label.sk-toggleable__label {background-color: #d4ebff;}#sk-container-id-4 div.sk-serial::before {content: \"\";position: absolute;border-left: 1px solid gray;box-sizing: border-box;top: 0;bottom: 0;left: 50%;z-index: 0;}#sk-container-id-4 div.sk-serial {display: flex;flex-direction: column;align-items: center;background-color: white;padding-right: 0.2em;padding-left: 0.2em;position: relative;}#sk-container-id-4 div.sk-item {position: relative;z-index: 1;}#sk-container-id-4 div.sk-parallel {display: flex;align-items: stretch;justify-content: center;background-color: white;position: relative;}#sk-container-id-4 div.sk-item::before, #sk-container-id-4 div.sk-parallel-item::before {content: \"\";position: absolute;border-left: 1px solid gray;box-sizing: border-box;top: 0;bottom: 0;left: 50%;z-index: -1;}#sk-container-id-4 div.sk-parallel-item {display: flex;flex-direction: column;z-index: 1;position: relative;background-color: white;}#sk-container-id-4 div.sk-parallel-item:first-child::after {align-self: flex-end;width: 50%;}#sk-container-id-4 div.sk-parallel-item:last-child::after {align-self: flex-start;width: 50%;}#sk-container-id-4 div.sk-parallel-item:only-child::after {width: 0;}#sk-container-id-4 div.sk-dashed-wrapped {border: 1px dashed gray;margin: 0 0.4em 0.5em 0.4em;box-sizing: border-box;padding-bottom: 0.4em;background-color: white;}#sk-container-id-4 div.sk-label label {font-family: monospace;font-weight: bold;display: inline-block;line-height: 1.2em;}#sk-container-id-4 div.sk-label-container {text-align: center;}#sk-container-id-4 div.sk-container {/* jupyter's `normalize.less` sets `[hidden] { display: none; }` but bootstrap.min.css set `[hidden] { display: none !important; }` so we also need the `!important` here to be able to override the default hidden behavior on the sphinx rendered scikit-learn.org. See: https://github.com/scikit-learn/scikit-learn/issues/21755 */display: inline-block !important;position: relative;}#sk-container-id-4 div.sk-text-repr-fallback {display: none;}</style><div id=\"sk-container-id-4\" class=\"sk-top-container\"><div class=\"sk-text-repr-fallback\"><pre>RandomForestClassifier(n_estimators=250, random_state=101)</pre><b>In a Jupyter environment, please rerun this cell to show the HTML representation or trust the notebook. <br />On GitHub, the HTML representation is unable to render, please try loading this page with nbviewer.org.</b></div><div class=\"sk-container\" hidden><div class=\"sk-item\"><div class=\"sk-estimator sk-toggleable\"><input class=\"sk-toggleable__control sk-hidden--visually\" id=\"sk-estimator-id-4\" type=\"checkbox\" checked><label for=\"sk-estimator-id-4\" class=\"sk-toggleable__label sk-toggleable__label-arrow\">RandomForestClassifier</label><div class=\"sk-toggleable__content\"><pre>RandomForestClassifier(n_estimators=250, random_state=101)</pre></div></div></div></div></div>",
      "text/plain": "RandomForestClassifier(n_estimators=250, random_state=101)"
     },
     "execution_count": 76,
     "metadata": {},
     "output_type": "execute_result"
    }
   ],
   "source": [
    "from sklearn.ensemble import RandomForestClassifier\n",
    "\n",
    "model = RandomForestClassifier(n_estimators=250, random_state=101)\n",
    "classifier = model.fit(X_train,y_train)\n",
    "classifier"
   ]
  },
  {
   "cell_type": "code",
   "execution_count": 77,
   "metadata": {},
   "outputs": [
    {
     "name": "stdout",
     "output_type": "stream",
     "text": [
      "Accuracy Score: 88.97435897435896\n",
      "[0.9        0.90769231 0.9        0.91538462 0.90769231 0.89230769\n",
      " 0.88461538 0.89147287 0.89147287 0.89147287]\n",
      "Cross Validation mean is : 89.82110912343471\n",
      "Cross Validation std is : 0.9148888225229147\n"
     ]
    }
   ],
   "source": [
    "#prediction\r\n",
    "y_pred = classifier.predict(X_test)\r\n",
    "from sklearn import metrics\r\n",
    "#Accuracy\r\n",
    "print('Accuracy Score:', metrics.accuracy_score(y_test, y_pred)*100)\r\n",
    "\r\n",
    "score = cross_val_score(model, X, y, cv=10)\r\n",
    "print(score)\r\n",
    "print(\"Cross Validation mean is :\", np.mean(score)*100)\r\n",
    "print(\"Cross Validation std is :\", np.std(score)*100)"
   ]
  },
  {
   "cell_type": "code",
   "execution_count": 78,
   "metadata": {},
   "outputs": [],
   "source": [
    "# for k in range (5,15):\n",
    "#     model = DecisionTreeClassifier(criterion='entropy')\n",
    "#     score = cross_val_score(model, X, y, cv=10)\n",
    "#     print(f\"Cross Validation {k:02}: accuracy is \", np.mean(score)*100)"
   ]
  },
  {
   "cell_type": "code",
   "execution_count": 79,
   "metadata": {},
   "outputs": [
    {
     "data": {
      "text/plain": "88.97435897435896"
     },
     "execution_count": 79,
     "metadata": {},
     "output_type": "execute_result"
    }
   ],
   "source": [
    "classifier.score(X_test, y_test)*100"
   ]
  },
  {
   "cell_type": "code",
   "execution_count": 80,
   "metadata": {},
   "outputs": [
    {
     "name": "stdout",
     "output_type": "stream",
     "text": [
      "Accuracy Score: 88.97435897435896\n"
     ]
    }
   ],
   "source": [
    "print('Accuracy Score:', metrics.accuracy_score(y_test, y_pred)*100)"
   ]
  },
  {
   "cell_type": "code",
   "execution_count": 81,
   "metadata": {},
   "outputs": [
    {
     "data": {
      "text/plain": "array(['PL', 'PL', 'PL', 'PL', 'PL', 'PL', 'PL', 'PL', 'PL', 'PL', 'PL',\n       'NPL', 'PL', 'PL', 'PL', 'PL', 'PL', 'PL', 'PL', 'PL', 'PL', 'PL',\n       'PL', 'PL', 'PL', 'PL', 'PL', 'PL', 'PL', 'PL', 'PL', 'PL', 'PL',\n       'PL', 'PL', 'PL', 'PL', 'PL', 'PL', 'PL', 'PL', 'PL', 'PL', 'PL',\n       'PL', 'PL', 'PL', 'PL', 'PL', 'PL', 'PL', 'PL', 'PL', 'PL', 'PL',\n       'PL', 'PL', 'PL', 'PL', 'PL', 'PL', 'PL', 'PL', 'PL', 'PL', 'PL',\n       'PL', 'PL', 'PL', 'PL', 'PL', 'PL', 'PL', 'PL', 'PL', 'PL', 'PL',\n       'PL', 'PL', 'PL', 'PL', 'PL', 'PL', 'PL', 'PL', 'PL', 'PL', 'PL',\n       'PL', 'PL', 'PL', 'PL', 'PL', 'PL', 'PL', 'PL', 'PL', 'PL', 'PL',\n       'PL', 'PL', 'PL', 'PL', 'PL', 'PL', 'PL', 'PL', 'PL', 'PL', 'PL',\n       'PL', 'PL', 'PL', 'PL', 'PL', 'PL', 'PL', 'PL', 'PL', 'PL', 'PL',\n       'PL', 'PL', 'PL', 'PL', 'PL', 'PL', 'PL', 'PL', 'PL', 'PL', 'PL',\n       'PL', 'PL', 'PL', 'PL', 'PL', 'PL', 'PL', 'PL', 'PL', 'PL', 'PL',\n       'PL', 'PL', 'PL', 'PL', 'PL', 'PL', 'PL', 'PL', 'PL', 'PL', 'PL',\n       'PL', 'PL', 'PL', 'PL', 'PL', 'PL', 'PL', 'PL', 'PL', 'PL', 'PL',\n       'PL', 'PL', 'PL', 'PL', 'PL', 'PL', 'PL', 'PL', 'PL', 'PL', 'PL',\n       'PL', 'PL', 'PL', 'PL', 'PL', 'PL', 'PL', 'PL', 'PL', 'PL', 'PL',\n       'PL', 'PL', 'PL', 'PL', 'PL', 'PL', 'PL', 'PL', 'PL', 'PL', 'PL',\n       'PL', 'PL', 'PL', 'PL', 'PL', 'PL', 'PL', 'PL', 'PL', 'PL', 'PL',\n       'PL', 'PL', 'PL', 'PL', 'PL', 'PL', 'PL', 'PL', 'PL', 'PL', 'PL',\n       'PL', 'PL', 'PL', 'PL', 'PL', 'PL', 'PL', 'PL', 'PL', 'PL', 'PL',\n       'PL', 'PL', 'PL', 'PL', 'PL', 'PL', 'PL', 'PL', 'PL', 'PL', 'PL',\n       'PL', 'PL', 'PL', 'PL', 'PL', 'PL', 'PL', 'PL', 'PL', 'PL', 'PL',\n       'PL', 'PL', 'PL', 'PL', 'PL', 'PL', 'PL', 'PL', 'PL', 'PL', 'PL',\n       'PL', 'PL', 'NPL', 'PL', 'PL', 'PL', 'PL', 'PL', 'PL', 'PL', 'PL',\n       'PL', 'PL', 'PL', 'PL', 'PL', 'PL', 'PL', 'PL', 'PL', 'PL', 'PL',\n       'PL', 'PL', 'PL', 'PL', 'PL', 'PL', 'PL', 'PL', 'PL', 'PL', 'PL',\n       'PL', 'PL', 'PL', 'PL', 'PL', 'PL', 'PL', 'PL', 'PL', 'PL', 'PL',\n       'PL', 'PL', 'PL', 'PL', 'PL', 'PL', 'PL', 'PL', 'PL', 'PL', 'PL',\n       'PL', 'PL', 'PL', 'PL', 'PL', 'PL', 'PL', 'PL', 'PL', 'PL', 'PL',\n       'PL', 'PL', 'PL', 'NPL', 'PL', 'PL', 'PL', 'PL', 'PL', 'PL', 'PL',\n       'PL', 'PL', 'PL', 'PL', 'PL', 'PL', 'PL', 'PL', 'PL', 'PL', 'PL',\n       'PL', 'PL', 'PL', 'PL', 'PL', 'PL', 'PL', 'PL', 'PL', 'PL', 'PL',\n       'PL', 'PL', 'PL', 'PL', 'PL', 'PL', 'PL', 'PL', 'PL', 'PL', 'PL',\n       'PL', 'PL', 'PL', 'PL', 'PL', 'PL', 'PL', 'PL', 'PL', 'PL', 'PL',\n       'PL', 'PL', 'PL', 'PL', 'PL'], dtype=object)"
     },
     "execution_count": 81,
     "metadata": {},
     "output_type": "execute_result"
    }
   ],
   "source": [
    "y_pred = classifier.predict(X_test)\n",
    "y_pred"
   ]
  },
  {
   "cell_type": "code",
   "execution_count": 82,
   "metadata": {},
   "outputs": [
    {
     "name": "stdout",
     "output_type": "stream",
     "text": [
      "Confusion matrix : \n",
      " [[  0  40]\n",
      " [  3 347]]\n",
      "Classification report : \n",
      "               precision    recall  f1-score   support\n",
      "\n",
      "         NPL       0.00      0.00      0.00        40\n",
      "          PL       0.90      0.99      0.94       350\n",
      "\n",
      "    accuracy                           0.89       390\n",
      "   macro avg       0.45      0.50      0.47       390\n",
      "weighted avg       0.80      0.89      0.85       390\n",
      "\n"
     ]
    }
   ],
   "source": [
    "from sklearn.metrics import confusion_matrix\n",
    "from sklearn.metrics import classification_report\n",
    "\n",
    "cm = confusion_matrix(y_test, y_pred)\n",
    "print('Confusion matrix : \\n',cm)\n",
    "\n",
    "cr = classification_report(y_test, y_pred)\n",
    "print('Classification report : \\n',cr)"
   ]
  },
  {
   "cell_type": "code",
   "execution_count": 83,
   "metadata": {},
   "outputs": [
    {
     "ename": "ImportError",
     "evalue": "cannot import name 'plot_confusion_matrix' from 'sklearn.metrics' (C:\\ProgramData\\Anaconda3\\lib\\site-packages\\sklearn\\metrics\\__init__.py)",
     "output_type": "error",
     "traceback": [
      "\u001b[1;31m---------------------------------------------------------------------------\u001b[0m",
      "\u001b[1;31mImportError\u001b[0m                               Traceback (most recent call last)",
      "Input \u001b[1;32mIn [83]\u001b[0m, in \u001b[0;36m<cell line: 1>\u001b[1;34m()\u001b[0m\n\u001b[1;32m----> 1\u001b[0m \u001b[38;5;28;01mfrom\u001b[39;00m \u001b[38;5;21;01msklearn\u001b[39;00m\u001b[38;5;21;01m.\u001b[39;00m\u001b[38;5;21;01mmetrics\u001b[39;00m \u001b[38;5;28;01mimport\u001b[39;00m accuracy_score, plot_confusion_matrix, plot_roc_curve\n\u001b[0;32m      2\u001b[0m plot_confusion_matrix(classifier, X_test, y_test, cmap\u001b[38;5;241m=\u001b[39m\u001b[38;5;124m'\u001b[39m\u001b[38;5;124mBlues\u001b[39m\u001b[38;5;124m'\u001b[39m, values_format\u001b[38;5;241m=\u001b[39m\u001b[38;5;124m'\u001b[39m\u001b[38;5;124md\u001b[39m\u001b[38;5;124m'\u001b[39m)\n",
      "\u001b[1;31mImportError\u001b[0m: cannot import name 'plot_confusion_matrix' from 'sklearn.metrics' (C:\\ProgramData\\Anaconda3\\lib\\site-packages\\sklearn\\metrics\\__init__.py)"
     ]
    }
   ],
   "source": [
    "from sklearn.metrics import accuracy_score, plot_confusion_matrix, plot_roc_curve\n",
    "plot_confusion_matrix(classifier, X_test, y_test, cmap='Blues', values_format='d')"
   ]
  },
  {
   "cell_type": "code",
   "execution_count": 84,
   "metadata": {},
   "outputs": [
    {
     "ename": "ImportError",
     "evalue": "cannot import name 'plot_roc_curve' from 'sklearn.metrics' (C:\\ProgramData\\Anaconda3\\lib\\site-packages\\sklearn\\metrics\\__init__.py)",
     "output_type": "error",
     "traceback": [
      "\u001b[1;31m---------------------------------------------------------------------------\u001b[0m",
      "\u001b[1;31mImportError\u001b[0m                               Traceback (most recent call last)",
      "Input \u001b[1;32mIn [84]\u001b[0m, in \u001b[0;36m<cell line: 1>\u001b[1;34m()\u001b[0m\n\u001b[1;32m----> 1\u001b[0m \u001b[38;5;28;01mfrom\u001b[39;00m \u001b[38;5;21;01msklearn\u001b[39;00m\u001b[38;5;21;01m.\u001b[39;00m\u001b[38;5;21;01mmetrics\u001b[39;00m \u001b[38;5;28;01mimport\u001b[39;00m plot_roc_curve\n\u001b[0;32m      2\u001b[0m plot_roc_curve(classifier, X_test, y_test)\n\u001b[0;32m      3\u001b[0m plt\u001b[38;5;241m.\u001b[39mgrid()\n",
      "\u001b[1;31mImportError\u001b[0m: cannot import name 'plot_roc_curve' from 'sklearn.metrics' (C:\\ProgramData\\Anaconda3\\lib\\site-packages\\sklearn\\metrics\\__init__.py)"
     ]
    }
   ],
   "source": [
    "from sklearn.metrics import plot_roc_curve\n",
    "plot_roc_curve(classifier, X_test, y_test)\n",
    "plt.grid()"
   ]
  },
  {
   "cell_type": "markdown",
   "metadata": {},
   "source": [
    "## ExtraTreesClassifier"
   ]
  },
  {
   "cell_type": "code",
   "execution_count": 85,
   "metadata": {},
   "outputs": [
    {
     "data": {
      "text/html": "<style>#sk-container-id-5 {color: black;background-color: white;}#sk-container-id-5 pre{padding: 0;}#sk-container-id-5 div.sk-toggleable {background-color: white;}#sk-container-id-5 label.sk-toggleable__label {cursor: pointer;display: block;width: 100%;margin-bottom: 0;padding: 0.3em;box-sizing: border-box;text-align: center;}#sk-container-id-5 label.sk-toggleable__label-arrow:before {content: \"▸\";float: left;margin-right: 0.25em;color: #696969;}#sk-container-id-5 label.sk-toggleable__label-arrow:hover:before {color: black;}#sk-container-id-5 div.sk-estimator:hover label.sk-toggleable__label-arrow:before {color: black;}#sk-container-id-5 div.sk-toggleable__content {max-height: 0;max-width: 0;overflow: hidden;text-align: left;background-color: #f0f8ff;}#sk-container-id-5 div.sk-toggleable__content pre {margin: 0.2em;color: black;border-radius: 0.25em;background-color: #f0f8ff;}#sk-container-id-5 input.sk-toggleable__control:checked~div.sk-toggleable__content {max-height: 200px;max-width: 100%;overflow: auto;}#sk-container-id-5 input.sk-toggleable__control:checked~label.sk-toggleable__label-arrow:before {content: \"▾\";}#sk-container-id-5 div.sk-estimator input.sk-toggleable__control:checked~label.sk-toggleable__label {background-color: #d4ebff;}#sk-container-id-5 div.sk-label input.sk-toggleable__control:checked~label.sk-toggleable__label {background-color: #d4ebff;}#sk-container-id-5 input.sk-hidden--visually {border: 0;clip: rect(1px 1px 1px 1px);clip: rect(1px, 1px, 1px, 1px);height: 1px;margin: -1px;overflow: hidden;padding: 0;position: absolute;width: 1px;}#sk-container-id-5 div.sk-estimator {font-family: monospace;background-color: #f0f8ff;border: 1px dotted black;border-radius: 0.25em;box-sizing: border-box;margin-bottom: 0.5em;}#sk-container-id-5 div.sk-estimator:hover {background-color: #d4ebff;}#sk-container-id-5 div.sk-parallel-item::after {content: \"\";width: 100%;border-bottom: 1px solid gray;flex-grow: 1;}#sk-container-id-5 div.sk-label:hover label.sk-toggleable__label {background-color: #d4ebff;}#sk-container-id-5 div.sk-serial::before {content: \"\";position: absolute;border-left: 1px solid gray;box-sizing: border-box;top: 0;bottom: 0;left: 50%;z-index: 0;}#sk-container-id-5 div.sk-serial {display: flex;flex-direction: column;align-items: center;background-color: white;padding-right: 0.2em;padding-left: 0.2em;position: relative;}#sk-container-id-5 div.sk-item {position: relative;z-index: 1;}#sk-container-id-5 div.sk-parallel {display: flex;align-items: stretch;justify-content: center;background-color: white;position: relative;}#sk-container-id-5 div.sk-item::before, #sk-container-id-5 div.sk-parallel-item::before {content: \"\";position: absolute;border-left: 1px solid gray;box-sizing: border-box;top: 0;bottom: 0;left: 50%;z-index: -1;}#sk-container-id-5 div.sk-parallel-item {display: flex;flex-direction: column;z-index: 1;position: relative;background-color: white;}#sk-container-id-5 div.sk-parallel-item:first-child::after {align-self: flex-end;width: 50%;}#sk-container-id-5 div.sk-parallel-item:last-child::after {align-self: flex-start;width: 50%;}#sk-container-id-5 div.sk-parallel-item:only-child::after {width: 0;}#sk-container-id-5 div.sk-dashed-wrapped {border: 1px dashed gray;margin: 0 0.4em 0.5em 0.4em;box-sizing: border-box;padding-bottom: 0.4em;background-color: white;}#sk-container-id-5 div.sk-label label {font-family: monospace;font-weight: bold;display: inline-block;line-height: 1.2em;}#sk-container-id-5 div.sk-label-container {text-align: center;}#sk-container-id-5 div.sk-container {/* jupyter's `normalize.less` sets `[hidden] { display: none; }` but bootstrap.min.css set `[hidden] { display: none !important; }` so we also need the `!important` here to be able to override the default hidden behavior on the sphinx rendered scikit-learn.org. See: https://github.com/scikit-learn/scikit-learn/issues/21755 */display: inline-block !important;position: relative;}#sk-container-id-5 div.sk-text-repr-fallback {display: none;}</style><div id=\"sk-container-id-5\" class=\"sk-top-container\"><div class=\"sk-text-repr-fallback\"><pre>ExtraTreesClassifier()</pre><b>In a Jupyter environment, please rerun this cell to show the HTML representation or trust the notebook. <br />On GitHub, the HTML representation is unable to render, please try loading this page with nbviewer.org.</b></div><div class=\"sk-container\" hidden><div class=\"sk-item\"><div class=\"sk-estimator sk-toggleable\"><input class=\"sk-toggleable__control sk-hidden--visually\" id=\"sk-estimator-id-5\" type=\"checkbox\" checked><label for=\"sk-estimator-id-5\" class=\"sk-toggleable__label sk-toggleable__label-arrow\">ExtraTreesClassifier</label><div class=\"sk-toggleable__content\"><pre>ExtraTreesClassifier()</pre></div></div></div></div></div>",
      "text/plain": "ExtraTreesClassifier()"
     },
     "execution_count": 85,
     "metadata": {},
     "output_type": "execute_result"
    }
   ],
   "source": [
    "from sklearn.ensemble import RandomForestClassifier, ExtraTreesClassifier\n",
    "model = ExtraTreesClassifier()\n",
    "classifier = model.fit(X_train,y_train)\n",
    "classifier"
   ]
  },
  {
   "cell_type": "code",
   "execution_count": 86,
   "metadata": {},
   "outputs": [
    {
     "name": "stdout",
     "output_type": "stream",
     "text": [
      "Accuracy Score: 89.23076923076924\n",
      "[0.90769231 0.90769231 0.90769231 0.90769231 0.90769231 0.88461538\n",
      " 0.89230769 0.89147287 0.89922481 0.88372093]\n",
      "Cross Validation mean is : 89.89803220035778\n",
      "Cross Validation std is : 0.9589783931505453\n"
     ]
    }
   ],
   "source": [
    "#prediction\r\n",
    "y_pred = classifier.predict(X_test)\r\n",
    "from sklearn import metrics\r\n",
    "#Accuracy\r\n",
    "print('Accuracy Score:', metrics.accuracy_score(y_test, y_pred)*100)\r\n",
    "\r\n",
    "score = cross_val_score(model, X, y, cv=10)\r\n",
    "print(score)\r\n",
    "print(\"Cross Validation mean is :\", np.mean(score)*100)\r\n",
    "print(\"Cross Validation std is :\", np.std(score)*100)"
   ]
  },
  {
   "cell_type": "code",
   "execution_count": 87,
   "metadata": {},
   "outputs": [
    {
     "name": "stdout",
     "output_type": "stream",
     "text": [
      "Confusion matrix : \n",
      " [[  2  38]\n",
      " [  4 346]]\n",
      "Classification report : \n",
      "               precision    recall  f1-score   support\n",
      "\n",
      "         NPL       0.33      0.05      0.09        40\n",
      "          PL       0.90      0.99      0.94       350\n",
      "\n",
      "    accuracy                           0.89       390\n",
      "   macro avg       0.62      0.52      0.51       390\n",
      "weighted avg       0.84      0.89      0.86       390\n",
      "\n"
     ]
    }
   ],
   "source": [
    "from sklearn.metrics import confusion_matrix\n",
    "from sklearn.metrics import classification_report\n",
    "\n",
    "cm = confusion_matrix(y_test, y_pred)\n",
    "print('Confusion matrix : \\n',cm)\n",
    "\n",
    "cr = classification_report(y_test, y_pred)\n",
    "print('Classification report : \\n',cr)"
   ]
  },
  {
   "cell_type": "code",
   "execution_count": 88,
   "metadata": {},
   "outputs": [
    {
     "ename": "ImportError",
     "evalue": "cannot import name 'plot_confusion_matrix' from 'sklearn.metrics' (C:\\ProgramData\\Anaconda3\\lib\\site-packages\\sklearn\\metrics\\__init__.py)",
     "output_type": "error",
     "traceback": [
      "\u001b[1;31m---------------------------------------------------------------------------\u001b[0m",
      "\u001b[1;31mImportError\u001b[0m                               Traceback (most recent call last)",
      "Input \u001b[1;32mIn [88]\u001b[0m, in \u001b[0;36m<cell line: 1>\u001b[1;34m()\u001b[0m\n\u001b[1;32m----> 1\u001b[0m \u001b[38;5;28;01mfrom\u001b[39;00m \u001b[38;5;21;01msklearn\u001b[39;00m\u001b[38;5;21;01m.\u001b[39;00m\u001b[38;5;21;01mmetrics\u001b[39;00m \u001b[38;5;28;01mimport\u001b[39;00m accuracy_score, plot_confusion_matrix, plot_roc_curve\n\u001b[0;32m      2\u001b[0m plot_confusion_matrix(classifier, X_test, y_test, cmap\u001b[38;5;241m=\u001b[39m\u001b[38;5;124m'\u001b[39m\u001b[38;5;124mBlues\u001b[39m\u001b[38;5;124m'\u001b[39m, values_format\u001b[38;5;241m=\u001b[39m\u001b[38;5;124m'\u001b[39m\u001b[38;5;124md\u001b[39m\u001b[38;5;124m'\u001b[39m)\n",
      "\u001b[1;31mImportError\u001b[0m: cannot import name 'plot_confusion_matrix' from 'sklearn.metrics' (C:\\ProgramData\\Anaconda3\\lib\\site-packages\\sklearn\\metrics\\__init__.py)"
     ]
    }
   ],
   "source": [
    "from sklearn.metrics import accuracy_score, plot_confusion_matrix, plot_roc_curve\n",
    "plot_confusion_matrix(classifier, X_test, y_test, cmap='Blues', values_format='d')"
   ]
  },
  {
   "cell_type": "code",
   "execution_count": 89,
   "metadata": {},
   "outputs": [
    {
     "ename": "ImportError",
     "evalue": "cannot import name 'plot_roc_curve' from 'sklearn.metrics' (C:\\ProgramData\\Anaconda3\\lib\\site-packages\\sklearn\\metrics\\__init__.py)",
     "output_type": "error",
     "traceback": [
      "\u001b[1;31m---------------------------------------------------------------------------\u001b[0m",
      "\u001b[1;31mImportError\u001b[0m                               Traceback (most recent call last)",
      "Input \u001b[1;32mIn [89]\u001b[0m, in \u001b[0;36m<cell line: 1>\u001b[1;34m()\u001b[0m\n\u001b[1;32m----> 1\u001b[0m \u001b[38;5;28;01mfrom\u001b[39;00m \u001b[38;5;21;01msklearn\u001b[39;00m\u001b[38;5;21;01m.\u001b[39;00m\u001b[38;5;21;01mmetrics\u001b[39;00m \u001b[38;5;28;01mimport\u001b[39;00m plot_roc_curve\n\u001b[0;32m      2\u001b[0m plot_roc_curve(classifier, X_test, y_test)\n\u001b[0;32m      3\u001b[0m plt\u001b[38;5;241m.\u001b[39mgrid()\n",
      "\u001b[1;31mImportError\u001b[0m: cannot import name 'plot_roc_curve' from 'sklearn.metrics' (C:\\ProgramData\\Anaconda3\\lib\\site-packages\\sklearn\\metrics\\__init__.py)"
     ]
    }
   ],
   "source": [
    "from sklearn.metrics import plot_roc_curve\n",
    "plot_roc_curve(classifier, X_test, y_test)\n",
    "plt.grid()"
   ]
  },
  {
   "cell_type": "markdown",
   "metadata": {},
   "source": [
    "## Logistic Regression"
   ]
  },
  {
   "cell_type": "code",
   "execution_count": 90,
   "metadata": {},
   "outputs": [
    {
     "data": {
      "text/html": "<style>#sk-container-id-6 {color: black;background-color: white;}#sk-container-id-6 pre{padding: 0;}#sk-container-id-6 div.sk-toggleable {background-color: white;}#sk-container-id-6 label.sk-toggleable__label {cursor: pointer;display: block;width: 100%;margin-bottom: 0;padding: 0.3em;box-sizing: border-box;text-align: center;}#sk-container-id-6 label.sk-toggleable__label-arrow:before {content: \"▸\";float: left;margin-right: 0.25em;color: #696969;}#sk-container-id-6 label.sk-toggleable__label-arrow:hover:before {color: black;}#sk-container-id-6 div.sk-estimator:hover label.sk-toggleable__label-arrow:before {color: black;}#sk-container-id-6 div.sk-toggleable__content {max-height: 0;max-width: 0;overflow: hidden;text-align: left;background-color: #f0f8ff;}#sk-container-id-6 div.sk-toggleable__content pre {margin: 0.2em;color: black;border-radius: 0.25em;background-color: #f0f8ff;}#sk-container-id-6 input.sk-toggleable__control:checked~div.sk-toggleable__content {max-height: 200px;max-width: 100%;overflow: auto;}#sk-container-id-6 input.sk-toggleable__control:checked~label.sk-toggleable__label-arrow:before {content: \"▾\";}#sk-container-id-6 div.sk-estimator input.sk-toggleable__control:checked~label.sk-toggleable__label {background-color: #d4ebff;}#sk-container-id-6 div.sk-label input.sk-toggleable__control:checked~label.sk-toggleable__label {background-color: #d4ebff;}#sk-container-id-6 input.sk-hidden--visually {border: 0;clip: rect(1px 1px 1px 1px);clip: rect(1px, 1px, 1px, 1px);height: 1px;margin: -1px;overflow: hidden;padding: 0;position: absolute;width: 1px;}#sk-container-id-6 div.sk-estimator {font-family: monospace;background-color: #f0f8ff;border: 1px dotted black;border-radius: 0.25em;box-sizing: border-box;margin-bottom: 0.5em;}#sk-container-id-6 div.sk-estimator:hover {background-color: #d4ebff;}#sk-container-id-6 div.sk-parallel-item::after {content: \"\";width: 100%;border-bottom: 1px solid gray;flex-grow: 1;}#sk-container-id-6 div.sk-label:hover label.sk-toggleable__label {background-color: #d4ebff;}#sk-container-id-6 div.sk-serial::before {content: \"\";position: absolute;border-left: 1px solid gray;box-sizing: border-box;top: 0;bottom: 0;left: 50%;z-index: 0;}#sk-container-id-6 div.sk-serial {display: flex;flex-direction: column;align-items: center;background-color: white;padding-right: 0.2em;padding-left: 0.2em;position: relative;}#sk-container-id-6 div.sk-item {position: relative;z-index: 1;}#sk-container-id-6 div.sk-parallel {display: flex;align-items: stretch;justify-content: center;background-color: white;position: relative;}#sk-container-id-6 div.sk-item::before, #sk-container-id-6 div.sk-parallel-item::before {content: \"\";position: absolute;border-left: 1px solid gray;box-sizing: border-box;top: 0;bottom: 0;left: 50%;z-index: -1;}#sk-container-id-6 div.sk-parallel-item {display: flex;flex-direction: column;z-index: 1;position: relative;background-color: white;}#sk-container-id-6 div.sk-parallel-item:first-child::after {align-self: flex-end;width: 50%;}#sk-container-id-6 div.sk-parallel-item:last-child::after {align-self: flex-start;width: 50%;}#sk-container-id-6 div.sk-parallel-item:only-child::after {width: 0;}#sk-container-id-6 div.sk-dashed-wrapped {border: 1px dashed gray;margin: 0 0.4em 0.5em 0.4em;box-sizing: border-box;padding-bottom: 0.4em;background-color: white;}#sk-container-id-6 div.sk-label label {font-family: monospace;font-weight: bold;display: inline-block;line-height: 1.2em;}#sk-container-id-6 div.sk-label-container {text-align: center;}#sk-container-id-6 div.sk-container {/* jupyter's `normalize.less` sets `[hidden] { display: none; }` but bootstrap.min.css set `[hidden] { display: none !important; }` so we also need the `!important` here to be able to override the default hidden behavior on the sphinx rendered scikit-learn.org. See: https://github.com/scikit-learn/scikit-learn/issues/21755 */display: inline-block !important;position: relative;}#sk-container-id-6 div.sk-text-repr-fallback {display: none;}</style><div id=\"sk-container-id-6\" class=\"sk-top-container\"><div class=\"sk-text-repr-fallback\"><pre>LogisticRegression()</pre><b>In a Jupyter environment, please rerun this cell to show the HTML representation or trust the notebook. <br />On GitHub, the HTML representation is unable to render, please try loading this page with nbviewer.org.</b></div><div class=\"sk-container\" hidden><div class=\"sk-item\"><div class=\"sk-estimator sk-toggleable\"><input class=\"sk-toggleable__control sk-hidden--visually\" id=\"sk-estimator-id-6\" type=\"checkbox\" checked><label for=\"sk-estimator-id-6\" class=\"sk-toggleable__label sk-toggleable__label-arrow\">LogisticRegression</label><div class=\"sk-toggleable__content\"><pre>LogisticRegression()</pre></div></div></div></div></div>",
      "text/plain": "LogisticRegression()"
     },
     "execution_count": 90,
     "metadata": {},
     "output_type": "execute_result"
    }
   ],
   "source": [
    "from sklearn.linear_model import LogisticRegression\n",
    "model = LogisticRegression()\n",
    "classifier = model.fit(X_train,y_train)\n",
    "classifier"
   ]
  },
  {
   "cell_type": "code",
   "execution_count": 91,
   "metadata": {},
   "outputs": [
    {
     "name": "stdout",
     "output_type": "stream",
     "text": [
      "Accuracy Score: 89.74358974358975\n",
      "[0.9        0.9        0.9        0.9        0.9        0.89230769\n",
      " 0.89230769 0.89922481 0.89922481 0.89922481]\n",
      "Cross Validation mean is : 89.82289803220036\n",
      "Cross Validation std is : 0.2979611795909501\n"
     ]
    },
    {
     "name": "stderr",
     "output_type": "stream",
     "text": [
      "C:\\ProgramData\\Anaconda3\\lib\\site-packages\\sklearn\\linear_model\\_logistic.py:458: ConvergenceWarning: lbfgs failed to converge (status=1):\n",
      "STOP: TOTAL NO. of ITERATIONS REACHED LIMIT.\n",
      "\n",
      "Increase the number of iterations (max_iter) or scale the data as shown in:\n",
      "    https://scikit-learn.org/stable/modules/preprocessing.html\n",
      "Please also refer to the documentation for alternative solver options:\n",
      "    https://scikit-learn.org/stable/modules/linear_model.html#logistic-regression\n",
      "  n_iter_i = _check_optimize_result(\n"
     ]
    }
   ],
   "source": [
    "#prediction\r\n",
    "y_pred = classifier.predict(X_test)\r\n",
    "from sklearn import metrics\r\n",
    "#Accuracy\r\n",
    "print('Accuracy Score:', metrics.accuracy_score(y_test, y_pred)*100)\r\n",
    "\r\n",
    "score = cross_val_score(model, X, y, cv=10)\r\n",
    "print(score)\r\n",
    "print(\"Cross Validation mean is :\", np.mean(score)*100)\r\n",
    "print(\"Cross Validation std is :\", np.std(score)*100)"
   ]
  },
  {
   "cell_type": "code",
   "execution_count": 92,
   "metadata": {},
   "outputs": [
    {
     "name": "stdout",
     "output_type": "stream",
     "text": [
      "Confusion matrix : \n",
      " [[  0  40]\n",
      " [  0 350]]\n",
      "Classification report : \n",
      "               precision    recall  f1-score   support\n",
      "\n",
      "         NPL       0.00      0.00      0.00        40\n",
      "          PL       0.90      1.00      0.95       350\n",
      "\n",
      "    accuracy                           0.90       390\n",
      "   macro avg       0.45      0.50      0.47       390\n",
      "weighted avg       0.81      0.90      0.85       390\n",
      "\n"
     ]
    },
    {
     "name": "stderr",
     "output_type": "stream",
     "text": [
      "C:\\ProgramData\\Anaconda3\\lib\\site-packages\\sklearn\\metrics\\_classification.py:1344: UndefinedMetricWarning: Precision and F-score are ill-defined and being set to 0.0 in labels with no predicted samples. Use `zero_division` parameter to control this behavior.\n",
      "  _warn_prf(average, modifier, msg_start, len(result))\n",
      "C:\\ProgramData\\Anaconda3\\lib\\site-packages\\sklearn\\metrics\\_classification.py:1344: UndefinedMetricWarning: Precision and F-score are ill-defined and being set to 0.0 in labels with no predicted samples. Use `zero_division` parameter to control this behavior.\n",
      "  _warn_prf(average, modifier, msg_start, len(result))\n",
      "C:\\ProgramData\\Anaconda3\\lib\\site-packages\\sklearn\\metrics\\_classification.py:1344: UndefinedMetricWarning: Precision and F-score are ill-defined and being set to 0.0 in labels with no predicted samples. Use `zero_division` parameter to control this behavior.\n",
      "  _warn_prf(average, modifier, msg_start, len(result))\n"
     ]
    }
   ],
   "source": [
    "from sklearn.metrics import confusion_matrix\n",
    "from sklearn.metrics import classification_report\n",
    "\n",
    "cm = confusion_matrix(y_test, y_pred)\n",
    "print('Confusion matrix : \\n',cm)\n",
    "\n",
    "cr = classification_report(y_test, y_pred)\n",
    "print('Classification report : \\n',cr)"
   ]
  },
  {
   "cell_type": "code",
   "execution_count": 93,
   "metadata": {},
   "outputs": [
    {
     "ename": "ImportError",
     "evalue": "cannot import name 'plot_confusion_matrix' from 'sklearn.metrics' (C:\\ProgramData\\Anaconda3\\lib\\site-packages\\sklearn\\metrics\\__init__.py)",
     "output_type": "error",
     "traceback": [
      "\u001b[1;31m---------------------------------------------------------------------------\u001b[0m",
      "\u001b[1;31mImportError\u001b[0m                               Traceback (most recent call last)",
      "Input \u001b[1;32mIn [93]\u001b[0m, in \u001b[0;36m<cell line: 1>\u001b[1;34m()\u001b[0m\n\u001b[1;32m----> 1\u001b[0m \u001b[38;5;28;01mfrom\u001b[39;00m \u001b[38;5;21;01msklearn\u001b[39;00m\u001b[38;5;21;01m.\u001b[39;00m\u001b[38;5;21;01mmetrics\u001b[39;00m \u001b[38;5;28;01mimport\u001b[39;00m accuracy_score, plot_confusion_matrix, plot_roc_curve\n\u001b[0;32m      2\u001b[0m plot_confusion_matrix(classifier, X_test, y_test, cmap\u001b[38;5;241m=\u001b[39m\u001b[38;5;124m'\u001b[39m\u001b[38;5;124mBlues\u001b[39m\u001b[38;5;124m'\u001b[39m, values_format\u001b[38;5;241m=\u001b[39m\u001b[38;5;124m'\u001b[39m\u001b[38;5;124md\u001b[39m\u001b[38;5;124m'\u001b[39m)\n",
      "\u001b[1;31mImportError\u001b[0m: cannot import name 'plot_confusion_matrix' from 'sklearn.metrics' (C:\\ProgramData\\Anaconda3\\lib\\site-packages\\sklearn\\metrics\\__init__.py)"
     ]
    }
   ],
   "source": [
    "from sklearn.metrics import accuracy_score, plot_confusion_matrix, plot_roc_curve\n",
    "plot_confusion_matrix(classifier, X_test, y_test, cmap='Blues', values_format='d')"
   ]
  },
  {
   "cell_type": "code",
   "execution_count": 94,
   "metadata": {},
   "outputs": [
    {
     "ename": "ImportError",
     "evalue": "cannot import name 'plot_roc_curve' from 'sklearn.metrics' (C:\\ProgramData\\Anaconda3\\lib\\site-packages\\sklearn\\metrics\\__init__.py)",
     "output_type": "error",
     "traceback": [
      "\u001b[1;31m---------------------------------------------------------------------------\u001b[0m",
      "\u001b[1;31mImportError\u001b[0m                               Traceback (most recent call last)",
      "Input \u001b[1;32mIn [94]\u001b[0m, in \u001b[0;36m<cell line: 1>\u001b[1;34m()\u001b[0m\n\u001b[1;32m----> 1\u001b[0m \u001b[38;5;28;01mfrom\u001b[39;00m \u001b[38;5;21;01msklearn\u001b[39;00m\u001b[38;5;21;01m.\u001b[39;00m\u001b[38;5;21;01mmetrics\u001b[39;00m \u001b[38;5;28;01mimport\u001b[39;00m plot_roc_curve\n\u001b[0;32m      2\u001b[0m plot_roc_curve(classifier, X_test, y_test)\n\u001b[0;32m      3\u001b[0m plt\u001b[38;5;241m.\u001b[39mgrid()\n",
      "\u001b[1;31mImportError\u001b[0m: cannot import name 'plot_roc_curve' from 'sklearn.metrics' (C:\\ProgramData\\Anaconda3\\lib\\site-packages\\sklearn\\metrics\\__init__.py)"
     ]
    }
   ],
   "source": [
    "from sklearn.metrics import plot_roc_curve\n",
    "plot_roc_curve(classifier, X_test, y_test)\n",
    "plt.grid()"
   ]
  },
  {
   "attachments": {},
   "cell_type": "markdown",
   "metadata": {},
   "source": [
    "## SVM"
   ]
  },
  {
   "cell_type": "code",
   "execution_count": null,
   "metadata": {},
   "outputs": [],
   "source": [
    "# from sklearn import svm\n",
    "# model = svm.SVC(kernel='linear')\n",
    "# classifier = model.fit(X_train,y_train)\n",
    "# classifier"
   ]
  },
  {
   "cell_type": "code",
   "execution_count": null,
   "metadata": {},
   "outputs": [],
   "source": [
    "# #prediction\n",
    "# y_pred = classifier.predict(X_test)\n",
    "# from sklearn import metrics\n",
    "# #Accuracy\n",
    "# print('Accuracy Score:', metrics.accuracy_score(y_test, y_pred)*100)\n",
    "\n",
    "# score = cross_val_score(model, X, y, cv=10)\n",
    "# print(score)\n",
    "# print(\"Cross Validation is \", np.mean(score)*100)"
   ]
  },
  {
   "cell_type": "code",
   "execution_count": null,
   "metadata": {},
   "outputs": [],
   "source": [
    "# from sklearn.metrics import accuracy_score, plot_confusion_matrix, plot_roc_curve\n",
    "# plot_confusion_matrix(classifier, X_test, y_test, cmap='Blues', values_format='d')"
   ]
  },
  {
   "cell_type": "markdown",
   "metadata": {},
   "source": [
    "# MinMax Scaler"
   ]
  },
  {
   "cell_type": "code",
   "execution_count": null,
   "metadata": {},
   "outputs": [],
   "source": [
    "# from sklearn.preprocessing import MinMaxScaler\n",
    "# scaler = MinMaxScaler()\n",
    "# print(scaler.fit_transform(X_train)[:5])\n",
    "# X_train = scaler.transform(X_train)\n",
    "# X_test = scaler.transform(X_test)\n",
    "# X_train"
   ]
  },
  {
   "cell_type": "markdown",
   "metadata": {},
   "source": [
    "# Evaluation with StartfieldKFold"
   ]
  },
  {
   "cell_type": "code",
   "execution_count": null,
   "metadata": {},
   "outputs": [],
   "source": [
    "#pip install KFold"
   ]
  },
  {
   "cell_type": "code",
   "execution_count": null,
   "metadata": {},
   "outputs": [],
   "source": [
    "# from sklearn.model_selection import KFold\n",
    "# from sklearn.linear_model import LogisticRegression\n",
    "# from sklearn.datasets import load_breast_cancer\n",
    "# from sklearn.metrics import accuracy_score\n",
    "\n",
    "# #\n",
    "# kfold = KFold(n_splits=10, shuffle=True, random_state=0)\n",
    "# kfold"
   ]
  },
  {
   "cell_type": "code",
   "execution_count": null,
   "metadata": {},
   "outputs": [],
   "source": [
    "\n",
    "#kfold = KFold(n_splits=10, shuffle=True, random_state=0)"
   ]
  },
  {
   "cell_type": "code",
   "execution_count": null,
   "metadata": {},
   "outputs": [],
   "source": [
    "#model = LogisticRegression()"
   ]
  },
  {
   "cell_type": "code",
   "execution_count": null,
   "metadata": {},
   "outputs": [],
   "source": [
    "# results = []\n",
    "# for train_index, test_index in kfold.split(X):\n",
    "#     X_train, X_test = X[train_index], X[test_index]\n",
    "#     print(X_train)\n",
    "#     y_train, y_test = y[train_index], y[test_index]\n",
    "    "
   ]
  },
  {
   "cell_type": "code",
   "execution_count": null,
   "metadata": {},
   "outputs": [],
   "source": [
    "from sklearn.ensemble import RandomForestClassifier"
   ]
  },
  {
   "cell_type": "code",
   "execution_count": null,
   "metadata": {},
   "outputs": [],
   "source": [
    "ldf = RandomForestClassifier(n_estimators=250, random_state=101)\n",
    "\n",
    "classifier = ldf.fit(X_train,y_train)"
   ]
  },
  {
   "cell_type": "markdown",
   "metadata": {},
   "source": [
    "## Predictions"
   ]
  },
  {
   "cell_type": "code",
   "execution_count": null,
   "metadata": {},
   "outputs": [],
   "source": [
    "predictions = classifier.predict(X_test)"
   ]
  },
  {
   "cell_type": "code",
   "execution_count": null,
   "metadata": {},
   "outputs": [
    {
     "name": "stdout",
     "output_type": "stream",
     "text": [
      "Accuracy Score: 62.34567901234568\n"
     ]
    }
   ],
   "source": [
    "from sklearn import metrics\n",
    "#Accuracy\n",
    "print('Accuracy Score:', metrics.accuracy_score(y_test, predictions)*100)"
   ]
  },
  {
   "cell_type": "code",
   "execution_count": null,
   "metadata": {},
   "outputs": [
    {
     "name": "stdout",
     "output_type": "stream",
     "text": [
      "Confusion matrix : \n",
      " [[ 90  64]\n",
      " [ 58 112]]\n",
      "Classification report  \n",
      "               precision    recall  f1-score   support\n",
      "\n",
      "         NPL       0.61      0.58      0.60       154\n",
      "          PL       0.64      0.66      0.65       170\n",
      "\n",
      "    accuracy                           0.62       324\n",
      "   macro avg       0.62      0.62      0.62       324\n",
      "weighted avg       0.62      0.62      0.62       324\n",
      "\n"
     ]
    }
   ],
   "source": [
    "from sklearn.metrics import confusion_matrix\n",
    "from sklearn.metrics import classification_report\n",
    "cm = confusion_matrix(y_test, predictions)\n",
    "print('Confusion matrix : \\n',cm)\n",
    "\n",
    "cr = classification_report(y_test, predictions)\n",
    "print('Classification report  \\n',cr)"
   ]
  },
  {
   "cell_type": "markdown",
   "metadata": {},
   "source": [
    "# Decision Tree"
   ]
  },
  {
   "cell_type": "code",
   "execution_count": null,
   "metadata": {},
   "outputs": [],
   "source": [
    "from sklearn.tree import DecisionTreeClassifier"
   ]
  },
  {
   "cell_type": "code",
   "execution_count": null,
   "metadata": {},
   "outputs": [],
   "source": [
    "dct = DecisionTreeClassifier(criterion='entropy')\n",
    "classifier = dct.fit(X_train,y_train)"
   ]
  },
  {
   "cell_type": "markdown",
   "metadata": {},
   "source": [
    "## Predictions"
   ]
  },
  {
   "cell_type": "code",
   "execution_count": null,
   "metadata": {},
   "outputs": [],
   "source": [
    "predictions = classifier.predict(X_test)"
   ]
  },
  {
   "cell_type": "code",
   "execution_count": null,
   "metadata": {},
   "outputs": [
    {
     "name": "stdout",
     "output_type": "stream",
     "text": [
      "Accuracy Score: 53.086419753086425\n"
     ]
    }
   ],
   "source": [
    "from sklearn import metrics\n",
    "#Accuracy\n",
    "print('Accuracy Score:', metrics.accuracy_score(y_test, predictions)*100)"
   ]
  },
  {
   "cell_type": "markdown",
   "metadata": {},
   "source": [
    "## Prunning"
   ]
  },
  {
   "cell_type": "code",
   "execution_count": null,
   "metadata": {},
   "outputs": [
    {
     "name": "stdout",
     "output_type": "stream",
     "text": [
      "Accuracy: 57.71604938271605\n"
     ]
    }
   ],
   "source": [
    "# Create Decision Tree classifer object\n",
    "# Train Decision Tree Classifer\n",
    "classifier = DecisionTreeClassifier(criterion=\"entropy\", max_depth=4)\n",
    "#Predict the response for test dataset\n",
    "classifier = classifier.fit(X_train, y_train)\n",
    "# Model Accuracy, how often is the classifier correct?\n",
    "y_pred = classifier.predict(X_test)\n",
    "print(\"Accuracy:\", metrics.accuracy_score(y_test, y_pred)*100)"
   ]
  },
  {
   "cell_type": "code",
   "execution_count": null,
   "metadata": {},
   "outputs": [],
   "source": [
    "# from sklearn import tree\n",
    "# fig = plt.figure(figsize=(40,20))\n",
    "# _ = tree.plot_tree(classifier, \n",
    "#                    feature_names=['Principal Approve Amount', 'Principal Amount',\n",
    "#        'Repayment Tenor Month Number', 'Gender', 'Occupation Description',\n",
    "#        'Total Income Amount (Month)', 'Collateral Type Code', 'Vehicle Brand',\n",
    "#        'Vehicle Model', 'Vehicle Release Year', 'System CAR Code (Daily)',\n",
    "#        'age', 'Vehicle Age'],\n",
    "#                    class_names=['NPL','PL'],\n",
    "#                    filled=True,node_ids=True, fontsize=10)"
   ]
  },
  {
   "cell_type": "code",
   "execution_count": null,
   "metadata": {},
   "outputs": [
    {
     "ename": "IndexError",
     "evalue": "list index out of range",
     "output_type": "error",
     "traceback": [
      "\u001b[1;31m---------------------------------------------------------------------------\u001b[0m",
      "\u001b[1;31mIndexError\u001b[0m                                Traceback (most recent call last)",
      "\u001b[1;32m~\\AppData\\Local\\Temp\\ipykernel_32792\\134376885.py\u001b[0m in \u001b[0;36m<module>\u001b[1;34m\u001b[0m\n\u001b[0;32m      1\u001b[0m \u001b[1;32mfrom\u001b[0m \u001b[0msklearn\u001b[0m \u001b[1;32mimport\u001b[0m \u001b[0mtree\u001b[0m\u001b[1;33m\u001b[0m\u001b[1;33m\u001b[0m\u001b[0m\n\u001b[0;32m      2\u001b[0m \u001b[0mfig\u001b[0m \u001b[1;33m=\u001b[0m \u001b[0mplt\u001b[0m\u001b[1;33m.\u001b[0m\u001b[0mfigure\u001b[0m\u001b[1;33m(\u001b[0m\u001b[0mfigsize\u001b[0m\u001b[1;33m=\u001b[0m\u001b[1;33m(\u001b[0m\u001b[1;36m40\u001b[0m\u001b[1;33m,\u001b[0m\u001b[1;36m20\u001b[0m\u001b[1;33m)\u001b[0m\u001b[1;33m)\u001b[0m\u001b[1;33m\u001b[0m\u001b[1;33m\u001b[0m\u001b[0m\n\u001b[1;32m----> 3\u001b[1;33m _ = tree.plot_tree(classifier, \n\u001b[0m\u001b[0;32m      4\u001b[0m                    feature_names=['Principal Approve Amount', 'Repayment Tenor Month Number', 'Gender', 'Occupation Description',\n\u001b[0;32m      5\u001b[0m        \u001b[1;34m'Total Income Amount (Month)'\u001b[0m\u001b[1;33m,\u001b[0m \u001b[1;34m'Collateral Type Code'\u001b[0m\u001b[1;33m,\u001b[0m \u001b[1;34m'Vehicle Brand'\u001b[0m\u001b[1;33m,\u001b[0m\u001b[1;33m\u001b[0m\u001b[1;33m\u001b[0m\u001b[0m\n",
      "\u001b[1;32mc:\\Users\\Admin\\anaconda3\\lib\\site-packages\\sklearn\\tree\\_export.py\u001b[0m in \u001b[0;36mplot_tree\u001b[1;34m(decision_tree, max_depth, feature_names, class_names, label, filled, impurity, node_ids, proportion, rounded, precision, ax, fontsize)\u001b[0m\n\u001b[0;32m    193\u001b[0m         \u001b[0mfontsize\u001b[0m\u001b[1;33m=\u001b[0m\u001b[0mfontsize\u001b[0m\u001b[1;33m,\u001b[0m\u001b[1;33m\u001b[0m\u001b[1;33m\u001b[0m\u001b[0m\n\u001b[0;32m    194\u001b[0m     )\n\u001b[1;32m--> 195\u001b[1;33m     \u001b[1;32mreturn\u001b[0m \u001b[0mexporter\u001b[0m\u001b[1;33m.\u001b[0m\u001b[0mexport\u001b[0m\u001b[1;33m(\u001b[0m\u001b[0mdecision_tree\u001b[0m\u001b[1;33m,\u001b[0m \u001b[0max\u001b[0m\u001b[1;33m=\u001b[0m\u001b[0max\u001b[0m\u001b[1;33m)\u001b[0m\u001b[1;33m\u001b[0m\u001b[1;33m\u001b[0m\u001b[0m\n\u001b[0m\u001b[0;32m    196\u001b[0m \u001b[1;33m\u001b[0m\u001b[0m\n\u001b[0;32m    197\u001b[0m \u001b[1;33m\u001b[0m\u001b[0m\n",
      "\u001b[1;32mc:\\Users\\Admin\\anaconda3\\lib\\site-packages\\sklearn\\tree\\_export.py\u001b[0m in \u001b[0;36mexport\u001b[1;34m(self, decision_tree, ax)\u001b[0m\n\u001b[0;32m    654\u001b[0m         \u001b[0max\u001b[0m\u001b[1;33m.\u001b[0m\u001b[0mclear\u001b[0m\u001b[1;33m(\u001b[0m\u001b[1;33m)\u001b[0m\u001b[1;33m\u001b[0m\u001b[1;33m\u001b[0m\u001b[0m\n\u001b[0;32m    655\u001b[0m         \u001b[0max\u001b[0m\u001b[1;33m.\u001b[0m\u001b[0mset_axis_off\u001b[0m\u001b[1;33m(\u001b[0m\u001b[1;33m)\u001b[0m\u001b[1;33m\u001b[0m\u001b[1;33m\u001b[0m\u001b[0m\n\u001b[1;32m--> 656\u001b[1;33m         \u001b[0mmy_tree\u001b[0m \u001b[1;33m=\u001b[0m \u001b[0mself\u001b[0m\u001b[1;33m.\u001b[0m\u001b[0m_make_tree\u001b[0m\u001b[1;33m(\u001b[0m\u001b[1;36m0\u001b[0m\u001b[1;33m,\u001b[0m \u001b[0mdecision_tree\u001b[0m\u001b[1;33m.\u001b[0m\u001b[0mtree_\u001b[0m\u001b[1;33m,\u001b[0m \u001b[0mdecision_tree\u001b[0m\u001b[1;33m.\u001b[0m\u001b[0mcriterion\u001b[0m\u001b[1;33m)\u001b[0m\u001b[1;33m\u001b[0m\u001b[1;33m\u001b[0m\u001b[0m\n\u001b[0m\u001b[0;32m    657\u001b[0m         \u001b[0mdraw_tree\u001b[0m \u001b[1;33m=\u001b[0m \u001b[0mbuchheim\u001b[0m\u001b[1;33m(\u001b[0m\u001b[0mmy_tree\u001b[0m\u001b[1;33m)\u001b[0m\u001b[1;33m\u001b[0m\u001b[1;33m\u001b[0m\u001b[0m\n\u001b[0;32m    658\u001b[0m \u001b[1;33m\u001b[0m\u001b[0m\n",
      "\u001b[1;32mc:\\Users\\Admin\\anaconda3\\lib\\site-packages\\sklearn\\tree\\_export.py\u001b[0m in \u001b[0;36m_make_tree\u001b[1;34m(self, node_id, et, criterion, depth)\u001b[0m\n\u001b[0;32m    635\u001b[0m         ):\n\u001b[0;32m    636\u001b[0m             children = [\n\u001b[1;32m--> 637\u001b[1;33m                 self._make_tree(\n\u001b[0m\u001b[0;32m    638\u001b[0m                     \u001b[0met\u001b[0m\u001b[1;33m.\u001b[0m\u001b[0mchildren_left\u001b[0m\u001b[1;33m[\u001b[0m\u001b[0mnode_id\u001b[0m\u001b[1;33m]\u001b[0m\u001b[1;33m,\u001b[0m \u001b[0met\u001b[0m\u001b[1;33m,\u001b[0m \u001b[0mcriterion\u001b[0m\u001b[1;33m,\u001b[0m \u001b[0mdepth\u001b[0m\u001b[1;33m=\u001b[0m\u001b[0mdepth\u001b[0m \u001b[1;33m+\u001b[0m \u001b[1;36m1\u001b[0m\u001b[1;33m\u001b[0m\u001b[1;33m\u001b[0m\u001b[0m\n\u001b[0;32m    639\u001b[0m                 ),\n",
      "\u001b[1;32mc:\\Users\\Admin\\anaconda3\\lib\\site-packages\\sklearn\\tree\\_export.py\u001b[0m in \u001b[0;36m_make_tree\u001b[1;34m(self, node_id, et, criterion, depth)\u001b[0m\n\u001b[0;32m    638\u001b[0m                     \u001b[0met\u001b[0m\u001b[1;33m.\u001b[0m\u001b[0mchildren_left\u001b[0m\u001b[1;33m[\u001b[0m\u001b[0mnode_id\u001b[0m\u001b[1;33m]\u001b[0m\u001b[1;33m,\u001b[0m \u001b[0met\u001b[0m\u001b[1;33m,\u001b[0m \u001b[0mcriterion\u001b[0m\u001b[1;33m,\u001b[0m \u001b[0mdepth\u001b[0m\u001b[1;33m=\u001b[0m\u001b[0mdepth\u001b[0m \u001b[1;33m+\u001b[0m \u001b[1;36m1\u001b[0m\u001b[1;33m\u001b[0m\u001b[1;33m\u001b[0m\u001b[0m\n\u001b[0;32m    639\u001b[0m                 ),\n\u001b[1;32m--> 640\u001b[1;33m                 self._make_tree(\n\u001b[0m\u001b[0;32m    641\u001b[0m                     \u001b[0met\u001b[0m\u001b[1;33m.\u001b[0m\u001b[0mchildren_right\u001b[0m\u001b[1;33m[\u001b[0m\u001b[0mnode_id\u001b[0m\u001b[1;33m]\u001b[0m\u001b[1;33m,\u001b[0m \u001b[0met\u001b[0m\u001b[1;33m,\u001b[0m \u001b[0mcriterion\u001b[0m\u001b[1;33m,\u001b[0m \u001b[0mdepth\u001b[0m\u001b[1;33m=\u001b[0m\u001b[0mdepth\u001b[0m \u001b[1;33m+\u001b[0m \u001b[1;36m1\u001b[0m\u001b[1;33m\u001b[0m\u001b[1;33m\u001b[0m\u001b[0m\n\u001b[0;32m    642\u001b[0m                 ),\n",
      "\u001b[1;32mc:\\Users\\Admin\\anaconda3\\lib\\site-packages\\sklearn\\tree\\_export.py\u001b[0m in \u001b[0;36m_make_tree\u001b[1;34m(self, node_id, et, criterion, depth)\u001b[0m\n\u001b[0;32m    630\u001b[0m         \u001b[1;31m# traverses _tree.Tree recursively, builds intermediate\u001b[0m\u001b[1;33m\u001b[0m\u001b[1;33m\u001b[0m\u001b[0m\n\u001b[0;32m    631\u001b[0m         \u001b[1;31m# \"_reingold_tilford.Tree\" object\u001b[0m\u001b[1;33m\u001b[0m\u001b[1;33m\u001b[0m\u001b[0m\n\u001b[1;32m--> 632\u001b[1;33m         \u001b[0mname\u001b[0m \u001b[1;33m=\u001b[0m \u001b[0mself\u001b[0m\u001b[1;33m.\u001b[0m\u001b[0mnode_to_str\u001b[0m\u001b[1;33m(\u001b[0m\u001b[0met\u001b[0m\u001b[1;33m,\u001b[0m \u001b[0mnode_id\u001b[0m\u001b[1;33m,\u001b[0m \u001b[0mcriterion\u001b[0m\u001b[1;33m=\u001b[0m\u001b[0mcriterion\u001b[0m\u001b[1;33m)\u001b[0m\u001b[1;33m\u001b[0m\u001b[1;33m\u001b[0m\u001b[0m\n\u001b[0m\u001b[0;32m    633\u001b[0m         if et.children_left[node_id] != _tree.TREE_LEAF and (\n\u001b[0;32m    634\u001b[0m             \u001b[0mself\u001b[0m\u001b[1;33m.\u001b[0m\u001b[0mmax_depth\u001b[0m \u001b[1;32mis\u001b[0m \u001b[1;32mNone\u001b[0m \u001b[1;32mor\u001b[0m \u001b[0mdepth\u001b[0m \u001b[1;33m<=\u001b[0m \u001b[0mself\u001b[0m\u001b[1;33m.\u001b[0m\u001b[0mmax_depth\u001b[0m\u001b[1;33m\u001b[0m\u001b[1;33m\u001b[0m\u001b[0m\n",
      "\u001b[1;32mc:\\Users\\Admin\\anaconda3\\lib\\site-packages\\sklearn\\tree\\_export.py\u001b[0m in \u001b[0;36mnode_to_str\u001b[1;34m(self, tree, node_id, criterion)\u001b[0m\n\u001b[0;32m    290\u001b[0m             \u001b[1;31m# Always write node decision criteria, except for leaves\u001b[0m\u001b[1;33m\u001b[0m\u001b[1;33m\u001b[0m\u001b[0m\n\u001b[0;32m    291\u001b[0m             \u001b[1;32mif\u001b[0m \u001b[0mself\u001b[0m\u001b[1;33m.\u001b[0m\u001b[0mfeature_names\u001b[0m \u001b[1;32mis\u001b[0m \u001b[1;32mnot\u001b[0m \u001b[1;32mNone\u001b[0m\u001b[1;33m:\u001b[0m\u001b[1;33m\u001b[0m\u001b[1;33m\u001b[0m\u001b[0m\n\u001b[1;32m--> 292\u001b[1;33m                 \u001b[0mfeature\u001b[0m \u001b[1;33m=\u001b[0m \u001b[0mself\u001b[0m\u001b[1;33m.\u001b[0m\u001b[0mfeature_names\u001b[0m\u001b[1;33m[\u001b[0m\u001b[0mtree\u001b[0m\u001b[1;33m.\u001b[0m\u001b[0mfeature\u001b[0m\u001b[1;33m[\u001b[0m\u001b[0mnode_id\u001b[0m\u001b[1;33m]\u001b[0m\u001b[1;33m]\u001b[0m\u001b[1;33m\u001b[0m\u001b[1;33m\u001b[0m\u001b[0m\n\u001b[0m\u001b[0;32m    293\u001b[0m             \u001b[1;32melse\u001b[0m\u001b[1;33m:\u001b[0m\u001b[1;33m\u001b[0m\u001b[1;33m\u001b[0m\u001b[0m\n\u001b[0;32m    294\u001b[0m                 feature = \"X%s%s%s\" % (\n",
      "\u001b[1;31mIndexError\u001b[0m: list index out of range"
     ]
    },
    {
     "data": {
      "image/png": "[encoded data removed]",
      "text/plain": [
       "<Figure size 4000x2000 with 1 Axes>"
      ]
     },
     "metadata": {},
     "output_type": "display_data"
    }
   ],
   "source": [
    "from sklearn import tree\n",
    "fig = plt.figure(figsize=(40,20))\n",
    "_ = tree.plot_tree(classifier, \n",
    "                   feature_names=['Principal Approve Amount', 'Repayment Tenor Month Number', 'Gender', 'Occupation Description',\n",
    "       'Total Income Amount (Month)', 'Collateral Type Code', 'Vehicle Brand',\n",
    "       'Evaluation Amount', 'System CAR Code (Daily)', 'age', 'Vehicle Age'],\n",
    "                   class_names=['NPL','PL'],\n",
    "                   filled=True,node_ids=True, fontsize=10)"
   ]
  },
  {
   "cell_type": "code",
   "execution_count": null,
   "metadata": {},
   "outputs": [],
   "source": [
    "#pip install graphviz"
   ]
  },
  {
   "cell_type": "code",
   "execution_count": null,
   "metadata": {},
   "outputs": [],
   "source": [
    "import graphviz"
   ]
  },
  {
   "cell_type": "code",
   "execution_count": null,
   "metadata": {},
   "outputs": [],
   "source": []
  },
  {
   "cell_type": "code",
   "execution_count": null,
   "metadata": {},
   "outputs": [],
   "source": [
    "# dot_data = tree.export_graphviz(classifier, out_file=None,\n",
    "#                                 feature_names=['Principal Approve Amount', 'Principal Amount',\n",
    "#        'Repayment Tenor Month Number', 'Gender', 'Occupation Description',\n",
    "#        'Total Income Amount (Month)', 'Collateral Type Code', 'Vehicle Brand',\n",
    "#        'Vehicle Model', 'Vehicle Release Year', 'System CAR Code (Daily)',\n",
    "#        'age', 'Vehicle Age'],  \n",
    "#                                 class_names=['NPL','PL'],\n",
    "#                                 filled=True,node_ids=True, rounded=True,\n",
    "#                                 special_characters=True)\n",
    "# graph = graphviz.Source(dot_data)\n",
    "# graph"
   ]
  },
  {
   "cell_type": "code",
   "execution_count": null,
   "metadata": {},
   "outputs": [
    {
     "ename": "ValueError",
     "evalue": "Length of feature_names, 11 does not match number of features, 12",
     "output_type": "error",
     "traceback": [
      "\u001b[1;31m---------------------------------------------------------------------------\u001b[0m",
      "\u001b[1;31mValueError\u001b[0m                                Traceback (most recent call last)",
      "\u001b[1;32m~\\AppData\\Local\\Temp\\ipykernel_32792\\2004568225.py\u001b[0m in \u001b[0;36m<module>\u001b[1;34m\u001b[0m\n\u001b[1;32m----> 1\u001b[1;33m dot_data = tree.export_graphviz(classifier, out_file=None,\n\u001b[0m\u001b[0;32m      2\u001b[0m                                 feature_names=['Principal Approve Amount', 'Repayment Tenor Month Number', 'Gender', 'Occupation Description',\n\u001b[0;32m      3\u001b[0m        \u001b[1;34m'Total Income Amount (Month)'\u001b[0m\u001b[1;33m,\u001b[0m \u001b[1;34m'Collateral Type Code'\u001b[0m\u001b[1;33m,\u001b[0m \u001b[1;34m'Vehicle Brand'\u001b[0m\u001b[1;33m,\u001b[0m\u001b[1;33m\u001b[0m\u001b[1;33m\u001b[0m\u001b[0m\n\u001b[0;32m      4\u001b[0m        'Evaluation Amount', 'System CAR Code (Daily)', 'age', 'Vehicle Age'],  \n\u001b[0;32m      5\u001b[0m                                 \u001b[0mclass_names\u001b[0m\u001b[1;33m=\u001b[0m\u001b[1;33m[\u001b[0m\u001b[1;34m'NPL'\u001b[0m\u001b[1;33m,\u001b[0m\u001b[1;34m'PL'\u001b[0m\u001b[1;33m]\u001b[0m\u001b[1;33m,\u001b[0m\u001b[1;33m\u001b[0m\u001b[1;33m\u001b[0m\u001b[0m\n",
      "\u001b[1;32mc:\\Users\\Admin\\anaconda3\\lib\\site-packages\\sklearn\\tree\\_export.py\u001b[0m in \u001b[0;36mexport_graphviz\u001b[1;34m(decision_tree, out_file, max_depth, feature_names, class_names, label, filled, leaves_parallel, impurity, node_ids, proportion, rotate, rounded, special_characters, precision, fontname)\u001b[0m\n\u001b[0;32m    887\u001b[0m             \u001b[0mfontname\u001b[0m\u001b[1;33m=\u001b[0m\u001b[0mfontname\u001b[0m\u001b[1;33m,\u001b[0m\u001b[1;33m\u001b[0m\u001b[1;33m\u001b[0m\u001b[0m\n\u001b[0;32m    888\u001b[0m         )\n\u001b[1;32m--> 889\u001b[1;33m         \u001b[0mexporter\u001b[0m\u001b[1;33m.\u001b[0m\u001b[0mexport\u001b[0m\u001b[1;33m(\u001b[0m\u001b[0mdecision_tree\u001b[0m\u001b[1;33m)\u001b[0m\u001b[1;33m\u001b[0m\u001b[1;33m\u001b[0m\u001b[0m\n\u001b[0m\u001b[0;32m    890\u001b[0m \u001b[1;33m\u001b[0m\u001b[0m\n\u001b[0;32m    891\u001b[0m         \u001b[1;32mif\u001b[0m \u001b[0mreturn_string\u001b[0m\u001b[1;33m:\u001b[0m\u001b[1;33m\u001b[0m\u001b[1;33m\u001b[0m\u001b[0m\n",
      "\u001b[1;32mc:\\Users\\Admin\\anaconda3\\lib\\site-packages\\sklearn\\tree\\_export.py\u001b[0m in \u001b[0;36mexport\u001b[1;34m(self, decision_tree)\u001b[0m\n\u001b[0;32m    450\u001b[0m         \u001b[1;32mif\u001b[0m \u001b[0mself\u001b[0m\u001b[1;33m.\u001b[0m\u001b[0mfeature_names\u001b[0m \u001b[1;32mis\u001b[0m \u001b[1;32mnot\u001b[0m \u001b[1;32mNone\u001b[0m\u001b[1;33m:\u001b[0m\u001b[1;33m\u001b[0m\u001b[1;33m\u001b[0m\u001b[0m\n\u001b[0;32m    451\u001b[0m             \u001b[1;32mif\u001b[0m \u001b[0mlen\u001b[0m\u001b[1;33m(\u001b[0m\u001b[0mself\u001b[0m\u001b[1;33m.\u001b[0m\u001b[0mfeature_names\u001b[0m\u001b[1;33m)\u001b[0m \u001b[1;33m!=\u001b[0m \u001b[0mdecision_tree\u001b[0m\u001b[1;33m.\u001b[0m\u001b[0mn_features_in_\u001b[0m\u001b[1;33m:\u001b[0m\u001b[1;33m\u001b[0m\u001b[1;33m\u001b[0m\u001b[0m\n\u001b[1;32m--> 452\u001b[1;33m                 raise ValueError(\n\u001b[0m\u001b[0;32m    453\u001b[0m                     \u001b[1;34m\"Length of feature_names, %d does not match number of features, %d\"\u001b[0m\u001b[1;33m\u001b[0m\u001b[1;33m\u001b[0m\u001b[0m\n\u001b[0;32m    454\u001b[0m                     \u001b[1;33m%\u001b[0m \u001b[1;33m(\u001b[0m\u001b[0mlen\u001b[0m\u001b[1;33m(\u001b[0m\u001b[0mself\u001b[0m\u001b[1;33m.\u001b[0m\u001b[0mfeature_names\u001b[0m\u001b[1;33m)\u001b[0m\u001b[1;33m,\u001b[0m \u001b[0mdecision_tree\u001b[0m\u001b[1;33m.\u001b[0m\u001b[0mn_features_in_\u001b[0m\u001b[1;33m)\u001b[0m\u001b[1;33m\u001b[0m\u001b[1;33m\u001b[0m\u001b[0m\n",
      "\u001b[1;31mValueError\u001b[0m: Length of feature_names, 11 does not match number of features, 12"
     ]
    }
   ],
   "source": [
    "dot_data = tree.export_graphviz(classifier, out_file=None,\n",
    "                                feature_names=['Principal Approve Amount', 'Repayment Tenor Month Number', 'Gender', 'Occupation Description',\n",
    "       'Total Income Amount (Month)', 'Collateral Type Code', 'Vehicle Brand',\n",
    "       'Evaluation Amount', 'System CAR Code (Daily)', 'age', 'Vehicle Age'],  \n",
    "                                class_names=['NPL','PL'],\n",
    "                                filled=True,node_ids=True, rounded=True,\n",
    "                                special_characters=True)\n",
    "graph = graphviz.Source(dot_data)\n",
    "graph"
   ]
  },
  {
   "cell_type": "markdown",
   "metadata": {},
   "source": [
    "# Confusion Matrix"
   ]
  },
  {
   "cell_type": "code",
   "execution_count": null,
   "metadata": {},
   "outputs": [
    {
     "name": "stdout",
     "output_type": "stream",
     "text": [
      "Confusion matrix : \n",
      " [[ 27  17]\n",
      " [  0 340]]\n",
      "Classification report  \n",
      "               precision    recall  f1-score   support\n",
      "\n",
      "         NPL       1.00      0.61      0.76        44\n",
      "          PL       0.95      1.00      0.98       340\n",
      "\n",
      "    accuracy                           0.96       384\n",
      "   macro avg       0.98      0.81      0.87       384\n",
      "weighted avg       0.96      0.96      0.95       384\n",
      "\n"
     ]
    }
   ],
   "source": [
    "from sklearn.metrics import confusion_matrix\n",
    "from sklearn.metrics import classification_report\n",
    "cm = confusion_matrix(y_test, y_pred)\n",
    "print('Confusion matrix : \\n',cm)\n",
    "\n",
    "cr = classification_report(y_test, y_pred)\n",
    "print('Classification report  \\n',cr)"
   ]
  },
  {
   "cell_type": "code",
   "execution_count": null,
   "metadata": {},
   "outputs": [],
   "source": [
    "#pip install plot_confusion_matrix"
   ]
  },
  {
   "cell_type": "code",
   "execution_count": null,
   "metadata": {},
   "outputs": [],
   "source": [
    "#pip install plot_roc_curve"
   ]
  },
  {
   "cell_type": "code",
   "execution_count": null,
   "metadata": {},
   "outputs": [],
   "source": [
    "#pip install metrics"
   ]
  },
  {
   "cell_type": "code",
   "execution_count": null,
   "metadata": {},
   "outputs": [
    {
     "name": "stderr",
     "output_type": "stream",
     "text": [
      "c:\\Users\\Admin\\anaconda3\\lib\\site-packages\\sklearn\\utils\\deprecation.py:87: FutureWarning: Function plot_confusion_matrix is deprecated; Function `plot_confusion_matrix` is deprecated in 1.0 and will be removed in 1.2. Use one of the class methods: ConfusionMatrixDisplay.from_predictions or ConfusionMatrixDisplay.from_estimator.\n",
      "  warnings.warn(msg, category=FutureWarning)\n"
     ]
    },
    {
     "data": {
      "text/plain": [
       "<sklearn.metrics._plot.confusion_matrix.ConfusionMatrixDisplay at 0x15bd5d547f0>"
      ]
     },
     "execution_count": 284,
     "metadata": {},
     "output_type": "execute_result"
    },
    {
     "data": {
      "image/png": "[encoded data removed]",
      "text/plain": [
       "<Figure size 640x480 with 2 Axes>"
      ]
     },
     "metadata": {},
     "output_type": "display_data"
    }
   ],
   "source": [
    "from sklearn.metrics import accuracy_score, plot_confusion_matrix, plot_roc_curve\n",
    "plot_confusion_matrix(classifier, X_test, y_test, cmap='Blues', values_format='d')"
   ]
  },
  {
   "cell_type": "code",
   "execution_count": null,
   "metadata": {},
   "outputs": [
    {
     "name": "stderr",
     "output_type": "stream",
     "text": [
      "c:\\Users\\Admin\\anaconda3\\lib\\site-packages\\sklearn\\utils\\deprecation.py:87: FutureWarning: Function plot_roc_curve is deprecated; Function :func:`plot_roc_curve` is deprecated in 1.0 and will be removed in 1.2. Use one of the class methods: :meth:`sklearn.metric.RocCurveDisplay.from_predictions` or :meth:`sklearn.metric.RocCurveDisplay.from_estimator`.\n",
      "  warnings.warn(msg, category=FutureWarning)\n"
     ]
    },
    {
     "data": {
      "image/png": "[encoded data removed]",
      "text/plain": [
       "<Figure size 640x480 with 1 Axes>"
      ]
     },
     "metadata": {},
     "output_type": "display_data"
    }
   ],
   "source": [
    "from sklearn.metrics import plot_roc_curve\n",
    "plot_roc_curve(classifier, X_test, y_test)\n",
    "plt.grid()"
   ]
  },
  {
   "cell_type": "code",
   "execution_count": null,
   "metadata": {},
   "outputs": [],
   "source": []
  }
 ],
 "metadata": {
  "kernelspec": {
   "display_name": "Python 3.8.8 64-bit ('ProgramData': virtualenv)",
   "name": "python388jvsc74a57bd0b3ba2566441a7c06988d0923437866b63cedc61552a5af99d1f4fb67d367b25f"
  },
  "language_info": {
   "codemirror_mode": {
    "name": "ipython",
    "version": 3
   },
   "file_extension": ".py",
   "mimetype": "text/x-python",
   "name": "python",
   "nbconvert_exporter": "python",
   "pygments_lexer": "ipython3",
   "version": "3.8.8"
  },
  "orig_nbformat": 3
 },
 "nbformat": 4,
 "nbformat_minor": 4
}