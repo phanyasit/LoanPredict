{
 "cells": [
  {
   "cell_type": "code",
   "execution_count": 1,
   "metadata": {},
   "outputs": [],
   "source": [
    "import pandas as pd\r\n",
    "import numpy as ny\r\n",
    "import matplotlib.pyplot as plt\r\n",
    "import seaborn as sns"
   ]
  },
  {
   "cell_type": "code",
   "execution_count": 2,
   "metadata": {},
   "outputs": [
    {
     "data": {
      "text/html": "<div>\n<style scoped>\n    .dataframe tbody tr th:only-of-type {\n        vertical-align: middle;\n    }\n\n    .dataframe tbody tr th {\n        vertical-align: top;\n    }\n\n    .dataframe thead th {\n        text-align: right;\n    }\n</style>\n<table border=\"1\" class=\"dataframe\">\n  <thead>\n    <tr style=\"text-align: right;\">\n      <th></th>\n      <th>Application Number</th>\n      <th>Principal Approve Amount</th>\n      <th>Principal Amount</th>\n      <th>Repayment Tenor Month Number</th>\n      <th>Gender</th>\n      <th>DOB</th>\n      <th>Occupation Description</th>\n      <th>Total Income Amount (Month)</th>\n      <th>Collateral Type Code</th>\n      <th>Vehicle Brand</th>\n      <th>Vehicle Model</th>\n      <th>Vehicle Release Year</th>\n      <th>Vehicle Sub Model</th>\n      <th>System CAR Code (Daily)</th>\n      <th>System CAR Code Date</th>\n      <th>Final CAR Code Previous Month</th>\n      <th>Day Past Due (Aging)</th>\n      <th>Application Status</th>\n    </tr>\n  </thead>\n  <tbody>\n    <tr>\n      <th>0</th>\n      <td>25650620ULMB00004</td>\n      <td>20000.0</td>\n      <td>13492.22</td>\n      <td>12</td>\n      <td>M</td>\n      <td>1986-08-15</td>\n      <td>พนักงานส่งเอกสาร</td>\n      <td>25000.09</td>\n      <td>MC</td>\n      <td>HONDA</td>\n      <td>PCX 160</td>\n      <td>2018</td>\n      <td>BV</td>\n      <td>S1</td>\n      <td>2022-06-20</td>\n      <td>S1</td>\n      <td>0</td>\n      <td>APPLICATION_COMPLETED</td>\n    </tr>\n    <tr>\n      <th>1</th>\n      <td>25650620ULCR00002</td>\n      <td>130000.0</td>\n      <td>125931.40</td>\n      <td>60</td>\n      <td>F</td>\n      <td>1996-04-30</td>\n      <td>ว่างงาน</td>\n      <td>15000.00</td>\n      <td>CAR</td>\n      <td>HONDA</td>\n      <td>CIVIC</td>\n      <td>2005</td>\n      <td>DK</td>\n      <td>S1</td>\n      <td>2022-06-20</td>\n      <td>S1</td>\n      <td>0</td>\n      <td>APPLICATION_COMPLETED</td>\n    </tr>\n    <tr>\n      <th>2</th>\n      <td>25650621ULMB00001</td>\n      <td>70000.0</td>\n      <td>60867.83</td>\n      <td>36</td>\n      <td>M</td>\n      <td>1979-04-01</td>\n      <td>พนักงานส่งเอกสาร</td>\n      <td>20000.00</td>\n      <td>MC</td>\n      <td>YAMAHA</td>\n      <td>N-MAX 155</td>\n      <td>2021</td>\n      <td>CE</td>\n      <td>S1</td>\n      <td>2022-06-21</td>\n      <td>S1</td>\n      <td>0</td>\n      <td>APPLICATION_COMPLETED</td>\n    </tr>\n    <tr>\n      <th>3</th>\n      <td>25650621ULMB00011</td>\n      <td>3000.0</td>\n      <td>1585.66</td>\n      <td>13</td>\n      <td>M</td>\n      <td>1967-05-04</td>\n      <td>STREET VENDOR</td>\n      <td>30000.00</td>\n      <td>MC</td>\n      <td>HONDA</td>\n      <td>WAVE 125 I</td>\n      <td>2010</td>\n      <td>AY</td>\n      <td>S1</td>\n      <td>2022-06-21</td>\n      <td>S1</td>\n      <td>0</td>\n      <td>APPLICATION_COMPLETED</td>\n    </tr>\n    <tr>\n      <th>4</th>\n      <td>25650621ULMB00006</td>\n      <td>22700.0</td>\n      <td>19307.33</td>\n      <td>24</td>\n      <td>M</td>\n      <td>1988-10-08</td>\n      <td>พนักงานบริษัท</td>\n      <td>13000.00</td>\n      <td>MC</td>\n      <td>YAMAHA</td>\n      <td>FINO (MLEKE)</td>\n      <td>2010</td>\n      <td>AL</td>\n      <td>S1</td>\n      <td>2022-06-21</td>\n      <td>S1</td>\n      <td>0</td>\n      <td>APPLICATION_COMPLETED</td>\n    </tr>\n  </tbody>\n</table>\n</div>",
      "text/plain": "  Application Number  Principal Approve Amount  Principal Amount  \\\n0  25650620ULMB00004                   20000.0          13492.22   \n1  25650620ULCR00002                  130000.0         125931.40   \n2  25650621ULMB00001                   70000.0          60867.83   \n3  25650621ULMB00011                    3000.0           1585.66   \n4  25650621ULMB00006                   22700.0          19307.33   \n\n   Repayment Tenor Month Number Gender        DOB Occupation Description  \\\n0                            12      M 1986-08-15       พนักงานส่งเอกสาร   \n1                            60      F 1996-04-30                ว่างงาน   \n2                            36      M 1979-04-01       พนักงานส่งเอกสาร   \n3                            13      M 1967-05-04          STREET VENDOR   \n4                            24      M 1988-10-08          พนักงานบริษัท   \n\n   Total Income Amount (Month) Collateral Type Code Vehicle Brand  \\\n0                     25000.09                   MC         HONDA   \n1                     15000.00                  CAR         HONDA   \n2                     20000.00                   MC        YAMAHA   \n3                     30000.00                   MC         HONDA   \n4                     13000.00                   MC        YAMAHA   \n\n  Vehicle Model  Vehicle Release Year Vehicle Sub Model  \\\n0       PCX 160                  2018                BV   \n1         CIVIC                  2005                DK   \n2     N-MAX 155                  2021                CE   \n3    WAVE 125 I                  2010                AY   \n4  FINO (MLEKE)                  2010                AL   \n\n  System CAR Code (Daily) System CAR Code Date Final CAR Code Previous Month  \\\n0                      S1           2022-06-20                            S1   \n1                      S1           2022-06-20                            S1   \n2                      S1           2022-06-21                            S1   \n3                      S1           2022-06-21                            S1   \n4                      S1           2022-06-21                            S1   \n\n   Day Past Due (Aging)     Application Status  \n0                     0  APPLICATION_COMPLETED  \n1                     0  APPLICATION_COMPLETED  \n2                     0  APPLICATION_COMPLETED  \n3                     0  APPLICATION_COMPLETED  \n4                     0  APPLICATION_COMPLETED  "
     },
     "execution_count": 2,
     "metadata": {},
     "output_type": "execute_result"
    }
   ],
   "source": [
    "df = pd.read_excel('chaiyo-is2.xlsx', parse_dates=['DOB','System CAR Code Date'])\r\n",
    "df.head()"
   ]
  },
  {
   "cell_type": "code",
   "execution_count": 3,
   "metadata": {},
   "outputs": [
    {
     "name": "stdout",
     "output_type": "stream",
     "text": [
      "<class 'pandas.core.frame.DataFrame'>\n",
      "RangeIndex: 53015 entries, 0 to 53014\n",
      "Data columns (total 18 columns):\n",
      " #   Column                         Non-Null Count  Dtype         \n",
      "---  ------                         --------------  -----         \n",
      " 0   Application Number             53015 non-null  object        \n",
      " 1   Principal Approve Amount       53015 non-null  float64       \n",
      " 2   Principal Amount               53015 non-null  float64       \n",
      " 3   Repayment Tenor Month Number   53015 non-null  int64         \n",
      " 4   Gender                         53015 non-null  object        \n",
      " 5   DOB                            53015 non-null  datetime64[ns]\n",
      " 6   Occupation Description         53015 non-null  object        \n",
      " 7   Total Income Amount (Month)    53015 non-null  float64       \n",
      " 8   Collateral Type Code           53015 non-null  object        \n",
      " 9   Vehicle Brand                  53015 non-null  object        \n",
      " 10  Vehicle Model                  53015 non-null  object        \n",
      " 11  Vehicle Release Year           53015 non-null  int64         \n",
      " 12  Vehicle Sub Model              53015 non-null  object        \n",
      " 13  System CAR Code (Daily)        53015 non-null  object        \n",
      " 14  System CAR Code Date           53015 non-null  datetime64[ns]\n",
      " 15  Final CAR Code Previous Month  53015 non-null  object        \n",
      " 16  Day Past Due (Aging)           53015 non-null  int64         \n",
      " 17  Application Status             53015 non-null  object        \n",
      "dtypes: datetime64[ns](2), float64(3), int64(3), object(10)\n",
      "memory usage: 7.3+ MB\n"
     ]
    }
   ],
   "source": [
    "df.info()"
   ]
  },
  {
   "cell_type": "code",
   "execution_count": 4,
   "metadata": {},
   "outputs": [
    {
     "data": {
      "text/html": "<div>\n<style scoped>\n    .dataframe tbody tr th:only-of-type {\n        vertical-align: middle;\n    }\n\n    .dataframe tbody tr th {\n        vertical-align: top;\n    }\n\n    .dataframe thead th {\n        text-align: right;\n    }\n</style>\n<table border=\"1\" class=\"dataframe\">\n  <thead>\n    <tr style=\"text-align: right;\">\n      <th></th>\n      <th>Principal Approve Amount</th>\n      <th>Principal Amount</th>\n      <th>Repayment Tenor Month Number</th>\n      <th>Total Income Amount (Month)</th>\n      <th>Vehicle Release Year</th>\n      <th>Day Past Due (Aging)</th>\n    </tr>\n  </thead>\n  <tbody>\n    <tr>\n      <th>count</th>\n      <td>53015.00</td>\n      <td>53015.00</td>\n      <td>53015.00</td>\n      <td>53015.00</td>\n      <td>53015.00</td>\n      <td>53015.00</td>\n    </tr>\n    <tr>\n      <th>mean</th>\n      <td>102272.20</td>\n      <td>100707.81</td>\n      <td>39.45</td>\n      <td>25194.17</td>\n      <td>2012.51</td>\n      <td>1.11</td>\n    </tr>\n    <tr>\n      <th>std</th>\n      <td>104175.48</td>\n      <td>103502.05</td>\n      <td>17.99</td>\n      <td>114570.30</td>\n      <td>5.52</td>\n      <td>7.36</td>\n    </tr>\n    <tr>\n      <th>min</th>\n      <td>3000.00</td>\n      <td>-147.65</td>\n      <td>1.00</td>\n      <td>0.00</td>\n      <td>1976.00</td>\n      <td>0.00</td>\n    </tr>\n    <tr>\n      <th>25%</th>\n      <td>26000.00</td>\n      <td>25300.03</td>\n      <td>24.00</td>\n      <td>15000.00</td>\n      <td>2008.00</td>\n      <td>0.00</td>\n    </tr>\n    <tr>\n      <th>50%</th>\n      <td>50000.00</td>\n      <td>46000.00</td>\n      <td>36.00</td>\n      <td>20000.00</td>\n      <td>2013.00</td>\n      <td>0.00</td>\n    </tr>\n    <tr>\n      <th>75%</th>\n      <td>165000.00</td>\n      <td>163000.00</td>\n      <td>60.00</td>\n      <td>30000.00</td>\n      <td>2017.00</td>\n      <td>0.00</td>\n    </tr>\n    <tr>\n      <th>max</th>\n      <td>4000000.00</td>\n      <td>3748564.27</td>\n      <td>120.00</td>\n      <td>20000000.00</td>\n      <td>2022.00</td>\n      <td>147.00</td>\n    </tr>\n  </tbody>\n</table>\n</div>",
      "text/plain": "       Principal Approve Amount  Principal Amount  \\\ncount                  53015.00          53015.00   \nmean                  102272.20         100707.81   \nstd                   104175.48         103502.05   \nmin                     3000.00           -147.65   \n25%                    26000.00          25300.03   \n50%                    50000.00          46000.00   \n75%                   165000.00         163000.00   \nmax                  4000000.00        3748564.27   \n\n       Repayment Tenor Month Number  Total Income Amount (Month)  \\\ncount                      53015.00                     53015.00   \nmean                          39.45                     25194.17   \nstd                           17.99                    114570.30   \nmin                            1.00                         0.00   \n25%                           24.00                     15000.00   \n50%                           36.00                     20000.00   \n75%                           60.00                     30000.00   \nmax                          120.00                  20000000.00   \n\n       Vehicle Release Year  Day Past Due (Aging)  \ncount              53015.00              53015.00  \nmean                2012.51                  1.11  \nstd                    5.52                  7.36  \nmin                 1976.00                  0.00  \n25%                 2008.00                  0.00  \n50%                 2013.00                  0.00  \n75%                 2017.00                  0.00  \nmax                 2022.00                147.00  "
     },
     "execution_count": 4,
     "metadata": {},
     "output_type": "execute_result"
    }
   ],
   "source": [
    "df.describe().round(2)"
   ]
  },
  {
   "cell_type": "code",
   "execution_count": 5,
   "metadata": {},
   "outputs": [
    {
     "data": {
      "text/plain": "(53015, 18)"
     },
     "execution_count": 5,
     "metadata": {},
     "output_type": "execute_result"
    }
   ],
   "source": [
    "df.shape"
   ]
  },
  {
   "cell_type": "code",
   "execution_count": 33,
   "metadata": {},
   "outputs": [
    {
     "data": {
      "text/plain": "Index(['Application Number', 'Principal Approve Amount', 'Principal Amount',\n       'Repayment Tenor Month Number', 'Gender', 'DOB',\n       'Occupation Description', 'Total Income Amount (Month)',\n       'Collateral Type Code', 'Vehicle Brand', 'Vehicle Model',\n       'Vehicle Release Year', 'Vehicle Sub Model', 'System CAR Code (Daily)',\n       'System CAR Code Date', 'Final CAR Code Previous Month',\n       'Day Past Due (Aging)', 'Application Status'],\n      dtype='object')"
     },
     "execution_count": 33,
     "metadata": {},
     "output_type": "execute_result"
    }
   ],
   "source": [
    "df.columns"
   ]
  },
  {
   "cell_type": "code",
   "execution_count": 34,
   "metadata": {},
   "outputs": [
    {
     "data": {
      "text/html": "<div>\n<style scoped>\n    .dataframe tbody tr th:only-of-type {\n        vertical-align: middle;\n    }\n\n    .dataframe tbody tr th {\n        vertical-align: top;\n    }\n\n    .dataframe thead th {\n        text-align: right;\n    }\n</style>\n<table border=\"1\" class=\"dataframe\">\n  <thead>\n    <tr style=\"text-align: right;\">\n      <th></th>\n      <th>Application Number</th>\n      <th>Principal Approve Amount</th>\n      <th>Principal Amount</th>\n      <th>Repayment Tenor Month Number</th>\n      <th>Gender</th>\n      <th>DOB</th>\n      <th>Occupation Description</th>\n      <th>Total Income Amount (Month)</th>\n      <th>Collateral Type Code</th>\n      <th>Vehicle Brand</th>\n      <th>Vehicle Model</th>\n      <th>Vehicle Release Year</th>\n      <th>Vehicle Sub Model</th>\n      <th>System CAR Code (Daily)</th>\n      <th>System CAR Code Date</th>\n      <th>Final CAR Code Previous Month</th>\n      <th>Day Past Due (Aging)</th>\n      <th>Application Status</th>\n    </tr>\n  </thead>\n  <tbody>\n    <tr>\n      <th>0</th>\n      <td>25650620ULMB00004</td>\n      <td>20000.0</td>\n      <td>13492.22</td>\n      <td>12</td>\n      <td>M</td>\n      <td>19860815</td>\n      <td>พนักงานส่งเอกสาร</td>\n      <td>25000.09</td>\n      <td>MC</td>\n      <td>HONDA</td>\n      <td>PCX 160</td>\n      <td>2018</td>\n      <td>BV</td>\n      <td>S1</td>\n      <td>20220620</td>\n      <td>S1</td>\n      <td>0</td>\n      <td>APPLICATION_COMPLETED</td>\n    </tr>\n    <tr>\n      <th>1</th>\n      <td>25650620ULCR00002</td>\n      <td>130000.0</td>\n      <td>125931.40</td>\n      <td>60</td>\n      <td>F</td>\n      <td>19960430</td>\n      <td>ว่างงาน</td>\n      <td>15000.00</td>\n      <td>CAR</td>\n      <td>HONDA</td>\n      <td>CIVIC</td>\n      <td>2005</td>\n      <td>DK</td>\n      <td>S1</td>\n      <td>20220620</td>\n      <td>S1</td>\n      <td>0</td>\n      <td>APPLICATION_COMPLETED</td>\n    </tr>\n  </tbody>\n</table>\n</div>",
      "text/plain": "  Application Number  Principal Approve Amount  Principal Amount  \\\n0  25650620ULMB00004                   20000.0          13492.22   \n1  25650620ULCR00002                  130000.0         125931.40   \n\n   Repayment Tenor Month Number Gender       DOB Occupation Description  \\\n0                            12      M  19860815       พนักงานส่งเอกสาร   \n1                            60      F  19960430                ว่างงาน   \n\n   Total Income Amount (Month) Collateral Type Code Vehicle Brand  \\\n0                     25000.09                   MC         HONDA   \n1                     15000.00                  CAR         HONDA   \n\n  Vehicle Model  Vehicle Release Year Vehicle Sub Model  \\\n0       PCX 160                  2018                BV   \n1         CIVIC                  2005                DK   \n\n  System CAR Code (Daily)  System CAR Code Date Final CAR Code Previous Month  \\\n0                      S1              20220620                            S1   \n1                      S1              20220620                            S1   \n\n   Day Past Due (Aging)     Application Status  \n0                     0  APPLICATION_COMPLETED  \n1                     0  APPLICATION_COMPLETED  "
     },
     "execution_count": 34,
     "metadata": {},
     "output_type": "execute_result"
    }
   ],
   "source": [
    "df.head(2)"
   ]
  },
  {
   "cell_type": "code",
   "execution_count": 35,
   "metadata": {},
   "outputs": [
    {
     "data": {
      "text/html": "<div>\n<style scoped>\n    .dataframe tbody tr th:only-of-type {\n        vertical-align: middle;\n    }\n\n    .dataframe tbody tr th {\n        vertical-align: top;\n    }\n\n    .dataframe thead th {\n        text-align: right;\n    }\n</style>\n<table border=\"1\" class=\"dataframe\">\n  <thead>\n    <tr style=\"text-align: right;\">\n      <th></th>\n      <th>Application Number</th>\n      <th>Principal Approve Amount</th>\n      <th>Principal Amount</th>\n      <th>Repayment Tenor Month Number</th>\n      <th>Gender</th>\n      <th>Occupation Description</th>\n      <th>Total Income Amount (Month)</th>\n      <th>Collateral Type Code</th>\n      <th>Vehicle Brand</th>\n      <th>Vehicle Model</th>\n      <th>Vehicle Release Year</th>\n      <th>System CAR Code (Daily)</th>\n      <th>Final CAR Code Previous Month</th>\n      <th>Day Past Due (Aging)</th>\n    </tr>\n  </thead>\n  <tbody>\n    <tr>\n      <th>0</th>\n      <td>25650620ULMB00004</td>\n      <td>20000.0</td>\n      <td>13492.22</td>\n      <td>12</td>\n      <td>M</td>\n      <td>พนักงานส่งเอกสาร</td>\n      <td>25000.09</td>\n      <td>MC</td>\n      <td>HONDA</td>\n      <td>PCX 160</td>\n      <td>2018</td>\n      <td>S1</td>\n      <td>S1</td>\n      <td>0</td>\n    </tr>\n    <tr>\n      <th>1</th>\n      <td>25650620ULCR00002</td>\n      <td>130000.0</td>\n      <td>125931.40</td>\n      <td>60</td>\n      <td>F</td>\n      <td>ว่างงาน</td>\n      <td>15000.00</td>\n      <td>CAR</td>\n      <td>HONDA</td>\n      <td>CIVIC</td>\n      <td>2005</td>\n      <td>S1</td>\n      <td>S1</td>\n      <td>0</td>\n    </tr>\n    <tr>\n      <th>2</th>\n      <td>25650621ULMB00001</td>\n      <td>70000.0</td>\n      <td>60867.83</td>\n      <td>36</td>\n      <td>M</td>\n      <td>พนักงานส่งเอกสาร</td>\n      <td>20000.00</td>\n      <td>MC</td>\n      <td>YAMAHA</td>\n      <td>N-MAX 155</td>\n      <td>2021</td>\n      <td>S1</td>\n      <td>S1</td>\n      <td>0</td>\n    </tr>\n    <tr>\n      <th>3</th>\n      <td>25650621ULMB00011</td>\n      <td>3000.0</td>\n      <td>1585.66</td>\n      <td>13</td>\n      <td>M</td>\n      <td>STREET VENDOR</td>\n      <td>30000.00</td>\n      <td>MC</td>\n      <td>HONDA</td>\n      <td>WAVE 125 I</td>\n      <td>2010</td>\n      <td>S1</td>\n      <td>S1</td>\n      <td>0</td>\n    </tr>\n    <tr>\n      <th>4</th>\n      <td>25650621ULMB00006</td>\n      <td>22700.0</td>\n      <td>19307.33</td>\n      <td>24</td>\n      <td>M</td>\n      <td>พนักงานบริษัท</td>\n      <td>13000.00</td>\n      <td>MC</td>\n      <td>YAMAHA</td>\n      <td>FINO (MLEKE)</td>\n      <td>2010</td>\n      <td>S1</td>\n      <td>S1</td>\n      <td>0</td>\n    </tr>\n  </tbody>\n</table>\n</div>",
      "text/plain": "  Application Number  Principal Approve Amount  Principal Amount  \\\n0  25650620ULMB00004                   20000.0          13492.22   \n1  25650620ULCR00002                  130000.0         125931.40   \n2  25650621ULMB00001                   70000.0          60867.83   \n3  25650621ULMB00011                    3000.0           1585.66   \n4  25650621ULMB00006                   22700.0          19307.33   \n\n   Repayment Tenor Month Number Gender Occupation Description  \\\n0                            12      M       พนักงานส่งเอกสาร   \n1                            60      F                ว่างงาน   \n2                            36      M       พนักงานส่งเอกสาร   \n3                            13      M          STREET VENDOR   \n4                            24      M          พนักงานบริษัท   \n\n   Total Income Amount (Month) Collateral Type Code Vehicle Brand  \\\n0                     25000.09                   MC         HONDA   \n1                     15000.00                  CAR         HONDA   \n2                     20000.00                   MC        YAMAHA   \n3                     30000.00                   MC         HONDA   \n4                     13000.00                   MC        YAMAHA   \n\n  Vehicle Model  Vehicle Release Year System CAR Code (Daily)  \\\n0       PCX 160                  2018                      S1   \n1         CIVIC                  2005                      S1   \n2     N-MAX 155                  2021                      S1   \n3    WAVE 125 I                  2010                      S1   \n4  FINO (MLEKE)                  2010                      S1   \n\n  Final CAR Code Previous Month  Day Past Due (Aging)  \n0                            S1                     0  \n1                            S1                     0  \n2                            S1                     0  \n3                            S1                     0  \n4                            S1                     0  "
     },
     "execution_count": 35,
     "metadata": {},
     "output_type": "execute_result"
    }
   ],
   "source": [
    "df = df.drop(['DOB','Vehicle Sub Model','System CAR Code Date','Application Status'], axis=1)\r\n",
    "df.head()"
   ]
  },
  {
   "cell_type": "code",
   "execution_count": 36,
   "metadata": {},
   "outputs": [
    {
     "data": {
      "text/plain": "(53015, 14)"
     },
     "execution_count": 36,
     "metadata": {},
     "output_type": "execute_result"
    }
   ],
   "source": [
    "df.shape"
   ]
  },
  {
   "cell_type": "code",
   "execution_count": 37,
   "metadata": {},
   "outputs": [
    {
     "data": {
      "text/plain": "(52944, 14)"
     },
     "execution_count": 37,
     "metadata": {},
     "output_type": "execute_result"
    }
   ],
   "source": [
    "df = df.drop_duplicates('Application Number')\r\n",
    "df.shape"
   ]
  },
  {
   "cell_type": "code",
   "execution_count": 38,
   "metadata": {},
   "outputs": [
    {
     "data": {
      "text/html": "<div>\n<style scoped>\n    .dataframe tbody tr th:only-of-type {\n        vertical-align: middle;\n    }\n\n    .dataframe tbody tr th {\n        vertical-align: top;\n    }\n\n    .dataframe thead th {\n        text-align: right;\n    }\n</style>\n<table border=\"1\" class=\"dataframe\">\n  <thead>\n    <tr style=\"text-align: right;\">\n      <th></th>\n      <th>Principal Approve Amount</th>\n      <th>Principal Amount</th>\n      <th>Repayment Tenor Month Number</th>\n      <th>Gender</th>\n      <th>Occupation Description</th>\n      <th>Total Income Amount (Month)</th>\n      <th>Collateral Type Code</th>\n      <th>Vehicle Brand</th>\n      <th>Vehicle Model</th>\n      <th>Vehicle Release Year</th>\n      <th>System CAR Code (Daily)</th>\n      <th>Final CAR Code Previous Month</th>\n      <th>Day Past Due (Aging)</th>\n    </tr>\n  </thead>\n  <tbody>\n    <tr>\n      <th>0</th>\n      <td>20000.0</td>\n      <td>13492.22</td>\n      <td>12</td>\n      <td>M</td>\n      <td>พนักงานส่งเอกสาร</td>\n      <td>25000.09</td>\n      <td>MC</td>\n      <td>HONDA</td>\n      <td>PCX 160</td>\n      <td>2018</td>\n      <td>S1</td>\n      <td>S1</td>\n      <td>0</td>\n    </tr>\n    <tr>\n      <th>1</th>\n      <td>130000.0</td>\n      <td>125931.40</td>\n      <td>60</td>\n      <td>F</td>\n      <td>ว่างงาน</td>\n      <td>15000.00</td>\n      <td>CAR</td>\n      <td>HONDA</td>\n      <td>CIVIC</td>\n      <td>2005</td>\n      <td>S1</td>\n      <td>S1</td>\n      <td>0</td>\n    </tr>\n    <tr>\n      <th>2</th>\n      <td>70000.0</td>\n      <td>60867.83</td>\n      <td>36</td>\n      <td>M</td>\n      <td>พนักงานส่งเอกสาร</td>\n      <td>20000.00</td>\n      <td>MC</td>\n      <td>YAMAHA</td>\n      <td>N-MAX 155</td>\n      <td>2021</td>\n      <td>S1</td>\n      <td>S1</td>\n      <td>0</td>\n    </tr>\n    <tr>\n      <th>3</th>\n      <td>3000.0</td>\n      <td>1585.66</td>\n      <td>13</td>\n      <td>M</td>\n      <td>STREET VENDOR</td>\n      <td>30000.00</td>\n      <td>MC</td>\n      <td>HONDA</td>\n      <td>WAVE 125 I</td>\n      <td>2010</td>\n      <td>S1</td>\n      <td>S1</td>\n      <td>0</td>\n    </tr>\n    <tr>\n      <th>4</th>\n      <td>22700.0</td>\n      <td>19307.33</td>\n      <td>24</td>\n      <td>M</td>\n      <td>พนักงานบริษัท</td>\n      <td>13000.00</td>\n      <td>MC</td>\n      <td>YAMAHA</td>\n      <td>FINO (MLEKE)</td>\n      <td>2010</td>\n      <td>S1</td>\n      <td>S1</td>\n      <td>0</td>\n    </tr>\n  </tbody>\n</table>\n</div>",
      "text/plain": "   Principal Approve Amount  Principal Amount  Repayment Tenor Month Number  \\\n0                   20000.0          13492.22                            12   \n1                  130000.0         125931.40                            60   \n2                   70000.0          60867.83                            36   \n3                    3000.0           1585.66                            13   \n4                   22700.0          19307.33                            24   \n\n  Gender Occupation Description  Total Income Amount (Month)  \\\n0      M       พนักงานส่งเอกสาร                     25000.09   \n1      F                ว่างงาน                     15000.00   \n2      M       พนักงานส่งเอกสาร                     20000.00   \n3      M          STREET VENDOR                     30000.00   \n4      M          พนักงานบริษัท                     13000.00   \n\n  Collateral Type Code Vehicle Brand Vehicle Model  Vehicle Release Year  \\\n0                   MC         HONDA       PCX 160                  2018   \n1                  CAR         HONDA         CIVIC                  2005   \n2                   MC        YAMAHA     N-MAX 155                  2021   \n3                   MC         HONDA    WAVE 125 I                  2010   \n4                   MC        YAMAHA  FINO (MLEKE)                  2010   \n\n  System CAR Code (Daily) Final CAR Code Previous Month  Day Past Due (Aging)  \n0                      S1                            S1                     0  \n1                      S1                            S1                     0  \n2                      S1                            S1                     0  \n3                      S1                            S1                     0  \n4                      S1                            S1                     0  "
     },
     "execution_count": 38,
     "metadata": {},
     "output_type": "execute_result"
    }
   ],
   "source": [
    "df = df.drop(['Application Number'], axis=1)\r\n",
    "df.head()\r\n"
   ]
  },
  {
   "cell_type": "code",
   "execution_count": 41,
   "metadata": {},
   "outputs": [
    {
     "data": {
      "text/plain": "MC     25638\nPU     14157\nCAR    12131\nVAN      382\n4WH      328\n6WH      183\n10W      124\nOTH        1\nName: Collateral Type Code, dtype: int64"
     },
     "execution_count": 41,
     "metadata": {},
     "output_type": "execute_result"
    }
   ],
   "source": [
    "df['Collateral Type Code'].value_counts()"
   ]
  },
  {
   "cell_type": "code",
   "execution_count": 47,
   "metadata": {},
   "outputs": [
    {
     "data": {
      "text/plain": "(50936, 13)"
     },
     "execution_count": 47,
     "metadata": {},
     "output_type": "execute_result"
    }
   ],
   "source": [
    "df0 = df[df['Day Past Due (Aging)']==0]\r\n",
    "df0.shape"
   ]
  },
  {
   "cell_type": "code",
   "execution_count": 50,
   "metadata": {},
   "outputs": [
    {
     "data": {
      "text/plain": "(1426, 13)"
     },
     "execution_count": 50,
     "metadata": {},
     "output_type": "execute_result"
    }
   ],
   "source": [
    "#df1 = df[(df.a != -1) & (df.b != -1)]\r\n",
    "\r\n",
    "df1_30 = df[(df['Day Past Due (Aging)'] >= 1) & (df['Day Past Due (Aging)'] <= 30)]\r\n",
    "df1_30.shape"
   ]
  },
  {
   "cell_type": "code",
   "execution_count": 51,
   "metadata": {},
   "outputs": [
    {
     "data": {
      "text/plain": "(429, 13)"
     },
     "execution_count": 51,
     "metadata": {},
     "output_type": "execute_result"
    }
   ],
   "source": [
    "df31_60 = df[(df['Day Past Due (Aging)'] >= 30) & (df['Day Past Due (Aging)'] <= 60)]\r\n",
    "df31_60.shape"
   ]
  },
  {
   "cell_type": "code",
   "execution_count": 52,
   "metadata": {},
   "outputs": [
    {
     "data": {
      "text/plain": "(96, 13)"
     },
     "execution_count": 52,
     "metadata": {},
     "output_type": "execute_result"
    }
   ],
   "source": [
    "df61_90 = df[(df['Day Past Due (Aging)'] >= 60) & (df['Day Past Due (Aging)'] <= 90)]\r\n",
    "df61_90.shape"
   ]
  },
  {
   "cell_type": "code",
   "execution_count": 53,
   "metadata": {},
   "outputs": [
    {
     "data": {
      "text/plain": "(57, 13)"
     },
     "execution_count": 53,
     "metadata": {},
     "output_type": "execute_result"
    }
   ],
   "source": [
    "df90up = df[df['Day Past Due (Aging)']>=90]\r\n",
    "df90up.shape"
   ]
  },
  {
   "cell_type": "code",
   "execution_count": null,
   "metadata": {},
   "outputs": [],
   "source": []
  }
 ],
 "metadata": {
  "kernelspec": {
   "display_name": "Python 3.8.5 64-bit",
   "name": "python385jvsc74a57bd02db524e06e9f5f4ffedc911c917cb75e12dbc923643829bf417064a77eb14d37"
  },
  "language_info": {
   "name": "python",
   "version": ""
  },
  "metadata": {
   "interpreter": {
    "hash": "2db524e06e9f5f4ffedc911c917cb75e12dbc923643829bf417064a77eb14d37"
   }
  },
  "orig_nbformat": 2
 },
 "nbformat": 4,
 "nbformat_minor": 2
}